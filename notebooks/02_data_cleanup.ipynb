{
 "cells": [
  {
   "metadata": {},
   "cell_type": "markdown",
   "source": [
    "# Cleanup of data\n",
    "\n",
    "##### Unused data will be cleaned up in this notebook and classess will be simplified to binary classification."
   ],
   "id": "d38d754767552180"
  },
  {
   "metadata": {},
   "cell_type": "markdown",
   "source": [
    "- Remove unused files and directories\n",
    "- Rename files according to their labels\n",
    "- Create label 0 for healthy and 1 for all cases of retinopathy (mild, moderate, severe, proliferative)"
   ],
   "id": "a26edda8a63828a0"
  },
  {
   "metadata": {
    "ExecuteTime": {
     "end_time": "2024-04-19T20:26:06.551002Z",
     "start_time": "2024-04-19T20:21:41.211677Z"
    }
   },
   "cell_type": "code",
   "source": "!make -C .. clean-data",
   "id": "a7508d5064aab55",
   "outputs": [
    {
     "name": "stdout",
     "output_type": "stream",
     "text": [
      "poetry run python scripts/data/rename_files.py\r\n",
      "  0%|                                                     | 0/4 [00:00<?, ?it/s]Removed data/raw/labels/trainLabels19.csv\r\n",
      "Removed data/raw/labels/trainLabels15.csv\r\n",
      "Removed data/raw/labels/testLabels15.csv\r\n",
      "Removed data/raw/labels/testImages19.csv\r\n",
      "100%|███████████████████████████████████████████| 4/4 [00:00<00:00, 4657.75it/s]\r\n",
      "Removed data/raw/resized_test19 directory\r\n",
      "Renamed `raw/resized_traintest15_train19` to `raw/images`\r\n",
      "Renamed `raw/labels/traintestLabels15_trainLabels19` to raw/labels.csv\r\n",
      "Renaming labels to 0 (healthy) and 1 (diabetic retinopathy)...\r\n",
      "Moving images to their respective category directories...\r\n",
      "92364it [04:24, 349.28it/s]\r\n"
     ]
    }
   ],
   "execution_count": 1
  },
  {
   "metadata": {},
   "cell_type": "markdown",
   "source": [
    "## Split data in train, validation, and test sets.\n",
    "Split data with ration 70:20:10"
   ],
   "id": "f539e1305e9f60c9"
  },
  {
   "metadata": {
    "ExecuteTime": {
     "end_time": "2024-04-19T20:29:55.534431Z",
     "start_time": "2024-04-19T20:29:02.440156Z"
    }
   },
   "cell_type": "code",
   "source": "!make -C .. split-data",
   "id": "433e09f33367ec60",
   "outputs": [
    {
     "name": "stdout",
     "output_type": "stream",
     "text": [
      "poetry run python scripts/data/train_val_test_split.py\r\n",
      "Splitting folders into train, validation, test sets (70%/20%/10%).\r\n",
      "Copying files: 92364 files [00:52, 1760.23 files/s]\r\n",
      "Done - files stored in data/processed\r\n"
     ]
    }
   ],
   "execution_count": 2
  },
  {
   "metadata": {},
   "cell_type": "code",
   "outputs": [],
   "execution_count": null,
   "source": "",
   "id": "6ca57966ea66365f"
  }
 ],
 "metadata": {
  "kernelspec": {
   "display_name": "Python 3",
   "language": "python",
   "name": "python3"
  },
  "language_info": {
   "codemirror_mode": {
    "name": "ipython",
    "version": 2
   },
   "file_extension": ".py",
   "mimetype": "text/x-python",
   "name": "python",
   "nbconvert_exporter": "python",
   "pygments_lexer": "ipython2",
   "version": "2.7.6"
  }
 },
 "nbformat": 4,
 "nbformat_minor": 5
}
