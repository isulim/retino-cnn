{
 "cells": [
  {
   "cell_type": "markdown",
   "source": [
    "# Exploration of the data"
   ],
   "metadata": {
    "collapsed": false
   },
   "id": "c11868a07edaff6c"
  },
  {
   "cell_type": "code",
   "outputs": [],
   "source": [
    "import os\n",
    "\n",
    "import pandas as pd\n",
    "\n",
    "from dotenv import load_dotenv\n",
    "load_dotenv()\n",
    "root_data = os.getenv(\"KAGGLE_FILES_DIR\")"
   ],
   "metadata": {
    "collapsed": false,
    "ExecuteTime": {
     "end_time": "2024-02-26T20:49:05.484790Z",
     "start_time": "2024-02-26T20:49:05.480631Z"
    }
   },
   "id": "eff8674f9a9a08e3",
   "execution_count": 31
  },
  {
   "cell_type": "code",
   "outputs": [
    {
     "name": "stdout",
     "output_type": "stream",
     "text": [
      "|    |   Unnamed: 0 | image           | class   | format   | mode   | shape         |\n",
      "|---:|-------------:|:----------------|:--------|:---------|:-------|:--------------|\n",
      "|  0 |            0 | Cancer (1).jpg  | tumor   | JPEG     | RGB    | (512, 512, 3) |\n",
      "|  1 |            1 | Cancer (1).png  | tumor   | PNG      | L      | (300, 240)    |\n",
      "|  2 |            2 | Cancer (1).tif  | tumor   | TIFF     | RGB    | (256, 256, 3) |\n",
      "|  3 |            3 | Cancer (10).jpg | tumor   | JPEG     | RGB    | (512, 512, 3) |\n",
      "|  4 |            4 | Cancer (10).tif | tumor   | TIFF     | RGB    | (256, 256, 3) |\n"
     ]
    }
   ],
   "source": [
    "dataset_path = os.path.join(os.getcwd(), \"..\", root_data, 'raw')\n",
    "\n",
    "labels = pd.read_csv(os.path.join(dataset_path, 'metadata.csv'))\n",
    "print(labels.head().to_markdown())"
   ],
   "metadata": {
    "collapsed": false,
    "ExecuteTime": {
     "end_time": "2024-02-26T20:49:05.641764Z",
     "start_time": "2024-02-26T20:49:05.634021Z"
    }
   },
   "id": "8b1f9b0c64f04df3",
   "execution_count": 32
  },
  {
   "cell_type": "markdown",
   "source": [
    "Image names are already changed and classes will be determined by directory structure."
   ],
   "metadata": {
    "collapsed": false
   },
   "id": "4a39cc4763e239"
  },
  {
   "cell_type": "code",
   "outputs": [
    {
     "data": {
      "text/plain": "(4600, 6)"
     },
     "execution_count": 33,
     "metadata": {},
     "output_type": "execute_result"
    }
   ],
   "source": [
    "labels.shape"
   ],
   "metadata": {
    "collapsed": false,
    "ExecuteTime": {
     "end_time": "2024-02-26T20:49:07.131574Z",
     "start_time": "2024-02-26T20:49:07.128983Z"
    }
   },
   "id": "6537903a62e370bf",
   "execution_count": 33
  },
  {
   "cell_type": "markdown",
   "source": [
    "# Split dataset into train and test"
   ],
   "metadata": {
    "collapsed": false
   },
   "id": "d807ed39598de9e"
  },
  {
   "cell_type": "code",
   "outputs": [],
   "source": [
    "from pathlib import Path\n",
    "\n",
    "data_dir = os.path.join(dataset_path)\n",
    "data_dir = Path(data_dir)"
   ],
   "metadata": {
    "collapsed": false,
    "ExecuteTime": {
     "end_time": "2024-02-26T20:49:49.073425Z",
     "start_time": "2024-02-26T20:49:49.068733Z"
    }
   },
   "id": "985ce6a1fe6162c0",
   "execution_count": 36
  },
  {
   "cell_type": "markdown",
   "source": [
    "Splitting folders into train and test (80%/20% ratio)"
   ],
   "metadata": {
    "collapsed": false
   },
   "id": "7e8b3e864bbdec57"
  },
  {
   "cell_type": "code",
   "outputs": [
    {
     "name": "stderr",
     "output_type": "stream",
     "text": [
      "Copying files: 4600 files [00:00, 5430.57 files/s]\n"
     ]
    }
   ],
   "source": [
    "import splitfolders\n",
    "\n",
    "split = os.path.join(root_data, 'processed')\n",
    "os.makedirs(split, exist_ok=True)\n",
    "\n",
    "splitfolders.ratio(data_dir, output=split, seed=42, ratio=(0.8, 0.2))"
   ],
   "metadata": {
    "collapsed": false,
    "ExecuteTime": {
     "end_time": "2024-02-26T20:49:50.780559Z",
     "start_time": "2024-02-26T20:49:49.924996Z"
    }
   },
   "id": "60b58802634d90b7",
   "execution_count": 37
  },
  {
   "cell_type": "code",
   "outputs": [],
   "source": [],
   "metadata": {
    "collapsed": false
   },
   "id": "a2a2fda76b5db6fb"
  }
 ],
 "metadata": {
  "kernelspec": {
   "display_name": "Python 3",
   "language": "python",
   "name": "python3"
  },
  "language_info": {
   "codemirror_mode": {
    "name": "ipython",
    "version": 2
   },
   "file_extension": ".py",
   "mimetype": "text/x-python",
   "name": "python",
   "nbconvert_exporter": "python",
   "pygments_lexer": "ipython2",
   "version": "2.7.6"
  }
 },
 "nbformat": 4,
 "nbformat_minor": 5
}
