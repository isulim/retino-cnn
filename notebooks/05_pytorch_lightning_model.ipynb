{
 "cells": [
  {
   "metadata": {},
   "cell_type": "markdown",
   "source": [
    "# Pytorch Lightning\n",
    "#### Experiments using Pytorch Lightning to build custom CNN classification model."
   ],
   "id": "d1d72b5a73fd5a64"
  },
  {
   "metadata": {},
   "cell_type": "markdown",
   "source": [
    "\n",
    "Pytorch Lightning implementation\n",
    "In this notebook I will implement CNN model using Pytorch Lightning. This model will be more flexible, than model from initial_experiments.ipynb, to provide more hyperparameters for training sessions."
   ],
   "id": "69528e4b5669e638"
  },
  {
   "metadata": {
    "ExecuteTime": {
     "end_time": "2024-04-22T17:24:07.227271Z",
     "start_time": "2024-04-22T17:24:07.225616Z"
    }
   },
   "cell_type": "code",
   "source": "from scripts.models.lightning_model import LightningCNN, ImageDataModule",
   "id": "79048039af66d5ad",
   "outputs": [],
   "execution_count": 3
  },
  {
   "metadata": {
    "ExecuteTime": {
     "end_time": "2024-04-22T17:24:08.122369Z",
     "start_time": "2024-04-22T17:24:08.117424Z"
    }
   },
   "cell_type": "code",
   "source": [
    "import os\n",
    "from pathlib import Path\n",
    "\n",
    "from dotenv import load_dotenv\n",
    "load_dotenv()\n",
    "root_data = os.getenv(\"KAGGLE_FILES_DIR\")\n",
    "dataset_path = Path(os.getcwd(), \"..\", root_data, 'processed')"
   ],
   "id": "276f45afe2783a24",
   "outputs": [],
   "execution_count": 4
  },
  {
   "metadata": {},
   "cell_type": "markdown",
   "source": "Transformations by default are only resizing to 256x256.",
   "id": "2f0aead92bc253b8"
  },
  {
   "metadata": {
    "ExecuteTime": {
     "end_time": "2024-04-22T17:25:26.908755Z",
     "start_time": "2024-04-22T17:25:26.906211Z"
    }
   },
   "cell_type": "code",
   "source": "datamodule = ImageDataModule(data_dir=dataset_path, batch_size=32)",
   "id": "57ce0f9fc6157fa6",
   "outputs": [],
   "execution_count": 5
  },
  {
   "metadata": {},
   "cell_type": "markdown",
   "source": [
    "# Training\n",
    "1st model parameters:\n",
    "- conv_layers: 5\n",
    "- fc_layer_sizes: (256, 128)\n",
    "- input_size: torch.Size([3, 256, 256])\n",
    "- out_classes: 1\n",
    "- initial_filters: 32\n",
    "- hl_kernel_size: 5\n",
    "- activation_func: nn.ReLU\n",
    "- max_pool_kernel: 2\n",
    "- dropout_conv: False\n",
    "- dropout_fc: False\n",
    "- dropout_rate: 0.5\n",
    "- initial_learning_rate: 0.01\n",
    "- loss_func: nn.BCEWithLogitsLoss\n",
    "- optimizer: Adam\n",
    "- metrics: Accuracy, Precision, Recall, F1, AUC, ConfusionMatrix"
   ],
   "id": "b1d55bf536b32360"
  },
  {
   "metadata": {
    "ExecuteTime": {
     "end_time": "2024-04-22T17:30:38.047476Z",
     "start_time": "2024-04-22T17:30:38.003907Z"
    }
   },
   "cell_type": "code",
   "source": [
    "import torch\n",
    "import pytorch_lightning as pl\n",
    "\n",
    "model_1 = LightningCNN(\n",
    "    conv_layers=5,\n",
    "    fc_layer_sizes=(256, 128),\n",
    "    input_size=torch.Size([3, 256, 256]),\n",
    "    initial_filters=32,\n",
    "    out_classes=1,\n",
    "    hl_kernel_size=5,\n",
    "    max_pool_kernel=2,\n",
    "    dropout_conv=False,\n",
    "    dropout_fc=False,\n",
    "    initial_learning_rate=0.01\n",
    ")\n",
    "\n",
    "checkpoint_callback = pl.callbacks.ModelCheckpoint(\n",
    "    monitor='valid_loss',\n",
    "    dirpath='../models/lightning',\n",
    "    filename='model-9M-5conv-nodrop-{epoch:02d}-{valid_loss:.2f}',\n",
    "    save_top_k=2,\n",
    "    mode='min') \n",
    "\n",
    "early_stopping = pl.callbacks.EarlyStopping(\n",
    "    monitor='valid_loss',\n",
    "    min_delta=0.001,\n",
    "    patience=5,\n",
    "    verbose=True,\n",
    "    mode='min'\n",
    ")\n",
    "\n",
    "trainer = pl.Trainer(\n",
    "    max_epochs=100,\n",
    "    callbacks=[checkpoint_callback, early_stopping]\n",
    ")"
   ],
   "id": "bc175ad1f2f242b1",
   "outputs": [
    {
     "name": "stderr",
     "output_type": "stream",
     "text": [
      "GPU available: True (mps), used: True\n",
      "TPU available: False, using: 0 TPU cores\n",
      "IPU available: False, using: 0 IPUs\n",
      "HPU available: False, using: 0 HPUs\n"
     ]
    }
   ],
   "execution_count": 8
  },
  {
   "metadata": {
    "ExecuteTime": {
     "end_time": "2024-04-22T18:50:52.410388Z",
     "start_time": "2024-04-22T17:30:39.008240Z"
    }
   },
   "cell_type": "code",
   "source": "trainer.fit(model_1, datamodule)",
   "id": "5f7fffe090c408f6",
   "outputs": [
    {
     "name": "stderr",
     "output_type": "stream",
     "text": [
      "\n",
      "  | Name          | Type                  | Params\n",
      "--------------------------------------------------------\n",
      "0 | loss_func     | BCEWithLogitsLoss     | 0     \n",
      "1 | accuracy      | BinaryAccuracy        | 0     \n",
      "2 | precision     | BinaryPrecision       | 0     \n",
      "3 | recall        | BinaryRecall          | 0     \n",
      "4 | f1            | BinaryF1Score         | 0     \n",
      "5 | auc           | BinaryAUROC           | 0     \n",
      "6 | confmat       | BinaryConfusionMatrix | 0     \n",
      "7 | hidden_layers | Sequential            | 4.4 M \n",
      "8 | fc_layers     | Sequential            | 4.8 M \n",
      "--------------------------------------------------------\n",
      "9.1 M     Trainable params\n",
      "0         Non-trainable params\n",
      "9.1 M     Total params\n",
      "36.429    Total estimated model params size (MB)\n"
     ]
    },
    {
     "data": {
      "text/plain": [
       "Sanity Checking: |          | 0/? [00:00<?, ?it/s]"
      ],
      "application/vnd.jupyter.widget-view+json": {
       "version_major": 2,
       "version_minor": 0,
       "model_id": "b6e0c53b671b4bae82b78ac87045d7fa"
      }
     },
     "metadata": {},
     "output_type": "display_data"
    },
    {
     "name": "stderr",
     "output_type": "stream",
     "text": [
      "/Users/isulim/Sages/retino-cnn/.venv/lib/python3.12/site-packages/torchmetrics/utilities/prints.py:43: UserWarning: No positive samples in targets, true positive value should be meaningless. Returning zero tensor in true positive score\n",
      "  warnings.warn(*args, **kwargs)  # noqa: B028\n"
     ]
    },
    {
     "data": {
      "text/plain": [
       "Training: |          | 0/? [00:00<?, ?it/s]"
      ],
      "application/vnd.jupyter.widget-view+json": {
       "version_major": 2,
       "version_minor": 0,
       "model_id": "334bfc76a6bd45fcb50de26b8ac14280"
      }
     },
     "metadata": {},
     "output_type": "display_data"
    },
    {
     "data": {
      "text/plain": [
       "Validation: |          | 0/? [00:00<?, ?it/s]"
      ],
      "application/vnd.jupyter.widget-view+json": {
       "version_major": 2,
       "version_minor": 0,
       "model_id": "a382b80ea5694769bd0f485cfb73ca09"
      }
     },
     "metadata": {},
     "output_type": "display_data"
    },
    {
     "name": "stderr",
     "output_type": "stream",
     "text": [
      "/Users/isulim/Sages/retino-cnn/.venv/lib/python3.12/site-packages/torchmetrics/utilities/prints.py:43: UserWarning: The ``compute`` method of metric BinaryAccuracy was called before the ``update`` method which may lead to errors, as metric states have not yet been updated.\n",
      "  warnings.warn(*args, **kwargs)  # noqa: B028\n",
      "Metric valid_loss improved. New best score: 0.587\n"
     ]
    },
    {
     "data": {
      "text/plain": [
       "Validation: |          | 0/? [00:00<?, ?it/s]"
      ],
      "application/vnd.jupyter.widget-view+json": {
       "version_major": 2,
       "version_minor": 0,
       "model_id": "5fe5d763736244ffaff637bfd490e33f"
      }
     },
     "metadata": {},
     "output_type": "display_data"
    },
    {
     "data": {
      "text/plain": [
       "Validation: |          | 0/? [00:00<?, ?it/s]"
      ],
      "application/vnd.jupyter.widget-view+json": {
       "version_major": 2,
       "version_minor": 0,
       "model_id": "710bd89f6411411c9dbce805950a02c8"
      }
     },
     "metadata": {},
     "output_type": "display_data"
    },
    {
     "data": {
      "text/plain": [
       "Validation: |          | 0/? [00:00<?, ?it/s]"
      ],
      "application/vnd.jupyter.widget-view+json": {
       "version_major": 2,
       "version_minor": 0,
       "model_id": "af1bfda16a394b6e99c4c0ddbdf33509"
      }
     },
     "metadata": {},
     "output_type": "display_data"
    },
    {
     "data": {
      "text/plain": [
       "Validation: |          | 0/? [00:00<?, ?it/s]"
      ],
      "application/vnd.jupyter.widget-view+json": {
       "version_major": 2,
       "version_minor": 0,
       "model_id": "1d1bd167bd744df8b100c60cbb82e955"
      }
     },
     "metadata": {},
     "output_type": "display_data"
    },
    {
     "data": {
      "text/plain": [
       "Validation: |          | 0/? [00:00<?, ?it/s]"
      ],
      "application/vnd.jupyter.widget-view+json": {
       "version_major": 2,
       "version_minor": 0,
       "model_id": "6dc6602944324bc3b0a8e1ef81007b8b"
      }
     },
     "metadata": {},
     "output_type": "display_data"
    },
    {
     "name": "stderr",
     "output_type": "stream",
     "text": [
      "Monitored metric valid_loss did not improve in the last 5 records. Best score: 0.587. Signaling Trainer to stop.\n"
     ]
    }
   ],
   "execution_count": 9
  },
  {
   "metadata": {
    "ExecuteTime": {
     "end_time": "2024-04-22T18:54:16.715870Z",
     "start_time": "2024-04-22T18:52:55.141420Z"
    }
   },
   "cell_type": "code",
   "source": "trainer.test(model_1, datamodule)",
   "id": "417c21cea59a6422",
   "outputs": [
    {
     "data": {
      "text/plain": [
       "Testing: |          | 0/? [00:00<?, ?it/s]"
      ],
      "application/vnd.jupyter.widget-view+json": {
       "version_major": 2,
       "version_minor": 0,
       "model_id": "4320b76e7abb4441b1d295a868fdec3c"
      }
     },
     "metadata": {},
     "output_type": "display_data"
    },
    {
     "data": {
      "text/plain": [
       "┏━━━━━━━━━━━━━━━━━━━━━━━━━━━┳━━━━━━━━━━━━━━━━━━━━━━━━━━━┓\n",
       "┃\u001B[1m \u001B[0m\u001B[1m       Test metric       \u001B[0m\u001B[1m \u001B[0m┃\u001B[1m \u001B[0m\u001B[1m      DataLoader 0       \u001B[0m\u001B[1m \u001B[0m┃\n",
       "┡━━━━━━━━━━━━━━━━━━━━━━━━━━━╇━━━━━━━━━━━━━━━━━━━━━━━━━━━┩\n",
       "│\u001B[36m \u001B[0m\u001B[36m      test_accuracy      \u001B[0m\u001B[36m \u001B[0m│\u001B[35m \u001B[0m\u001B[35m   0.7269971966743469    \u001B[0m\u001B[35m \u001B[0m│\n",
       "│\u001B[36m \u001B[0m\u001B[36m        test_auc         \u001B[0m\u001B[36m \u001B[0m│\u001B[35m \u001B[0m\u001B[35m           0.0           \u001B[0m\u001B[35m \u001B[0m│\n",
       "│\u001B[36m \u001B[0m\u001B[36m         test_f1         \u001B[0m\u001B[36m \u001B[0m│\u001B[35m \u001B[0m\u001B[35m           0.0           \u001B[0m\u001B[35m \u001B[0m│\n",
       "│\u001B[36m \u001B[0m\u001B[36m        test_loss        \u001B[0m\u001B[36m \u001B[0m│\u001B[35m \u001B[0m\u001B[35m   0.5862252116203308    \u001B[0m\u001B[35m \u001B[0m│\n",
       "│\u001B[36m \u001B[0m\u001B[36m     test_precision      \u001B[0m\u001B[36m \u001B[0m│\u001B[35m \u001B[0m\u001B[35m           0.0           \u001B[0m\u001B[35m \u001B[0m│\n",
       "│\u001B[36m \u001B[0m\u001B[36m       test_recall       \u001B[0m\u001B[36m \u001B[0m│\u001B[35m \u001B[0m\u001B[35m           0.0           \u001B[0m\u001B[35m \u001B[0m│\n",
       "└───────────────────────────┴───────────────────────────┘\n"
      ],
      "text/html": [
       "<pre style=\"white-space:pre;overflow-x:auto;line-height:normal;font-family:Menlo,'DejaVu Sans Mono',consolas,'Courier New',monospace\">┏━━━━━━━━━━━━━━━━━━━━━━━━━━━┳━━━━━━━━━━━━━━━━━━━━━━━━━━━┓\n",
       "┃<span style=\"font-weight: bold\">        Test metric        </span>┃<span style=\"font-weight: bold\">       DataLoader 0        </span>┃\n",
       "┡━━━━━━━━━━━━━━━━━━━━━━━━━━━╇━━━━━━━━━━━━━━━━━━━━━━━━━━━┩\n",
       "│<span style=\"color: #008080; text-decoration-color: #008080\">       test_accuracy       </span>│<span style=\"color: #800080; text-decoration-color: #800080\">    0.7269971966743469     </span>│\n",
       "│<span style=\"color: #008080; text-decoration-color: #008080\">         test_auc          </span>│<span style=\"color: #800080; text-decoration-color: #800080\">            0.0            </span>│\n",
       "│<span style=\"color: #008080; text-decoration-color: #008080\">          test_f1          </span>│<span style=\"color: #800080; text-decoration-color: #800080\">            0.0            </span>│\n",
       "│<span style=\"color: #008080; text-decoration-color: #008080\">         test_loss         </span>│<span style=\"color: #800080; text-decoration-color: #800080\">    0.5862252116203308     </span>│\n",
       "│<span style=\"color: #008080; text-decoration-color: #008080\">      test_precision       </span>│<span style=\"color: #800080; text-decoration-color: #800080\">            0.0            </span>│\n",
       "│<span style=\"color: #008080; text-decoration-color: #008080\">        test_recall        </span>│<span style=\"color: #800080; text-decoration-color: #800080\">            0.0            </span>│\n",
       "└───────────────────────────┴───────────────────────────┘\n",
       "</pre>\n"
      ]
     },
     "metadata": {},
     "output_type": "display_data"
    },
    {
     "data": {
      "text/plain": [
       "[{'test_loss': 0.5862252116203308,\n",
       "  'test_accuracy': 0.7269971966743469,\n",
       "  'test_precision': 0.0,\n",
       "  'test_recall': 0.0,\n",
       "  'test_f1': 0.0,\n",
       "  'test_auc': 0.0}]"
      ]
     },
     "execution_count": 11,
     "metadata": {},
     "output_type": "execute_result"
    }
   ],
   "execution_count": 11
  },
  {
   "metadata": {},
   "cell_type": "markdown",
   "source": "Accuracy: 0.72 -> this is no better than distribution of classes in dataset.",
   "id": "83721064a1fbfc6a"
  },
  {
   "metadata": {},
   "cell_type": "markdown",
   "source": [
    "# Training\n",
    "2nd model parameters:\n",
    "- conv_layers: 6\n",
    "- fc_layer_sizes: (256, 128)\n",
    "- input_size: torch.Size([3, 256, 256])\n",
    "- out_classes: 1\n",
    "- initial_filters: 32\n",
    "- hl_kernel_size: 5\n",
    "- activation_func: nn.ReLU\n",
    "- max_pool_kernel: 2\n",
    "- dropout_conv: True\n",
    "- dropout_fc: True\n",
    "- dropout_rate: 0.5\n",
    "- initial_learning_rate: 0.01\n",
    "- loss_func: nn.BCEWithLogitsLoss\n",
    "- optimizer: Adam\n",
    "- metrics: Accuracy, Precision, Recall, F1, AUC, ConfusionMatrix"
   ],
   "id": "3e43bd1612c949b6"
  },
  {
   "metadata": {
    "ExecuteTime": {
     "end_time": "2024-04-22T19:09:15.154471Z",
     "start_time": "2024-04-22T19:09:15.110558Z"
    }
   },
   "cell_type": "code",
   "source": [
    "\n",
    "model_2 = LightningCNN(\n",
    "    conv_layers=6,\n",
    "    fc_layer_sizes=(256, 128),\n",
    "    input_size=torch.Size([3, 256, 256]),\n",
    "    initial_filters=32,\n",
    "    out_classes=1,\n",
    "    hl_kernel_size=5,\n",
    "    max_pool_kernel=2,\n",
    "    dropout_conv=True,\n",
    "    dropout_fc=True,\n",
    "    dropout_rate=0.5,\n",
    "    initial_learning_rate=0.01\n",
    ")\n",
    "\n",
    "checkpoint_callback = pl.callbacks.ModelCheckpoint(\n",
    "    monitor='valid_loss',\n",
    "    dirpath='../models/lightning',\n",
    "    filename='model-18M-6conv-0.5drop-{epoch:02d}-{valid_loss:.2f}',\n",
    "    save_top_k=2,\n",
    "    mode='min') \n",
    "\n",
    "early_stopping = pl.callbacks.EarlyStopping(\n",
    "    monitor='valid_loss',\n",
    "    min_delta=0.001,\n",
    "    patience=5,\n",
    "    verbose=True,\n",
    "    mode='min'\n",
    ")\n",
    "\n",
    "trainer = pl.Trainer(\n",
    "    max_epochs=100,\n",
    "    callbacks=[checkpoint_callback, early_stopping]\n",
    ")"
   ],
   "id": "6036010eb9e53477",
   "outputs": [
    {
     "name": "stderr",
     "output_type": "stream",
     "text": [
      "GPU available: True (mps), used: True\n",
      "TPU available: False, using: 0 TPU cores\n",
      "IPU available: False, using: 0 IPUs\n",
      "HPU available: False, using: 0 HPUs\n"
     ]
    }
   ],
   "execution_count": 14
  },
  {
   "metadata": {
    "ExecuteTime": {
     "end_time": "2024-04-22T19:09:26.691432Z",
     "start_time": "2024-04-22T19:09:15.871972Z"
    }
   },
   "cell_type": "code",
   "source": "trainer.fit(model_2, datamodule)",
   "id": "ae44ed3eec0b445f",
   "outputs": [
    {
     "name": "stderr",
     "output_type": "stream",
     "text": [
      "\n",
      "  | Name          | Type                  | Params\n",
      "--------------------------------------------------------\n",
      "0 | loss_func     | BCEWithLogitsLoss     | 0     \n",
      "1 | accuracy      | BinaryAccuracy        | 0     \n",
      "2 | precision     | BinaryPrecision       | 0     \n",
      "3 | recall        | BinaryRecall          | 0     \n",
      "4 | f1            | BinaryF1Score         | 0     \n",
      "5 | auc           | BinaryAUROC           | 0     \n",
      "6 | confmat       | BinaryConfusionMatrix | 0     \n",
      "7 | hidden_layers | Sequential            | 17.5 M\n",
      "8 | fc_layers     | Sequential            | 1.1 M \n",
      "--------------------------------------------------------\n",
      "18.5 M    Trainable params\n",
      "0         Non-trainable params\n",
      "18.5 M    Total params\n",
      "74.182    Total estimated model params size (MB)\n"
     ]
    },
    {
     "data": {
      "text/plain": [
       "Sanity Checking: |          | 0/? [00:00<?, ?it/s]"
      ],
      "application/vnd.jupyter.widget-view+json": {
       "version_major": 2,
       "version_minor": 0,
       "model_id": "c3580844b20c4847957f7a00221c4e02"
      }
     },
     "metadata": {},
     "output_type": "display_data"
    },
    {
     "name": "stderr",
     "output_type": "stream",
     "text": [
      "Traceback (most recent call last):\n",
      "  File \"<string>\", line 1, in <module>\n",
      "  File \"/Library/Frameworks/Python.framework/Versions/3.12/lib/python3.12/multiprocessing/spawn.py\", line 122, in spawn_main\n",
      "    exitcode = _main(fd, parent_sentinel)\n",
      "               ^^^^^^^^^^^^^^^^^^^^^^^^^^\n",
      "  File \"/Library/Frameworks/Python.framework/Versions/3.12/lib/python3.12/multiprocessing/spawn.py\", line 132, in _main\n",
      "    self = reduction.pickle.load(from_parent)\n",
      "           ^^^^^^^^^^^^^^^^^^^^^^^^^^^^^^^^^^\n",
      "  File \"/Users/isulim/Sages/retino-cnn/.venv/lib/python3.12/site-packages/torchvision/__init__.py\", line 6, in <module>\n",
      "    from torchvision import _meta_registrations, datasets, io, models, ops, transforms, utils\n",
      "  File \"/Users/isulim/Sages/retino-cnn/.venv/lib/python3.12/site-packages/torchvision/models/__init__.py\", line 2, in <module>\n",
      "    from .convnext import *\n",
      "  File \"/Users/isulim/Sages/retino-cnn/.venv/lib/python3.12/site-packages/torchvision/models/convnext.py\", line 8, in <module>\n",
      "    from ..ops.misc import Conv2dNormActivation, Permute\n",
      "  File \"/Users/isulim/Sages/retino-cnn/.venv/lib/python3.12/site-packages/torchvision/ops/__init__.py\", line 23, in <module>\n",
      "    from .poolers import MultiScaleRoIAlign\n",
      "  File \"/Users/isulim/Sages/retino-cnn/.venv/lib/python3.12/site-packages/torchvision/ops/poolers.py\", line 10, in <module>\n",
      "    from .roi_align import roi_align\n",
      "  File \"/Users/isulim/Sages/retino-cnn/.venv/lib/python3.12/site-packages/torchvision/ops/roi_align.py\", line 4, in <module>\n",
      "    import torch._dynamo\n",
      "  File \"/Users/isulim/Sages/retino-cnn/.venv/lib/python3.12/site-packages/torch/_dynamo/__init__.py\", line 2, in <module>\n",
      "    from . import allowed_functions, convert_frame, eval_frame, resume_execution\n",
      "  File \"/Users/isulim/Sages/retino-cnn/.venv/lib/python3.12/site-packages/torch/_dynamo/convert_frame.py\", line 45, in <module>\n",
      "    from .eval_frame import always_optimize_code_objects, skip_code, TorchPatcher\n",
      "  File \"/Users/isulim/Sages/retino-cnn/.venv/lib/python3.12/site-packages/torch/_dynamo/eval_frame.py\", line 69, in <module>\n",
      "    from . import config, convert_frame, external_utils, skipfiles, utils\n",
      "  File \"/Users/isulim/Sages/retino-cnn/.venv/lib/python3.12/site-packages/torch/_dynamo/skipfiles.py\"Exception ignored in: <function _MultiProcessingDataLoaderIter.__del__ at 0x1166bc5e0>\n",
      "Traceback (most recent call last):\n",
      "  File \"/Users/isulim/Sages/retino-cnn/.venv/lib/python3.12/site-packages/torch/utils/data/dataloader.py\", line 1479, in __del__\n",
      ", line 39, in <module>\n",
      "    from .variables.functions import (\n",
      "  File \"/Users/isulim/Sages/retino-cnn/.venv/lib/python3.12/site-packages/torch/_dynamo/variables/__init__.py\", line 2, in <module>\n",
      "    from .builtin import BuiltinVariable\n",
      "  File \"/Users/isulim/Sages/retino-cnn/.venv/lib/python3.12/site-packages/torch/_dynamo/variables/builtin.py\", line 43, in <module>\n",
      "    from .dicts import ConstDictVariable, DefaultDictVariable, SetVariable\n",
      "  File \"/Users/isulim/Sages/retino-cnn/.venv/lib/python3.12/site-packages/torch/_dynamo/variables/dicts.py\", line 21, in <module>\n",
      "    from .tensor import TensorVariable\n",
      "  File \"/Users/isulim/Sages/retino-cnn/.venv/lib/python3.12/site-packages/torch/_dynamo/variables/tensor.py\", line 50, in <module>\n",
      "    from .lists import SizeVariable\n",
      "  File \"/Users/isulim/Sages/retino-cnn/.venv/lib/python3.12/site-packages/torch/_dynamo/variables/lists.py\", line 30, in <module>\n",
      "    class BaseListVariable(VariableTracker):\n",
      "KeyboardInterrupt\n",
      "    self._shutdown_workers()\n",
      "  File \"/Users/isulim/Sages/retino-cnn/.venv/lib/python3.12/site-packages/torch/utils/data/dataloader.py\", line 1438, in _shutdown_workers\n",
      "    self._mark_worker_as_unavailable(worker_id, shutdown=True)\n",
      "  File \"/Users/isulim/Sages/retino-cnn/.venv/lib/python3.12/site-packages/torch/utils/data/dataloader.py\", line 1380, in _mark_worker_as_unavailable\n",
      "    assert self._workers_status[worker_id] or (self._persistent_workers and shutdown)\n",
      "           ^^^^^^^^^^^^^^^^^^^^\n",
      "AttributeError: '_MultiProcessingDataLoaderIter' object has no attribute '_workers_status'\n"
     ]
    }
   ],
   "execution_count": 15
  },
  {
   "metadata": {},
   "cell_type": "code",
   "outputs": [],
   "execution_count": null,
   "source": "",
   "id": "6f81fb444e753b6b"
  }
 ],
 "metadata": {
  "kernelspec": {
   "display_name": "Python 3",
   "language": "python",
   "name": "python3"
  },
  "language_info": {
   "codemirror_mode": {
    "name": "ipython",
    "version": 2
   },
   "file_extension": ".py",
   "mimetype": "text/x-python",
   "name": "python",
   "nbconvert_exporter": "python",
   "pygments_lexer": "ipython2",
   "version": "2.7.6"
  }
 },
 "nbformat": 4,
 "nbformat_minor": 5
}
