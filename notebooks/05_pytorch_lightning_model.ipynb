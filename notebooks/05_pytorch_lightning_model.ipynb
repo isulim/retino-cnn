{
 "cells": [
  {
   "cell_type": "markdown",
   "id": "d1d72b5a73fd5a64",
   "metadata": {},
   "source": [
    "# Pytorch Lightning\n",
    "#### Experiments using Pytorch Lightning to build custom CNN classification model."
   ]
  },
  {
   "cell_type": "markdown",
   "id": "69528e4b5669e638",
   "metadata": {},
   "source": [
    "\n",
    "Pytorch Lightning implementation\n",
    "In this notebook I will implement CNN model using Pytorch Lightning. This model will be more flexible, than model from initial_experiments.ipynb, to provide more hyperparameters for training sessions."
   ]
  },
  {
   "cell_type": "code",
   "execution_count": 1,
   "id": "79048039af66d5ad",
   "metadata": {
    "ExecuteTime": {
     "end_time": "2024-04-23T08:34:20.876865Z",
     "start_time": "2024-04-23T08:34:18.945616Z"
    }
   },
   "outputs": [],
   "source": [
    "from scripts.models.lightning_model import LightningCNN, ImageDataModule"
   ]
  },
  {
   "cell_type": "code",
   "execution_count": 2,
   "id": "276f45afe2783a24",
   "metadata": {
    "ExecuteTime": {
     "end_time": "2024-04-23T08:34:20.884467Z",
     "start_time": "2024-04-23T08:34:20.877801Z"
    }
   },
   "outputs": [],
   "source": [
    "import os\n",
    "from pathlib import Path\n",
    "\n",
    "from dotenv import load_dotenv\n",
    "load_dotenv()\n",
    "root_data = os.getenv(\"KAGGLE_FILES_DIR\")\n",
    "dataset_path = Path(os.getcwd(), \"..\", root_data, 'processed')"
   ]
  },
  {
   "cell_type": "markdown",
   "id": "2f0aead92bc253b8",
   "metadata": {},
   "source": [
    "Transformations by default are only resizing to 256x256."
   ]
  },
  {
   "cell_type": "code",
   "execution_count": 3,
   "id": "57ce0f9fc6157fa6",
   "metadata": {
    "ExecuteTime": {
     "end_time": "2024-04-23T08:34:28.767059Z",
     "start_time": "2024-04-23T08:34:28.765042Z"
    }
   },
   "outputs": [],
   "source": [
    "datamodule = ImageDataModule(data_dir=dataset_path, batch_size=32)"
   ]
  },
  {
   "cell_type": "markdown",
   "id": "b1d55bf536b32360",
   "metadata": {},
   "source": [
    "# Training\n",
    "1st model parameters:\n",
    "- conv_layers: 5\n",
    "- fc_layer_sizes: (256, 128)\n",
    "- input_size: torch.Size([3, 256, 256])\n",
    "- out_classes: 1\n",
    "- initial_filters: 32\n",
    "- hl_kernel_size: 5\n",
    "- activation_func: nn.ReLU\n",
    "- max_pool_kernel: 2\n",
    "- dropout_conv: False\n",
    "- dropout_fc: False\n",
    "- dropout_rate: 0.5\n",
    "- initial_learning_rate: 0.01\n",
    "- loss_func: nn.BCEWithLogitsLoss\n",
    "- optimizer: Adam\n",
    "- metrics: Accuracy, Precision, Recall, F1, AUC, ConfusionMatrix"
   ]
  },
  {
   "cell_type": "code",
   "execution_count": 5,
   "id": "bc175ad1f2f242b1",
   "metadata": {
    "ExecuteTime": {
     "end_time": "2024-04-23T08:34:37.800994Z",
     "start_time": "2024-04-23T08:34:37.585793Z"
    }
   },
   "outputs": [
    {
     "name": "stderr",
     "output_type": "stream",
     "text": [
      "GPU available: True (mps), used: True\n",
      "TPU available: False, using: 0 TPU cores\n",
      "IPU available: False, using: 0 IPUs\n",
      "HPU available: False, using: 0 HPUs\n"
     ]
    }
   ],
   "source": [
    "import torch\n",
    "import pytorch_lightning as pl\n",
    "\n",
    "model_1 = LightningCNN(\n",
    "    conv_layers=5,\n",
    "    fc_layer_sizes=(256, 128),\n",
    "    input_size=torch.Size([3, 256, 256]),\n",
    "    initial_filters=32,\n",
    "    out_classes=1,\n",
    "    hl_kernel_size=5,\n",
    "    max_pool_kernel=2,\n",
    "    dropout_conv=False,\n",
    "    dropout_fc=False,\n",
    "    initial_learning_rate=0.01\n",
    ")\n",
    "\n",
    "checkpoint_callback = pl.callbacks.ModelCheckpoint(\n",
    "    monitor='valid_loss',\n",
    "    dirpath='../models/lightning',\n",
    "    filename='model-9M-5conv-nodrop-{epoch:02d}-{valid_loss:.2f}',\n",
    "    save_top_k=2,\n",
    "    mode='min') \n",
    "\n",
    "early_stopping = pl.callbacks.EarlyStopping(\n",
    "    monitor='valid_loss',\n",
    "    min_delta=0.001,\n",
    "    patience=5,\n",
    "    verbose=True,\n",
    "    mode='min'\n",
    ")\n",
    "\n",
    "trainer = pl.Trainer(\n",
    "    max_epochs=100,\n",
    "    callbacks=[checkpoint_callback, early_stopping]\n",
    ")"
   ]
  },
  {
   "cell_type": "code",
   "execution_count": 9,
   "id": "5f7fffe090c408f6",
   "metadata": {
    "ExecuteTime": {
     "end_time": "2024-04-22T18:50:52.410388Z",
     "start_time": "2024-04-22T17:30:39.008240Z"
    }
   },
   "outputs": [
    {
     "name": "stderr",
     "output_type": "stream",
     "text": [
      "\n",
      "  | Name          | Type                  | Params\n",
      "--------------------------------------------------------\n",
      "0 | loss_func     | BCEWithLogitsLoss     | 0     \n",
      "1 | accuracy      | BinaryAccuracy        | 0     \n",
      "2 | precision     | BinaryPrecision       | 0     \n",
      "3 | recall        | BinaryRecall          | 0     \n",
      "4 | f1            | BinaryF1Score         | 0     \n",
      "5 | auc           | BinaryAUROC           | 0     \n",
      "6 | confmat       | BinaryConfusionMatrix | 0     \n",
      "7 | hidden_layers | Sequential            | 4.4 M \n",
      "8 | fc_layers     | Sequential            | 4.8 M \n",
      "--------------------------------------------------------\n",
      "9.1 M     Trainable params\n",
      "0         Non-trainable params\n",
      "9.1 M     Total params\n",
      "36.429    Total estimated model params size (MB)\n"
     ]
    },
    {
     "data": {
      "application/vnd.jupyter.widget-view+json": {
       "model_id": "b6e0c53b671b4bae82b78ac87045d7fa",
       "version_major": 2,
       "version_minor": 0
      },
      "text/plain": [
       "Sanity Checking: |          | 0/? [00:00<?, ?it/s]"
      ]
     },
     "metadata": {},
     "output_type": "display_data"
    },
    {
     "name": "stderr",
     "output_type": "stream",
     "text": [
      "/Users/isulim/Sages/retino-cnn/.venv/lib/python3.12/site-packages/torchmetrics/utilities/prints.py:43: UserWarning: No positive samples in targets, true positive value should be meaningless. Returning zero tensor in true positive score\n",
      "  warnings.warn(*args, **kwargs)  # noqa: B028\n"
     ]
    },
    {
     "data": {
      "application/vnd.jupyter.widget-view+json": {
       "model_id": "334bfc76a6bd45fcb50de26b8ac14280",
       "version_major": 2,
       "version_minor": 0
      },
      "text/plain": [
       "Training: |          | 0/? [00:00<?, ?it/s]"
      ]
     },
     "metadata": {},
     "output_type": "display_data"
    },
    {
     "data": {
      "application/vnd.jupyter.widget-view+json": {
       "model_id": "a382b80ea5694769bd0f485cfb73ca09",
       "version_major": 2,
       "version_minor": 0
      },
      "text/plain": [
       "Validation: |          | 0/? [00:00<?, ?it/s]"
      ]
     },
     "metadata": {},
     "output_type": "display_data"
    },
    {
     "name": "stderr",
     "output_type": "stream",
     "text": [
      "/Users/isulim/Sages/retino-cnn/.venv/lib/python3.12/site-packages/torchmetrics/utilities/prints.py:43: UserWarning: The ``compute`` method of metric BinaryAccuracy was called before the ``update`` method which may lead to errors, as metric states have not yet been updated.\n",
      "  warnings.warn(*args, **kwargs)  # noqa: B028\n",
      "Metric valid_loss improved. New best score: 0.587\n"
     ]
    },
    {
     "data": {
      "application/vnd.jupyter.widget-view+json": {
       "model_id": "5fe5d763736244ffaff637bfd490e33f",
       "version_major": 2,
       "version_minor": 0
      },
      "text/plain": [
       "Validation: |          | 0/? [00:00<?, ?it/s]"
      ]
     },
     "metadata": {},
     "output_type": "display_data"
    },
    {
     "data": {
      "application/vnd.jupyter.widget-view+json": {
       "model_id": "710bd89f6411411c9dbce805950a02c8",
       "version_major": 2,
       "version_minor": 0
      },
      "text/plain": [
       "Validation: |          | 0/? [00:00<?, ?it/s]"
      ]
     },
     "metadata": {},
     "output_type": "display_data"
    },
    {
     "data": {
      "application/vnd.jupyter.widget-view+json": {
       "model_id": "af1bfda16a394b6e99c4c0ddbdf33509",
       "version_major": 2,
       "version_minor": 0
      },
      "text/plain": [
       "Validation: |          | 0/? [00:00<?, ?it/s]"
      ]
     },
     "metadata": {},
     "output_type": "display_data"
    },
    {
     "data": {
      "application/vnd.jupyter.widget-view+json": {
       "model_id": "1d1bd167bd744df8b100c60cbb82e955",
       "version_major": 2,
       "version_minor": 0
      },
      "text/plain": [
       "Validation: |          | 0/? [00:00<?, ?it/s]"
      ]
     },
     "metadata": {},
     "output_type": "display_data"
    },
    {
     "data": {
      "application/vnd.jupyter.widget-view+json": {
       "model_id": "6dc6602944324bc3b0a8e1ef81007b8b",
       "version_major": 2,
       "version_minor": 0
      },
      "text/plain": [
       "Validation: |          | 0/? [00:00<?, ?it/s]"
      ]
     },
     "metadata": {},
     "output_type": "display_data"
    },
    {
     "name": "stderr",
     "output_type": "stream",
     "text": [
      "Monitored metric valid_loss did not improve in the last 5 records. Best score: 0.587. Signaling Trainer to stop.\n"
     ]
    }
   ],
   "source": [
    "trainer.fit(model_1, datamodule)"
   ]
  },
  {
   "cell_type": "code",
   "execution_count": 11,
   "id": "417c21cea59a6422",
   "metadata": {
    "ExecuteTime": {
     "end_time": "2024-04-22T18:54:16.715870Z",
     "start_time": "2024-04-22T18:52:55.141420Z"
    }
   },
   "outputs": [
    {
     "data": {
      "application/vnd.jupyter.widget-view+json": {
       "model_id": "4320b76e7abb4441b1d295a868fdec3c",
       "version_major": 2,
       "version_minor": 0
      },
      "text/plain": [
       "Testing: |          | 0/? [00:00<?, ?it/s]"
      ]
     },
     "metadata": {},
     "output_type": "display_data"
    },
    {
     "data": {
      "text/html": [
       "<pre style=\"white-space:pre;overflow-x:auto;line-height:normal;font-family:Menlo,'DejaVu Sans Mono',consolas,'Courier New',monospace\">┏━━━━━━━━━━━━━━━━━━━━━━━━━━━┳━━━━━━━━━━━━━━━━━━━━━━━━━━━┓\n",
       "┃<span style=\"font-weight: bold\">        Test metric        </span>┃<span style=\"font-weight: bold\">       DataLoader 0        </span>┃\n",
       "┡━━━━━━━━━━━━━━━━━━━━━━━━━━━╇━━━━━━━━━━━━━━━━━━━━━━━━━━━┩\n",
       "│<span style=\"color: #008080; text-decoration-color: #008080\">       test_accuracy       </span>│<span style=\"color: #800080; text-decoration-color: #800080\">    0.7269971966743469     </span>│\n",
       "│<span style=\"color: #008080; text-decoration-color: #008080\">         test_auc          </span>│<span style=\"color: #800080; text-decoration-color: #800080\">            0.0            </span>│\n",
       "│<span style=\"color: #008080; text-decoration-color: #008080\">          test_f1          </span>│<span style=\"color: #800080; text-decoration-color: #800080\">            0.0            </span>│\n",
       "│<span style=\"color: #008080; text-decoration-color: #008080\">         test_loss         </span>│<span style=\"color: #800080; text-decoration-color: #800080\">    0.5862252116203308     </span>│\n",
       "│<span style=\"color: #008080; text-decoration-color: #008080\">      test_precision       </span>│<span style=\"color: #800080; text-decoration-color: #800080\">            0.0            </span>│\n",
       "│<span style=\"color: #008080; text-decoration-color: #008080\">        test_recall        </span>│<span style=\"color: #800080; text-decoration-color: #800080\">            0.0            </span>│\n",
       "└───────────────────────────┴───────────────────────────┘\n",
       "</pre>\n"
      ],
      "text/plain": [
       "┏━━━━━━━━━━━━━━━━━━━━━━━━━━━┳━━━━━━━━━━━━━━━━━━━━━━━━━━━┓\n",
       "┃\u001B[1m \u001B[0m\u001B[1m       Test metric       \u001B[0m\u001B[1m \u001B[0m┃\u001B[1m \u001B[0m\u001B[1m      DataLoader 0       \u001B[0m\u001B[1m \u001B[0m┃\n",
       "┡━━━━━━━━━━━━━━━━━━━━━━━━━━━╇━━━━━━━━━━━━━━━━━━━━━━━━━━━┩\n",
       "│\u001B[36m \u001B[0m\u001B[36m      test_accuracy      \u001B[0m\u001B[36m \u001B[0m│\u001B[35m \u001B[0m\u001B[35m   0.7269971966743469    \u001B[0m\u001B[35m \u001B[0m│\n",
       "│\u001B[36m \u001B[0m\u001B[36m        test_auc         \u001B[0m\u001B[36m \u001B[0m│\u001B[35m \u001B[0m\u001B[35m           0.0           \u001B[0m\u001B[35m \u001B[0m│\n",
       "│\u001B[36m \u001B[0m\u001B[36m         test_f1         \u001B[0m\u001B[36m \u001B[0m│\u001B[35m \u001B[0m\u001B[35m           0.0           \u001B[0m\u001B[35m \u001B[0m│\n",
       "│\u001B[36m \u001B[0m\u001B[36m        test_loss        \u001B[0m\u001B[36m \u001B[0m│\u001B[35m \u001B[0m\u001B[35m   0.5862252116203308    \u001B[0m\u001B[35m \u001B[0m│\n",
       "│\u001B[36m \u001B[0m\u001B[36m     test_precision      \u001B[0m\u001B[36m \u001B[0m│\u001B[35m \u001B[0m\u001B[35m           0.0           \u001B[0m\u001B[35m \u001B[0m│\n",
       "│\u001B[36m \u001B[0m\u001B[36m       test_recall       \u001B[0m\u001B[36m \u001B[0m│\u001B[35m \u001B[0m\u001B[35m           0.0           \u001B[0m\u001B[35m \u001B[0m│\n",
       "└───────────────────────────┴───────────────────────────┘\n"
      ]
     },
     "metadata": {},
     "output_type": "display_data"
    },
    {
     "data": {
      "text/plain": [
       "[{'test_loss': 0.5862252116203308,\n",
       "  'test_accuracy': 0.7269971966743469,\n",
       "  'test_precision': 0.0,\n",
       "  'test_recall': 0.0,\n",
       "  'test_f1': 0.0,\n",
       "  'test_auc': 0.0}]"
      ]
     },
     "execution_count": 11,
     "metadata": {},
     "output_type": "execute_result"
    }
   ],
   "source": [
    "trainer.test(model_1, datamodule)"
   ]
  },
  {
   "cell_type": "markdown",
   "id": "83721064a1fbfc6a",
   "metadata": {},
   "source": "Accuracy: 0.727 -> this is no better than distribution of classes in dataset."
  },
  {
   "cell_type": "markdown",
   "id": "3e43bd1612c949b6",
   "metadata": {},
   "source": [
    "# Training\n",
    "2nd model parameters:\n",
    "- conv_layers: 6\n",
    "- fc_layer_sizes: (256, 128)\n",
    "- input_size: torch.Size([3, 256, 256])\n",
    "- out_classes: 1\n",
    "- initial_filters: 32\n",
    "- hl_kernel_size: 5\n",
    "- activation_func: nn.ReLU\n",
    "- max_pool_kernel: 2\n",
    "- dropout_conv: True\n",
    "- dropout_fc: True\n",
    "- dropout_rate: 0.5\n",
    "- initial_learning_rate: 0.01\n",
    "- loss_func: nn.BCEWithLogitsLoss\n",
    "- optimizer: Adam\n",
    "- metrics: Accuracy, Precision, Recall, F1, AUC, ConfusionMatrix"
   ]
  },
  {
   "cell_type": "code",
   "id": "6036010eb9e53477",
   "metadata": {
    "ExecuteTime": {
     "end_time": "2024-04-23T09:49:53.733594Z",
     "start_time": "2024-04-23T09:49:53.647110Z"
    }
   },
   "source": [
    "\n",
    "model_2 = LightningCNN(\n",
    "    conv_layers=6,\n",
    "    fc_layer_sizes=(256, 128),\n",
    "    input_size=torch.Size([3, 256, 256]),\n",
    "    initial_filters=32,\n",
    "    out_classes=1,\n",
    "    hl_kernel_size=5,\n",
    "    max_pool_kernel=2,\n",
    "    dropout_conv=True,\n",
    "    dropout_fc=True,\n",
    "    dropout_rate=0.5,\n",
    "    initial_learning_rate=0.01\n",
    ")\n",
    "\n",
    "checkpoint_callback = pl.callbacks.ModelCheckpoint(\n",
    "    monitor='valid_loss',\n",
    "    dirpath='../models/lightning',\n",
    "    filename='model-18M-6conv-0.5drop-{epoch:02d}-{valid_loss:.2f}',\n",
    "    save_top_k=2,\n",
    "    mode='min') \n",
    "\n",
    "early_stopping = pl.callbacks.EarlyStopping(\n",
    "    monitor='valid_loss',\n",
    "    min_delta=0.001,\n",
    "    patience=3,\n",
    "    verbose=True,\n",
    "    mode='min'\n",
    ")\n",
    "\n",
    "trainer = pl.Trainer(\n",
    "    max_epochs=100,\n",
    "    callbacks=[checkpoint_callback, early_stopping]\n",
    ")"
   ],
   "outputs": [
    {
     "name": "stderr",
     "output_type": "stream",
     "text": [
      "GPU available: True (mps), used: True\n",
      "TPU available: False, using: 0 TPU cores\n",
      "IPU available: False, using: 0 IPUs\n",
      "HPU available: False, using: 0 HPUs\n"
     ]
    }
   ],
   "execution_count": 9
  },
  {
   "cell_type": "code",
   "id": "ae44ed3eec0b445f",
   "metadata": {
    "ExecuteTime": {
     "end_time": "2024-04-23T10:53:48.881924Z",
     "start_time": "2024-04-23T09:49:54.588963Z"
    }
   },
   "source": [
    "trainer.fit(model_2, datamodule)"
   ],
   "outputs": [
    {
     "name": "stderr",
     "output_type": "stream",
     "text": [
      "\n",
      "  | Name          | Type                  | Params\n",
      "--------------------------------------------------------\n",
      "0 | loss_func     | BCEWithLogitsLoss     | 0     \n",
      "1 | accuracy      | BinaryAccuracy        | 0     \n",
      "2 | precision     | BinaryPrecision       | 0     \n",
      "3 | recall        | BinaryRecall          | 0     \n",
      "4 | f1            | BinaryF1Score         | 0     \n",
      "5 | auc           | BinaryAUROC           | 0     \n",
      "6 | confmat       | BinaryConfusionMatrix | 0     \n",
      "7 | hidden_layers | Sequential            | 17.5 M\n",
      "8 | fc_layers     | Sequential            | 1.1 M \n",
      "--------------------------------------------------------\n",
      "18.5 M    Trainable params\n",
      "0         Non-trainable params\n",
      "18.5 M    Total params\n",
      "74.182    Total estimated model params size (MB)\n"
     ]
    },
    {
     "data": {
      "text/plain": [
       "Sanity Checking: |          | 0/? [00:00<?, ?it/s]"
      ],
      "application/vnd.jupyter.widget-view+json": {
       "version_major": 2,
       "version_minor": 0,
       "model_id": "7ac1c8da34cf4bbe8b929a9d7b8b4659"
      }
     },
     "metadata": {},
     "output_type": "display_data"
    },
    {
     "data": {
      "text/plain": [
       "Training: |          | 0/? [00:00<?, ?it/s]"
      ],
      "application/vnd.jupyter.widget-view+json": {
       "version_major": 2,
       "version_minor": 0,
       "model_id": "eb6b1265aa1b4eb2a03155132219239d"
      }
     },
     "metadata": {},
     "output_type": "display_data"
    },
    {
     "data": {
      "text/plain": [
       "Validation: |          | 0/? [00:00<?, ?it/s]"
      ],
      "application/vnd.jupyter.widget-view+json": {
       "version_major": 2,
       "version_minor": 0,
       "model_id": "48a986d5370d4f669b71384d7f7d4d24"
      }
     },
     "metadata": {},
     "output_type": "display_data"
    },
    {
     "name": "stderr",
     "output_type": "stream",
     "text": [
      "/Users/isulim/Sages/retino-cnn/.venv/lib/python3.12/site-packages/torchmetrics/utilities/prints.py:43: UserWarning: The ``compute`` method of metric BinaryAccuracy was called before the ``update`` method which may lead to errors, as metric states have not yet been updated.\n",
      "  warnings.warn(*args, **kwargs)  # noqa: B028\n",
      "Metric valid_loss improved. New best score: 0.587\n"
     ]
    },
    {
     "data": {
      "text/plain": [
       "Validation: |          | 0/? [00:00<?, ?it/s]"
      ],
      "application/vnd.jupyter.widget-view+json": {
       "version_major": 2,
       "version_minor": 0,
       "model_id": "3bb4c85dab474d0795976a0f7260d144"
      }
     },
     "metadata": {},
     "output_type": "display_data"
    },
    {
     "data": {
      "text/plain": [
       "Validation: |          | 0/? [00:00<?, ?it/s]"
      ],
      "application/vnd.jupyter.widget-view+json": {
       "version_major": 2,
       "version_minor": 0,
       "model_id": "ebbad85d53344eb5b27390badedbe743"
      }
     },
     "metadata": {},
     "output_type": "display_data"
    },
    {
     "data": {
      "text/plain": [
       "Validation: |          | 0/? [00:00<?, ?it/s]"
      ],
      "application/vnd.jupyter.widget-view+json": {
       "version_major": 2,
       "version_minor": 0,
       "model_id": "da0fad6d344e4bb1a00bf2173eb48144"
      }
     },
     "metadata": {},
     "output_type": "display_data"
    },
    {
     "name": "stderr",
     "output_type": "stream",
     "text": [
      "Monitored metric valid_loss did not improve in the last 3 records. Best score: 0.587. Signaling Trainer to stop.\n"
     ]
    }
   ],
   "execution_count": 10
  },
  {
   "cell_type": "code",
   "id": "6f81fb444e753b6b",
   "metadata": {
    "ExecuteTime": {
     "end_time": "2024-04-23T11:16:22.181520Z",
     "start_time": "2024-04-23T11:14:56.413577Z"
    }
   },
   "source": "trainer.test(model_2, datamodule)",
   "outputs": [
    {
     "data": {
      "text/plain": [
       "Testing: |          | 0/? [00:00<?, ?it/s]"
      ],
      "application/vnd.jupyter.widget-view+json": {
       "version_major": 2,
       "version_minor": 0,
       "model_id": "5d413af7f6bc4177a76262ae7f395707"
      }
     },
     "metadata": {},
     "output_type": "display_data"
    },
    {
     "data": {
      "text/plain": [
       "┏━━━━━━━━━━━━━━━━━━━━━━━━━━━┳━━━━━━━━━━━━━━━━━━━━━━━━━━━┓\n",
       "┃\u001B[1m \u001B[0m\u001B[1m       Test metric       \u001B[0m\u001B[1m \u001B[0m┃\u001B[1m \u001B[0m\u001B[1m      DataLoader 0       \u001B[0m\u001B[1m \u001B[0m┃\n",
       "┡━━━━━━━━━━━━━━━━━━━━━━━━━━━╇━━━━━━━━━━━━━━━━━━━━━━━━━━━┩\n",
       "│\u001B[36m \u001B[0m\u001B[36m      test_accuracy      \u001B[0m\u001B[36m \u001B[0m│\u001B[35m \u001B[0m\u001B[35m   0.7269971966743469    \u001B[0m\u001B[35m \u001B[0m│\n",
       "│\u001B[36m \u001B[0m\u001B[36m        test_auc         \u001B[0m\u001B[36m \u001B[0m│\u001B[35m \u001B[0m\u001B[35m           0.0           \u001B[0m\u001B[35m \u001B[0m│\n",
       "│\u001B[36m \u001B[0m\u001B[36m         test_f1         \u001B[0m\u001B[36m \u001B[0m│\u001B[35m \u001B[0m\u001B[35m           0.0           \u001B[0m\u001B[35m \u001B[0m│\n",
       "│\u001B[36m \u001B[0m\u001B[36m        test_loss        \u001B[0m\u001B[36m \u001B[0m│\u001B[35m \u001B[0m\u001B[35m   0.5863068699836731    \u001B[0m\u001B[35m \u001B[0m│\n",
       "│\u001B[36m \u001B[0m\u001B[36m     test_precision      \u001B[0m\u001B[36m \u001B[0m│\u001B[35m \u001B[0m\u001B[35m           0.0           \u001B[0m\u001B[35m \u001B[0m│\n",
       "│\u001B[36m \u001B[0m\u001B[36m       test_recall       \u001B[0m\u001B[36m \u001B[0m│\u001B[35m \u001B[0m\u001B[35m           0.0           \u001B[0m\u001B[35m \u001B[0m│\n",
       "└───────────────────────────┴───────────────────────────┘\n"
      ],
      "text/html": [
       "<pre style=\"white-space:pre;overflow-x:auto;line-height:normal;font-family:Menlo,'DejaVu Sans Mono',consolas,'Courier New',monospace\">┏━━━━━━━━━━━━━━━━━━━━━━━━━━━┳━━━━━━━━━━━━━━━━━━━━━━━━━━━┓\n",
       "┃<span style=\"font-weight: bold\">        Test metric        </span>┃<span style=\"font-weight: bold\">       DataLoader 0        </span>┃\n",
       "┡━━━━━━━━━━━━━━━━━━━━━━━━━━━╇━━━━━━━━━━━━━━━━━━━━━━━━━━━┩\n",
       "│<span style=\"color: #008080; text-decoration-color: #008080\">       test_accuracy       </span>│<span style=\"color: #800080; text-decoration-color: #800080\">    0.7269971966743469     </span>│\n",
       "│<span style=\"color: #008080; text-decoration-color: #008080\">         test_auc          </span>│<span style=\"color: #800080; text-decoration-color: #800080\">            0.0            </span>│\n",
       "│<span style=\"color: #008080; text-decoration-color: #008080\">          test_f1          </span>│<span style=\"color: #800080; text-decoration-color: #800080\">            0.0            </span>│\n",
       "│<span style=\"color: #008080; text-decoration-color: #008080\">         test_loss         </span>│<span style=\"color: #800080; text-decoration-color: #800080\">    0.5863068699836731     </span>│\n",
       "│<span style=\"color: #008080; text-decoration-color: #008080\">      test_precision       </span>│<span style=\"color: #800080; text-decoration-color: #800080\">            0.0            </span>│\n",
       "│<span style=\"color: #008080; text-decoration-color: #008080\">        test_recall        </span>│<span style=\"color: #800080; text-decoration-color: #800080\">            0.0            </span>│\n",
       "└───────────────────────────┴───────────────────────────┘\n",
       "</pre>\n"
      ]
     },
     "metadata": {},
     "output_type": "display_data"
    },
    {
     "data": {
      "text/plain": [
       "[{'test_loss': 0.5863068699836731,\n",
       "  'test_accuracy': 0.7269971966743469,\n",
       "  'test_precision': 0.0,\n",
       "  'test_recall': 0.0,\n",
       "  'test_f1': 0.0,\n",
       "  'test_auc': 0.0}]"
      ]
     },
     "execution_count": 11,
     "metadata": {},
     "output_type": "execute_result"
    }
   ],
   "execution_count": 11
  },
  {
   "metadata": {},
   "cell_type": "markdown",
   "source": [
    "Accuracy: 0.727 -> almost no difference.\n",
    "\n",
    "One more complicated model with more layers untill I am out of memory to allocate."
   ],
   "id": "78d84c4290a58f17"
  },
  {
   "metadata": {},
   "cell_type": "markdown",
   "source": [
    "# Training\n",
    "3rd model parameters:\n",
    "- conv_layers: 6\n",
    "- fc_layer_sizes: (1024, 512, 256)\n",
    "- input_size: torch.Size([3, 256, 256])\n",
    "- out_classes: 1\n",
    "- initial_filters: 64\n",
    "- hl_kernel_size: 5\n",
    "- activation_func: nn.ReLU\n",
    "- max_pool_kernel: 2\n",
    "- dropout_conv: True\n",
    "- dropout_fc: True\n",
    "- dropout_rate: 0.5\n",
    "- initial_learning_rate: 0.01\n",
    "- loss_func: nn.BCEWithLogitsLoss\n",
    "- optimizer: Adam\n",
    "- metrics: Accuracy, Precision, Recall, F1, AUC, ConfusionMatrix"
   ],
   "id": "a4cf2c536c896c03"
  },
  {
   "metadata": {
    "ExecuteTime": {
     "end_time": "2024-04-23T11:21:37.157023Z",
     "start_time": "2024-04-23T11:21:35.746496Z"
    }
   },
   "cell_type": "code",
   "source": [
    "\n",
    "model_3 = LightningCNN(\n",
    "    conv_layers=6,\n",
    "    fc_layer_sizes=(1024, 512, 256),\n",
    "    input_size=torch.Size([3, 256, 256]),\n",
    "    initial_filters=64,\n",
    "    out_classes=1,\n",
    "    hl_kernel_size=5,\n",
    "    max_pool_kernel=2,\n",
    "    dropout_conv=True,\n",
    "    dropout_fc=True,\n",
    "    dropout_rate=0.5,\n",
    "    initial_learning_rate=0.01\n",
    ")\n",
    "\n",
    "checkpoint_callback = pl.callbacks.ModelCheckpoint(\n",
    "    monitor='valid_loss',\n",
    "    dirpath='../models/lightning',\n",
    "    filename='model-79M-6conv-0.5drop-{epoch:02d}-{valid_loss:.2f}',\n",
    "    save_top_k=2,\n",
    "    mode='min') \n",
    "\n",
    "early_stopping = pl.callbacks.EarlyStopping(\n",
    "    monitor='valid_loss',\n",
    "    min_delta=0.001,\n",
    "    patience=3,\n",
    "    verbose=True,\n",
    "    mode='min'\n",
    ")\n",
    "\n",
    "trainer = pl.Trainer(\n",
    "    max_epochs=100,\n",
    "    callbacks=[checkpoint_callback, early_stopping]\n",
    ")"
   ],
   "id": "491f0f2ee5a9df37",
   "outputs": [
    {
     "name": "stderr",
     "output_type": "stream",
     "text": [
      "GPU available: True (mps), used: True\n",
      "TPU available: False, using: 0 TPU cores\n",
      "IPU available: False, using: 0 IPUs\n",
      "HPU available: False, using: 0 HPUs\n"
     ]
    }
   ],
   "execution_count": 27
  },
  {
   "metadata": {
    "ExecuteTime": {
     "end_time": "2024-04-23T14:22:45.474526Z",
     "start_time": "2024-04-23T11:21:37.157897Z"
    }
   },
   "cell_type": "code",
   "source": "trainer.fit(model_3, datamodule)",
   "id": "e9fa52c02b7a0101",
   "outputs": [
    {
     "name": "stderr",
     "output_type": "stream",
     "text": [
      "\n",
      "  | Name          | Type                  | Params\n",
      "--------------------------------------------------------\n",
      "0 | loss_func     | BCEWithLogitsLoss     | 0     \n",
      "1 | accuracy      | BinaryAccuracy        | 0     \n",
      "2 | precision     | BinaryPrecision       | 0     \n",
      "3 | recall        | BinaryRecall          | 0     \n",
      "4 | f1            | BinaryF1Score         | 0     \n",
      "5 | auc           | BinaryAUROC           | 0     \n",
      "6 | confmat       | BinaryConfusionMatrix | 0     \n",
      "7 | hidden_layers | Sequential            | 69.8 M\n",
      "8 | fc_layers     | Sequential            | 9.0 M \n",
      "--------------------------------------------------------\n",
      "78.9 M    Trainable params\n",
      "0         Non-trainable params\n",
      "78.9 M    Total params\n",
      "315.567   Total estimated model params size (MB)\n"
     ]
    },
    {
     "data": {
      "text/plain": [
       "Sanity Checking: |          | 0/? [00:00<?, ?it/s]"
      ],
      "application/vnd.jupyter.widget-view+json": {
       "version_major": 2,
       "version_minor": 0,
       "model_id": "0991160e76b74cf89a4e57505edeaf85"
      }
     },
     "metadata": {},
     "output_type": "display_data"
    },
    {
     "data": {
      "text/plain": [
       "Training: |          | 0/? [00:00<?, ?it/s]"
      ],
      "application/vnd.jupyter.widget-view+json": {
       "version_major": 2,
       "version_minor": 0,
       "model_id": "78ab5e9762f84ec38cb09c62286536f9"
      }
     },
     "metadata": {},
     "output_type": "display_data"
    },
    {
     "data": {
      "text/plain": [
       "Validation: |          | 0/? [00:00<?, ?it/s]"
      ],
      "application/vnd.jupyter.widget-view+json": {
       "version_major": 2,
       "version_minor": 0,
       "model_id": "6842b777deae44979343f54bdbe39513"
      }
     },
     "metadata": {},
     "output_type": "display_data"
    },
    {
     "name": "stderr",
     "output_type": "stream",
     "text": [
      "Metric valid_loss improved. New best score: 0.586\n"
     ]
    },
    {
     "data": {
      "text/plain": [
       "Validation: |          | 0/? [00:00<?, ?it/s]"
      ],
      "application/vnd.jupyter.widget-view+json": {
       "version_major": 2,
       "version_minor": 0,
       "model_id": "591751a1210241ceb761a297c1beeef7"
      }
     },
     "metadata": {},
     "output_type": "display_data"
    },
    {
     "data": {
      "text/plain": [
       "Validation: |          | 0/? [00:00<?, ?it/s]"
      ],
      "application/vnd.jupyter.widget-view+json": {
       "version_major": 2,
       "version_minor": 0,
       "model_id": "db99f5d0b1ff43c595ced4b75e8e9a03"
      }
     },
     "metadata": {},
     "output_type": "display_data"
    },
    {
     "data": {
      "text/plain": [
       "Validation: |          | 0/? [00:00<?, ?it/s]"
      ],
      "application/vnd.jupyter.widget-view+json": {
       "version_major": 2,
       "version_minor": 0,
       "model_id": "76953c4883f84d41a4ef387f4e077f16"
      }
     },
     "metadata": {},
     "output_type": "display_data"
    },
    {
     "name": "stderr",
     "output_type": "stream",
     "text": [
      "Monitored metric valid_loss did not improve in the last 3 records. Best score: 0.586. Signaling Trainer to stop.\n"
     ]
    }
   ],
   "execution_count": 28
  },
  {
   "metadata": {
    "ExecuteTime": {
     "end_time": "2024-04-23T14:27:57.476465Z",
     "start_time": "2024-04-23T14:25:18.173079Z"
    }
   },
   "cell_type": "code",
   "source": "trainer.test(model_3, datamodule)",
   "id": "831fda9e6d110471",
   "outputs": [
    {
     "data": {
      "text/plain": [
       "Testing: |          | 0/? [00:00<?, ?it/s]"
      ],
      "application/vnd.jupyter.widget-view+json": {
       "version_major": 2,
       "version_minor": 0,
       "model_id": "054ab45b6b7a43da9c32b12b1efdc7e1"
      }
     },
     "metadata": {},
     "output_type": "display_data"
    },
    {
     "data": {
      "text/plain": [
       "┏━━━━━━━━━━━━━━━━━━━━━━━━━━━┳━━━━━━━━━━━━━━━━━━━━━━━━━━━┓\n",
       "┃\u001B[1m \u001B[0m\u001B[1m       Test metric       \u001B[0m\u001B[1m \u001B[0m┃\u001B[1m \u001B[0m\u001B[1m      DataLoader 0       \u001B[0m\u001B[1m \u001B[0m┃\n",
       "┡━━━━━━━━━━━━━━━━━━━━━━━━━━━╇━━━━━━━━━━━━━━━━━━━━━━━━━━━┩\n",
       "│\u001B[36m \u001B[0m\u001B[36m      test_accuracy      \u001B[0m\u001B[36m \u001B[0m│\u001B[35m \u001B[0m\u001B[35m   0.7269971966743469    \u001B[0m\u001B[35m \u001B[0m│\n",
       "│\u001B[36m \u001B[0m\u001B[36m        test_auc         \u001B[0m\u001B[36m \u001B[0m│\u001B[35m \u001B[0m\u001B[35m           0.5           \u001B[0m\u001B[35m \u001B[0m│\n",
       "│\u001B[36m \u001B[0m\u001B[36m         test_f1         \u001B[0m\u001B[36m \u001B[0m│\u001B[35m \u001B[0m\u001B[35m           0.0           \u001B[0m\u001B[35m \u001B[0m│\n",
       "│\u001B[36m \u001B[0m\u001B[36m        test_loss        \u001B[0m\u001B[36m \u001B[0m│\u001B[35m \u001B[0m\u001B[35m   0.5862261652946472    \u001B[0m\u001B[35m \u001B[0m│\n",
       "│\u001B[36m \u001B[0m\u001B[36m     test_precision      \u001B[0m\u001B[36m \u001B[0m│\u001B[35m \u001B[0m\u001B[35m           0.0           \u001B[0m\u001B[35m \u001B[0m│\n",
       "│\u001B[36m \u001B[0m\u001B[36m       test_recall       \u001B[0m\u001B[36m \u001B[0m│\u001B[35m \u001B[0m\u001B[35m           0.0           \u001B[0m\u001B[35m \u001B[0m│\n",
       "└───────────────────────────┴───────────────────────────┘\n"
      ],
      "text/html": [
       "<pre style=\"white-space:pre;overflow-x:auto;line-height:normal;font-family:Menlo,'DejaVu Sans Mono',consolas,'Courier New',monospace\">┏━━━━━━━━━━━━━━━━━━━━━━━━━━━┳━━━━━━━━━━━━━━━━━━━━━━━━━━━┓\n",
       "┃<span style=\"font-weight: bold\">        Test metric        </span>┃<span style=\"font-weight: bold\">       DataLoader 0        </span>┃\n",
       "┡━━━━━━━━━━━━━━━━━━━━━━━━━━━╇━━━━━━━━━━━━━━━━━━━━━━━━━━━┩\n",
       "│<span style=\"color: #008080; text-decoration-color: #008080\">       test_accuracy       </span>│<span style=\"color: #800080; text-decoration-color: #800080\">    0.7269971966743469     </span>│\n",
       "│<span style=\"color: #008080; text-decoration-color: #008080\">         test_auc          </span>│<span style=\"color: #800080; text-decoration-color: #800080\">            0.5            </span>│\n",
       "│<span style=\"color: #008080; text-decoration-color: #008080\">          test_f1          </span>│<span style=\"color: #800080; text-decoration-color: #800080\">            0.0            </span>│\n",
       "│<span style=\"color: #008080; text-decoration-color: #008080\">         test_loss         </span>│<span style=\"color: #800080; text-decoration-color: #800080\">    0.5862261652946472     </span>│\n",
       "│<span style=\"color: #008080; text-decoration-color: #008080\">      test_precision       </span>│<span style=\"color: #800080; text-decoration-color: #800080\">            0.0            </span>│\n",
       "│<span style=\"color: #008080; text-decoration-color: #008080\">        test_recall        </span>│<span style=\"color: #800080; text-decoration-color: #800080\">            0.0            </span>│\n",
       "└───────────────────────────┴───────────────────────────┘\n",
       "</pre>\n"
      ]
     },
     "metadata": {},
     "output_type": "display_data"
    },
    {
     "data": {
      "text/plain": [
       "[{'test_loss': 0.5862261652946472,\n",
       "  'test_accuracy': 0.7269971966743469,\n",
       "  'test_precision': 0.0,\n",
       "  'test_recall': 0.0,\n",
       "  'test_f1': 0.0,\n",
       "  'test_auc': 0.5}]"
      ]
     },
     "execution_count": 30,
     "metadata": {},
     "output_type": "execute_result"
    }
   ],
   "execution_count": 30
  },
  {
   "metadata": {},
   "cell_type": "markdown",
   "source": [
    "Pytorch Lighnitng models are easier to build, but results are no better.\n",
    "In next step I will use pretrained Resnet model."
   ],
   "id": "20ce31daa4fde9d"
  },
  {
   "metadata": {},
   "cell_type": "code",
   "outputs": [],
   "execution_count": null,
   "source": "",
   "id": "37b9b67ea2b10c49"
  }
 ],
 "metadata": {
  "kernelspec": {
   "display_name": "Python 3 (ipykernel)",
   "language": "python",
   "name": "python3"
  },
  "language_info": {
   "codemirror_mode": {
    "name": "ipython",
    "version": 3
   },
   "file_extension": ".py",
   "mimetype": "text/x-python",
   "name": "python",
   "nbconvert_exporter": "python",
   "pygments_lexer": "ipython3",
   "version": "3.12.2"
  }
 },
 "nbformat": 4,
 "nbformat_minor": 5
}
