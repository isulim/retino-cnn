{
 "cells": [
  {
   "metadata": {},
   "cell_type": "markdown",
   "source": [
    "# Pytorch Lightning\n",
    "#### Experiments using Pytorch Lightning to build custom CNN classification model."
   ],
   "id": "d1d72b5a73fd5a64"
  },
  {
   "metadata": {},
   "cell_type": "markdown",
   "source": [
    "\n",
    "Pytorch Lightning implementation\n",
    "In this notebook I will implement CNN model using Pytorch Lightning. This model will be more flexible, than model from initial_experiments.ipynb, to provide more hyperparameters for training sessions."
   ],
   "id": "69528e4b5669e638"
  },
  {
   "metadata": {
    "ExecuteTime": {
     "end_time": "2024-04-22T17:24:07.227271Z",
     "start_time": "2024-04-22T17:24:07.225616Z"
    }
   },
   "cell_type": "code",
   "source": "from scripts.models.lightning_model import LightningCNN, ImageDataModule",
   "id": "79048039af66d5ad",
   "outputs": [],
   "execution_count": 3
  },
  {
   "metadata": {
    "ExecuteTime": {
     "end_time": "2024-04-22T17:24:08.122369Z",
     "start_time": "2024-04-22T17:24:08.117424Z"
    }
   },
   "cell_type": "code",
   "source": [
    "import os\n",
    "from pathlib import Path\n",
    "\n",
    "from dotenv import load_dotenv\n",
    "load_dotenv()\n",
    "root_data = os.getenv(\"KAGGLE_FILES_DIR\")\n",
    "dataset_path = Path(os.getcwd(), \"..\", root_data, 'processed')"
   ],
   "id": "276f45afe2783a24",
   "outputs": [],
   "execution_count": 4
  },
  {
   "metadata": {},
   "cell_type": "markdown",
   "source": "Transformations by default are only resizing to 256x256.",
   "id": "2f0aead92bc253b8"
  },
  {
   "metadata": {
    "ExecuteTime": {
     "end_time": "2024-04-22T17:25:26.908755Z",
     "start_time": "2024-04-22T17:25:26.906211Z"
    }
   },
   "cell_type": "code",
   "source": "datamodule = ImageDataModule(data_dir=dataset_path, batch_size=32)",
   "id": "57ce0f9fc6157fa6",
   "outputs": [],
   "execution_count": 5
  },
  {
   "metadata": {},
   "cell_type": "markdown",
   "source": [
    "# Training\n",
    "1st model: default parameters:\n",
    "- conv_layers: 5\n",
    "- fc_layer_sizes: (256, 128)\n",
    "- input_size: torch.Size([3, 256, 256])\n",
    "- out_classes: 1\n",
    "- initial_filters: 32\n",
    "- hl_kernel_size: 5\n",
    "- activation_func: nn.ReLU\n",
    "- max_pool_kernel: 2\n",
    "- dropout_conv: False\n",
    "- dropout_fc: False\n",
    "- dropout_rate: 0.5\n",
    "- initial_learning_rate: 0.01\n",
    "- loss_func: nn.BCEWithLogitsLoss\n",
    "- optimizer: Adam\n",
    "- metrics: Accuracy, Precision, Recall, F1, AUC, ConfusionMatrix"
   ],
   "id": "b1d55bf536b32360"
  },
  {
   "metadata": {
    "ExecuteTime": {
     "end_time": "2024-04-22T17:30:38.047476Z",
     "start_time": "2024-04-22T17:30:38.003907Z"
    }
   },
   "cell_type": "code",
   "source": [
    "import torch\n",
    "import pytorch_lightning as pl\n",
    "\n",
    "model_1 = LightningCNN(\n",
    "    conv_layers=5,\n",
    "    fc_layer_sizes=(256, 128),\n",
    "    input_size=torch.Size([3, 256, 256]),\n",
    "    initial_filters=32,\n",
    "    out_classes=1,\n",
    "    hl_kernel_size=5,\n",
    "    max_pool_kernel=2,\n",
    "    dropout_conv=False,\n",
    "    dropout_fc=False,\n",
    "    initial_learning_rate=0.01\n",
    ")\n",
    "\n",
    "checkpoint_callback = pl.callbacks.ModelCheckpoint(\n",
    "    monitor='valid_loss',\n",
    "    dirpath='../models/lightning',\n",
    "    filename='model-9M-5conv-nodrop-{epoch:02d}-{valid_loss:.2f}',\n",
    "    save_top_k=2,\n",
    "    mode='min') \n",
    "\n",
    "early_stopping = pl.callbacks.EarlyStopping(\n",
    "    monitor='valid_loss',\n",
    "    min_delta=0.001,\n",
    "    patience=5,\n",
    "    verbose=True,\n",
    "    mode='min'\n",
    ")\n",
    "\n",
    "trainer = pl.Trainer(\n",
    "    max_epochs=100,\n",
    "    callbacks=[checkpoint_callback, early_stopping]\n",
    ")"
   ],
   "id": "bc175ad1f2f242b1",
   "outputs": [
    {
     "name": "stderr",
     "output_type": "stream",
     "text": [
      "GPU available: True (mps), used: True\n",
      "TPU available: False, using: 0 TPU cores\n",
      "IPU available: False, using: 0 IPUs\n",
      "HPU available: False, using: 0 HPUs\n"
     ]
    }
   ],
   "execution_count": 8
  },
  {
   "metadata": {
    "jupyter": {
     "is_executing": true
    },
    "ExecuteTime": {
     "start_time": "2024-04-22T17:30:39.008240Z"
    }
   },
   "cell_type": "code",
   "source": "trainer.fit(model_1, datamodule)",
   "id": "5f7fffe090c408f6",
   "outputs": [
    {
     "name": "stderr",
     "output_type": "stream",
     "text": [
      "\n",
      "  | Name          | Type                  | Params\n",
      "--------------------------------------------------------\n",
      "0 | loss_func     | BCEWithLogitsLoss     | 0     \n",
      "1 | accuracy      | BinaryAccuracy        | 0     \n",
      "2 | precision     | BinaryPrecision       | 0     \n",
      "3 | recall        | BinaryRecall          | 0     \n",
      "4 | f1            | BinaryF1Score         | 0     \n",
      "5 | auc           | BinaryAUROC           | 0     \n",
      "6 | confmat       | BinaryConfusionMatrix | 0     \n",
      "7 | hidden_layers | Sequential            | 4.4 M \n",
      "8 | fc_layers     | Sequential            | 4.8 M \n",
      "--------------------------------------------------------\n",
      "9.1 M     Trainable params\n",
      "0         Non-trainable params\n",
      "9.1 M     Total params\n",
      "36.429    Total estimated model params size (MB)\n"
     ]
    },
    {
     "data": {
      "text/plain": [
       "Sanity Checking: |          | 0/? [00:00<?, ?it/s]"
      ],
      "application/vnd.jupyter.widget-view+json": {
       "version_major": 2,
       "version_minor": 0,
       "model_id": "b6e0c53b671b4bae82b78ac87045d7fa"
      }
     },
     "metadata": {},
     "output_type": "display_data"
    }
   ],
   "execution_count": null
  },
  {
   "metadata": {},
   "cell_type": "code",
   "outputs": [],
   "execution_count": null,
   "source": "",
   "id": "417c21cea59a6422"
  }
 ],
 "metadata": {
  "kernelspec": {
   "display_name": "Python 3",
   "language": "python",
   "name": "python3"
  },
  "language_info": {
   "codemirror_mode": {
    "name": "ipython",
    "version": 2
   },
   "file_extension": ".py",
   "mimetype": "text/x-python",
   "name": "python",
   "nbconvert_exporter": "python",
   "pygments_lexer": "ipython2",
   "version": "2.7.6"
  }
 },
 "nbformat": 4,
 "nbformat_minor": 5
}
