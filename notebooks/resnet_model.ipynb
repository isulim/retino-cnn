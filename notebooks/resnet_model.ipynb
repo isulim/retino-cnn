{
 "cells": [
  {
   "cell_type": "markdown",
   "source": [
    "# ResNET\n",
    "Experiments using Resnet models and fine-tuning with my usecase. "
   ],
   "metadata": {
    "collapsed": false
   },
   "id": "f95829bcef672c48"
  },
  {
   "cell_type": "code",
   "outputs": [],
   "source": [
    "from pathlib import Path\n",
    "\n",
    "import pytorch_lightning as pl\n",
    "import torch.nn as nn\n",
    "import torchmetrics as tm\n",
    "import torchvision.models as models\n",
    "\n",
    "from torch.optim import SGD, Adam\n",
    "from torch.utils.data import DataLoader\n",
    "from torchvision import transforms\n",
    "from torchvision.datasets import ImageFolder\n",
    "\n",
    "class ResNetClassifier(pl.LightningModule):\n",
    "    resnets = {\n",
    "        18: models.resnet18,\n",
    "        34: models.resnet34,\n",
    "        50: models.resnet50,\n",
    "        101: models.resnet101,\n",
    "        152: models.resnet152,\n",
    "    }\n",
    "    \n",
    "    optimizers = {\"adam\": Adam, \"sgd\": SGD}\n",
    "\n",
    "    def __init__(\n",
    "        self,\n",
    "        num_classes,\n",
    "        resnet_version,\n",
    "        train_path,\n",
    "        val_path,\n",
    "        test_path=None,\n",
    "        optimizer=\"adam\",\n",
    "        lr=1e-3,\n",
    "        batch_size=16,\n",
    "        tune_fc_only=True,\n",
    "    ):\n",
    "        super().__init__()\n",
    "\n",
    "        self.num_classes = num_classes\n",
    "        self.train_path = train_path\n",
    "        self.val_path = val_path\n",
    "        self.test_path = test_path\n",
    "        self.lr = lr\n",
    "        self.batch_size = batch_size\n",
    "\n",
    "        self.optimizer = self.optimizers[optimizer]\n",
    "        self.loss_fn = (nn.BCEWithLogitsLoss() if num_classes == 1 else nn.CrossEntropyLoss())\n",
    "        # Metrics\n",
    "        self.accuracy = tm.Accuracy(task=\"binary\").to(self.device)\n",
    "        self.precision = tm.Precision(task=\"binary\").to(self.device)\n",
    "        self.recall = tm.Recall(task=\"binary\").to(self.device)\n",
    "        self.auc = tm.AUROC(task=\"binary\").to(self.device)\n",
    "        self.f1 = tm.F1Score(task=\"binary\").to(self.device)\n",
    "        self.conf = tm.ConfusionMatrix(task=\"binary\").to(self.device)\n",
    "        \n",
    "        # Using a pretrained ResNet backbone\n",
    "        self.resnet_model = self.resnets[resnet_version]()\n",
    "        \n",
    "        # Replace old FC layer with Identity to train own\n",
    "        linear_size = list(self.resnet_model.children())[-1].in_features\n",
    "        \n",
    "        # replace final layer for fine-tuning\n",
    "        self.resnet_model.fc = nn.Linear(linear_size, num_classes)\n",
    "\n",
    "        if tune_fc_only:  # option to only tune the fully-connected layers\n",
    "            for child in list(self.resnet_model.children())[:-1]:\n",
    "                for param in child.parameters():\n",
    "                    param.requires_grad = False\n",
    "\n",
    "    def forward(self, X):\n",
    "        return self.resnet_model(X)\n",
    "\n",
    "    def configure_optimizers(self):\n",
    "        return self.optimizer(self.parameters(), lr=self.lr)\n",
    "\n",
    "    def _step(self, batch):\n",
    "        x, y = batch\n",
    "        preds = self(x)\n",
    "\n",
    "        if self.num_classes == 1:\n",
    "            preds = preds.flatten()\n",
    "            y = y.float()\n",
    "\n",
    "        loss = self.loss_fn(preds, y)\n",
    "        acc = self.accuracy(preds, y)\n",
    "        return loss, acc\n",
    "\n",
    "    def _dataloader(self, data_path, shuffle=False):\n",
    "        transform = transforms.Compose(\n",
    "            [\n",
    "                transforms.Resize((256, 256)),\n",
    "                transforms.ToTensor(),\n",
    "                transforms.Normalize(mean=[0.485, 0.456, 0.406], std=[0.229, 0.224, 0.225])\n",
    "            ]\n",
    "        )\n",
    "        img_folder = ImageFolder(data_path, transform=transform)\n",
    "\n",
    "        return DataLoader(img_folder, batch_size=self.batch_size, shuffle=shuffle, num_workers=8, persistent_workers=True)\n",
    "\n",
    "    def train_dataloader(self):\n",
    "        return self._dataloader(self.train_path, shuffle=True)\n",
    "\n",
    "    def training_step(self, batch, batch_idx):\n",
    "        loss, acc = self._step(batch)\n",
    "        \n",
    "        self.log(\"train_loss\", loss, on_step=False, on_epoch=True, prog_bar=True, logger=True)\n",
    "        self.log(\"train_acc\", acc, on_step=False, on_epoch=True, prog_bar=True, logger=True)\n",
    "        return loss\n",
    "\n",
    "    def val_dataloader(self):\n",
    "        return self._dataloader(self.val_path)\n",
    "\n",
    "    def validation_step(self, batch, batch_idx):\n",
    "        loss, acc = self._step(batch)\n",
    "\n",
    "        self.log(\"val_loss\", loss, on_epoch=True, prog_bar=True, logger=True)\n",
    "        self.log(\"val_acc\", acc, on_epoch=True, prog_bar=True, logger=True)\n",
    "\n",
    "    def test_dataloader(self):\n",
    "        return self._dataloader(self.test_path)\n",
    "\n",
    "    def test_step(self, batch, batch_idx):\n",
    "        loss, acc = self._step(batch)\n",
    "\n",
    "        self.log(\"test_loss\", loss, on_epoch=True, prog_bar=True, logger=True)\n",
    "        self.log(\"test_acc\", acc, on_epoch=True, prog_bar=True, logger=True)"
   ],
   "metadata": {
    "collapsed": false,
    "ExecuteTime": {
     "end_time": "2024-03-27T17:42:30.688147Z",
     "start_time": "2024-03-27T17:42:30.678074Z"
    }
   },
   "id": "3f52f3f8fe812cdb",
   "execution_count": 68
  },
  {
   "cell_type": "code",
   "outputs": [],
   "source": [
    "import os\n",
    "\n",
    "from dotenv import load_dotenv\n",
    "load_dotenv()\n",
    "root_data = os.getenv(\"KAGGLE_FILES_DIR\")\n",
    "dataset_path = Path(os.getcwd(), \"..\", root_data, 'processed')"
   ],
   "metadata": {
    "collapsed": false,
    "ExecuteTime": {
     "end_time": "2024-03-27T17:42:31.808437Z",
     "start_time": "2024-03-27T17:42:31.804357Z"
    }
   },
   "id": "cdfef26a4b441016",
   "execution_count": 69
  },
  {
   "cell_type": "code",
   "outputs": [
    {
     "name": "stderr",
     "output_type": "stream",
     "text": [
      "GPU available: True (mps), used: True\n",
      "TPU available: False, using: 0 TPU cores\n",
      "IPU available: False, using: 0 IPUs\n",
      "HPU available: False, using: 0 HPUs\n"
     ]
    }
   ],
   "source": [
    "resnet18 = ResNetClassifier(\n",
    "    num_classes=1,\n",
    "    resnet_version=18,\n",
    "    train_path=Path(dataset_path, \"train\"),\n",
    "    val_path=Path(dataset_path, \"val\"),\n",
    "    test_path=Path(dataset_path, \"test\"),\n",
    "    optimizer=\"adam\",\n",
    "    lr=1e-4,\n",
    "    batch_size=32,\n",
    "    tune_fc_only=False,\n",
    ")\n",
    "\n",
    "checkpoint_callback = pl.callbacks.ModelCheckpoint(\n",
    "    dirpath=\"../models/resnet18\",\n",
    "    filename=\"resnet18-model-{epoch}-{val_loss:.3f}-{val_acc:0.3f}\",\n",
    "    monitor=\"val_loss\",\n",
    "    save_top_k=2,\n",
    "    mode=\"min\",\n",
    "    save_last=True,\n",
    ")\n",
    "\n",
    "early_stopping = pl.callbacks.EarlyStopping(\n",
    "    monitor='val_loss',\n",
    "    min_delta=0.001,\n",
    "    patience=3,\n",
    "    verbose=True,\n",
    "    mode='min'\n",
    ")\n",
    "\n",
    "# Instantiate lightning trainer and train model\n",
    "trainer_args = {\n",
    "    \"accelerator\": \"mps\",\n",
    "    \"max_epochs\": 100,\n",
    "    \"callbacks\": [checkpoint_callback, early_stopping],\n",
    "    \"precision\": 32,\n",
    "}\n",
    "trainer = pl.Trainer(**trainer_args)\n",
    "\n"
   ],
   "metadata": {
    "collapsed": false,
    "ExecuteTime": {
     "end_time": "2024-03-27T15:45:26.416148Z",
     "start_time": "2024-03-27T15:45:26.245150Z"
    }
   },
   "id": "11d7043910f3b22a",
   "execution_count": 63
  },
  {
   "cell_type": "code",
   "outputs": [
    {
     "name": "stderr",
     "output_type": "stream",
     "text": [
      "\n",
      "  | Name         | Type                  | Params\n",
      "-------------------------------------------------------\n",
      "0 | loss_fn      | BCEWithLogitsLoss     | 0     \n",
      "1 | accuracy     | BinaryAccuracy        | 0     \n",
      "2 | precision    | BinaryPrecision       | 0     \n",
      "3 | recall       | BinaryRecall          | 0     \n",
      "4 | auc          | BinaryAUROC           | 0     \n",
      "5 | f1           | BinaryF1Score         | 0     \n",
      "6 | conf         | BinaryConfusionMatrix | 0     \n",
      "7 | resnet_model | ResNet                | 11.2 M\n",
      "-------------------------------------------------------\n",
      "11.2 M    Trainable params\n",
      "0         Non-trainable params\n",
      "11.2 M    Total params\n",
      "44.708    Total estimated model params size (MB)\n"
     ]
    },
    {
     "data": {
      "text/plain": "Sanity Checking: |          | 0/? [00:00<?, ?it/s]",
      "application/vnd.jupyter.widget-view+json": {
       "version_major": 2,
       "version_minor": 0,
       "model_id": "11af3f4af7354197bcdcaa1efb8a3dee"
      }
     },
     "metadata": {},
     "output_type": "display_data"
    },
    {
     "data": {
      "text/plain": "Training: |          | 0/? [00:00<?, ?it/s]",
      "application/vnd.jupyter.widget-view+json": {
       "version_major": 2,
       "version_minor": 0,
       "model_id": "5d13debe7a2d4ee79c3c95e3081cdbd0"
      }
     },
     "metadata": {},
     "output_type": "display_data"
    },
    {
     "data": {
      "text/plain": "Validation: |          | 0/? [00:00<?, ?it/s]",
      "application/vnd.jupyter.widget-view+json": {
       "version_major": 2,
       "version_minor": 0,
       "model_id": "6127f2e510f0497491cb766f14ce3d96"
      }
     },
     "metadata": {},
     "output_type": "display_data"
    },
    {
     "name": "stderr",
     "output_type": "stream",
     "text": [
      "Metric val_loss improved. New best score: 0.555\n"
     ]
    },
    {
     "data": {
      "text/plain": "Validation: |          | 0/? [00:00<?, ?it/s]",
      "application/vnd.jupyter.widget-view+json": {
       "version_major": 2,
       "version_minor": 0,
       "model_id": "ac1cf4f5c61a495085d38eae7ed5fc19"
      }
     },
     "metadata": {},
     "output_type": "display_data"
    },
    {
     "name": "stderr",
     "output_type": "stream",
     "text": [
      "Metric val_loss improved by 0.007 >= min_delta = 0.001. New best score: 0.548\n"
     ]
    },
    {
     "data": {
      "text/plain": "Validation: |          | 0/? [00:00<?, ?it/s]",
      "application/vnd.jupyter.widget-view+json": {
       "version_major": 2,
       "version_minor": 0,
       "model_id": "788298ad69b1458b9265bd863d43a31a"
      }
     },
     "metadata": {},
     "output_type": "display_data"
    },
    {
     "name": "stderr",
     "output_type": "stream",
     "text": [
      "Metric val_loss improved by 0.003 >= min_delta = 0.001. New best score: 0.545\n"
     ]
    },
    {
     "data": {
      "text/plain": "Validation: |          | 0/? [00:00<?, ?it/s]",
      "application/vnd.jupyter.widget-view+json": {
       "version_major": 2,
       "version_minor": 0,
       "model_id": "d6fb08e4163948a3a933215a3bfefeaf"
      }
     },
     "metadata": {},
     "output_type": "display_data"
    },
    {
     "data": {
      "text/plain": "Validation: |          | 0/? [00:00<?, ?it/s]",
      "application/vnd.jupyter.widget-view+json": {
       "version_major": 2,
       "version_minor": 0,
       "model_id": "3b4df262d4194e4d82b3501ddcf5bf79"
      }
     },
     "metadata": {},
     "output_type": "display_data"
    },
    {
     "name": "stderr",
     "output_type": "stream",
     "text": [
      "Metric val_loss improved by 0.011 >= min_delta = 0.001. New best score: 0.534\n"
     ]
    },
    {
     "data": {
      "text/plain": "Validation: |          | 0/? [00:00<?, ?it/s]",
      "application/vnd.jupyter.widget-view+json": {
       "version_major": 2,
       "version_minor": 0,
       "model_id": "7affdaf153b6461490da93707cf48fef"
      }
     },
     "metadata": {},
     "output_type": "display_data"
    },
    {
     "name": "stderr",
     "output_type": "stream",
     "text": [
      "Metric val_loss improved by 0.013 >= min_delta = 0.001. New best score: 0.521\n"
     ]
    },
    {
     "data": {
      "text/plain": "Validation: |          | 0/? [00:00<?, ?it/s]",
      "application/vnd.jupyter.widget-view+json": {
       "version_major": 2,
       "version_minor": 0,
       "model_id": "24943dd979eb4b838bd7d98464a2915b"
      }
     },
     "metadata": {},
     "output_type": "display_data"
    },
    {
     "data": {
      "text/plain": "Validation: |          | 0/? [00:00<?, ?it/s]",
      "application/vnd.jupyter.widget-view+json": {
       "version_major": 2,
       "version_minor": 0,
       "model_id": "feec3cfe69ed4ca09904d5dea9c793e4"
      }
     },
     "metadata": {},
     "output_type": "display_data"
    },
    {
     "name": "stderr",
     "output_type": "stream",
     "text": [
      "Metric val_loss improved by 0.041 >= min_delta = 0.001. New best score: 0.480\n"
     ]
    },
    {
     "data": {
      "text/plain": "Validation: |          | 0/? [00:00<?, ?it/s]",
      "application/vnd.jupyter.widget-view+json": {
       "version_major": 2,
       "version_minor": 0,
       "model_id": "a9575bf3270f4936897311d17cb19cfb"
      }
     },
     "metadata": {},
     "output_type": "display_data"
    },
    {
     "data": {
      "text/plain": "Validation: |          | 0/? [00:00<?, ?it/s]",
      "application/vnd.jupyter.widget-view+json": {
       "version_major": 2,
       "version_minor": 0,
       "model_id": "500e27b2e668402ab60c2348c839b9d6"
      }
     },
     "metadata": {},
     "output_type": "display_data"
    },
    {
     "name": "stderr",
     "output_type": "stream",
     "text": [
      "Metric val_loss improved by 0.010 >= min_delta = 0.001. New best score: 0.470\n"
     ]
    },
    {
     "data": {
      "text/plain": "Validation: |          | 0/? [00:00<?, ?it/s]",
      "application/vnd.jupyter.widget-view+json": {
       "version_major": 2,
       "version_minor": 0,
       "model_id": "fe4f7ae6abb7416eba85534abcaece8c"
      }
     },
     "metadata": {},
     "output_type": "display_data"
    },
    {
     "data": {
      "text/plain": "Validation: |          | 0/? [00:00<?, ?it/s]",
      "application/vnd.jupyter.widget-view+json": {
       "version_major": 2,
       "version_minor": 0,
       "model_id": "e593ded574844c6991ed4375cc9a9996"
      }
     },
     "metadata": {},
     "output_type": "display_data"
    },
    {
     "data": {
      "text/plain": "Validation: |          | 0/? [00:00<?, ?it/s]",
      "application/vnd.jupyter.widget-view+json": {
       "version_major": 2,
       "version_minor": 0,
       "model_id": "12e5526c8bde4a0e9b3801f15e8b4450"
      }
     },
     "metadata": {},
     "output_type": "display_data"
    },
    {
     "name": "stderr",
     "output_type": "stream",
     "text": [
      "Monitored metric val_loss did not improve in the last 3 records. Best score: 0.470. Signaling Trainer to stop.\n"
     ]
    }
   ],
   "source": [
    "trainer.fit(resnet18)"
   ],
   "metadata": {
    "collapsed": false,
    "ExecuteTime": {
     "end_time": "2024-03-27T17:31:52.260829Z",
     "start_time": "2024-03-27T15:45:27.030162Z"
    }
   },
   "id": "a2d80a41a0e42a1a",
   "execution_count": 64
  },
  {
   "cell_type": "code",
   "outputs": [
    {
     "data": {
      "text/plain": "Testing: |          | 0/? [00:00<?, ?it/s]",
      "application/vnd.jupyter.widget-view+json": {
       "version_major": 2,
       "version_minor": 0,
       "model_id": "3d539b4337de4d83ae2df4f7da8d9deb"
      }
     },
     "metadata": {},
     "output_type": "display_data"
    },
    {
     "name": "stdout",
     "output_type": "stream",
     "text": [
      "────────────────────────────────────────────────────────────────────────────────────────────────────────────────────────\n",
      "       Test metric             DataLoader 0\n",
      "────────────────────────────────────────────────────────────────────────────────────────────────────────────────────────\n",
      "        test_acc             0.775600790977478\n",
      "        test_auc           0.0028453900013118982\n",
      "         test_f1                    nan\n",
      "        test_loss           0.5288562774658203\n",
      "        test_prec                   nan\n",
      "        test_rec                    nan\n",
      "────────────────────────────────────────────────────────────────────────────────────────────────────────────────────────\n"
     ]
    },
    {
     "data": {
      "text/plain": "[{'test_loss': 0.5288562774658203,\n  'test_acc': 0.775600790977478,\n  'test_prec': nan,\n  'test_rec': nan,\n  'test_f1': nan,\n  'test_auc': 0.0028453900013118982}]"
     },
     "execution_count": 65,
     "metadata": {},
     "output_type": "execute_result"
    }
   ],
   "source": [
    "trainer.test(resnet18)\n"
   ],
   "metadata": {
    "collapsed": false,
    "ExecuteTime": {
     "end_time": "2024-03-27T17:33:03.604381Z",
     "start_time": "2024-03-27T17:31:52.272138Z"
    }
   },
   "id": "4ce02d9424f14ab2",
   "execution_count": 65
  },
  {
   "cell_type": "markdown",
   "source": [
    "Best ResNet18 has loss 0.47 and accuracy 0.80\n",
    "Next is ResNet34.\n"
   ],
   "metadata": {
    "collapsed": false
   },
   "id": "5693e35eba0148d2"
  },
  {
   "cell_type": "markdown",
   "source": [
    "# ResNet34"
   ],
   "metadata": {
    "collapsed": false
   },
   "id": "a0709c0ffc8ee1dd"
  },
  {
   "cell_type": "code",
   "outputs": [
    {
     "name": "stderr",
     "output_type": "stream",
     "text": [
      "GPU available: True (mps), used: True\n",
      "TPU available: False, using: 0 TPU cores\n",
      "IPU available: False, using: 0 IPUs\n",
      "HPU available: False, using: 0 HPUs\n"
     ]
    }
   ],
   "source": [
    "resnet34 = ResNetClassifier(\n",
    "    num_classes=1,\n",
    "    resnet_version=34,\n",
    "    train_path=Path(dataset_path, \"train\"),\n",
    "    val_path=Path(dataset_path, \"val\"),\n",
    "    test_path=Path(dataset_path, \"test\"),\n",
    "    optimizer=\"adam\",\n",
    "    lr=1e-4,\n",
    "    batch_size=32,\n",
    "    tune_fc_only=False,\n",
    ")\n",
    "\n",
    "checkpoint_callback = pl.callbacks.ModelCheckpoint(\n",
    "    dirpath=\"../models/resnet34\",\n",
    "    filename=\"resnet34-model-{epoch}-{val_loss:.3f}-{val_acc:0.3f}\",\n",
    "    monitor=\"val_loss\",\n",
    "    save_top_k=2,\n",
    "    mode=\"min\",\n",
    "    save_last=True,\n",
    ")\n",
    "\n",
    "early_stopping = pl.callbacks.EarlyStopping(\n",
    "    monitor='val_loss',\n",
    "    min_delta=0.001,\n",
    "    patience=3,\n",
    "    verbose=True,\n",
    "    mode='min'\n",
    ")\n",
    "\n",
    "# Instantiate lightning trainer and train model\n",
    "trainer_args = {\n",
    "    \"accelerator\": \"mps\",\n",
    "    \"max_epochs\": 100,\n",
    "    \"callbacks\": [checkpoint_callback, early_stopping],\n",
    "    \"precision\": 32,\n",
    "}\n",
    "trainer = pl.Trainer(**trainer_args)\n",
    "\n"
   ],
   "metadata": {
    "collapsed": false,
    "ExecuteTime": {
     "end_time": "2024-03-27T17:42:48.235207Z",
     "start_time": "2024-03-27T17:42:47.914747Z"
    }
   },
   "id": "342df6abaec449a0",
   "execution_count": 70
  },
  {
   "cell_type": "code",
   "outputs": [
    {
     "name": "stderr",
     "output_type": "stream",
     "text": [
      "\n",
      "  | Name         | Type                  | Params\n",
      "-------------------------------------------------------\n",
      "0 | loss_fn      | BCEWithLogitsLoss     | 0     \n",
      "1 | accuracy     | BinaryAccuracy        | 0     \n",
      "2 | precision    | BinaryPrecision       | 0     \n",
      "3 | recall       | BinaryRecall          | 0     \n",
      "4 | auc          | BinaryAUROC           | 0     \n",
      "5 | f1           | BinaryF1Score         | 0     \n",
      "6 | conf         | BinaryConfusionMatrix | 0     \n",
      "7 | resnet_model | ResNet                | 21.3 M\n",
      "-------------------------------------------------------\n",
      "21.3 M    Trainable params\n",
      "0         Non-trainable params\n",
      "21.3 M    Total params\n",
      "85.141    Total estimated model params size (MB)\n"
     ]
    },
    {
     "data": {
      "text/plain": "Sanity Checking: |          | 0/? [00:00<?, ?it/s]",
      "application/vnd.jupyter.widget-view+json": {
       "version_major": 2,
       "version_minor": 0,
       "model_id": "35bcc742e62440bc968f517e8a552f7f"
      }
     },
     "metadata": {},
     "output_type": "display_data"
    },
    {
     "data": {
      "text/plain": "Training: |          | 0/? [00:00<?, ?it/s]",
      "application/vnd.jupyter.widget-view+json": {
       "version_major": 2,
       "version_minor": 0,
       "model_id": "10800c361aaf4249ba047bcc85c5a0d9"
      }
     },
     "metadata": {},
     "output_type": "display_data"
    },
    {
     "data": {
      "text/plain": "Validation: |          | 0/? [00:00<?, ?it/s]",
      "application/vnd.jupyter.widget-view+json": {
       "version_major": 2,
       "version_minor": 0,
       "model_id": "66c46c3a8e9544f895fe7a9d34f8be99"
      }
     },
     "metadata": {},
     "output_type": "display_data"
    },
    {
     "name": "stderr",
     "output_type": "stream",
     "text": [
      "Metric val_loss improved. New best score: 0.561\n"
     ]
    },
    {
     "data": {
      "text/plain": "Validation: |          | 0/? [00:00<?, ?it/s]",
      "application/vnd.jupyter.widget-view+json": {
       "version_major": 2,
       "version_minor": 0,
       "model_id": "b7ec30adfbf44f4baec118b12e949bfa"
      }
     },
     "metadata": {},
     "output_type": "display_data"
    },
    {
     "name": "stderr",
     "output_type": "stream",
     "text": [
      "Metric val_loss improved by 0.008 >= min_delta = 0.001. New best score: 0.553\n"
     ]
    },
    {
     "data": {
      "text/plain": "Validation: |          | 0/? [00:00<?, ?it/s]",
      "application/vnd.jupyter.widget-view+json": {
       "version_major": 2,
       "version_minor": 0,
       "model_id": "7724c50695c34da0a22c0d88a3d4bf09"
      }
     },
     "metadata": {},
     "output_type": "display_data"
    },
    {
     "data": {
      "text/plain": "Validation: |          | 0/? [00:00<?, ?it/s]",
      "application/vnd.jupyter.widget-view+json": {
       "version_major": 2,
       "version_minor": 0,
       "model_id": "d9b08a76ea8d4a2590b2c36d53c9ecb7"
      }
     },
     "metadata": {},
     "output_type": "display_data"
    },
    {
     "name": "stderr",
     "output_type": "stream",
     "text": [
      "Metric val_loss improved by 0.005 >= min_delta = 0.001. New best score: 0.548\n"
     ]
    },
    {
     "data": {
      "text/plain": "Validation: |          | 0/? [00:00<?, ?it/s]",
      "application/vnd.jupyter.widget-view+json": {
       "version_major": 2,
       "version_minor": 0,
       "model_id": "e44b215c84bd4663a46516f63b89d942"
      }
     },
     "metadata": {},
     "output_type": "display_data"
    },
    {
     "name": "stderr",
     "output_type": "stream",
     "text": [
      "Metric val_loss improved by 0.035 >= min_delta = 0.001. New best score: 0.513\n"
     ]
    }
   ],
   "source": [
    "trainer.fit(resnet34)"
   ],
   "metadata": {
    "collapsed": false,
    "is_executing": true,
    "ExecuteTime": {
     "start_time": "2024-03-27T17:42:52.245799Z"
    }
   },
   "id": "bdb59909c033452c",
   "execution_count": null
  },
  {
   "cell_type": "code",
   "outputs": [],
   "source": [
    "trainer.test(resnet34)"
   ],
   "metadata": {
    "collapsed": false,
    "is_executing": true
   },
   "id": "ce41c77d6fd3026b",
   "execution_count": null
  },
  {
   "cell_type": "markdown",
   "source": [
    "ResNet34 has lower loss and better accuracy than the custom models, but it's worse than ResNet18.\n",
    "I'll try ResNet50 next."
   ],
   "metadata": {
    "collapsed": false
   },
   "id": "bc13a9ee5dc353b1"
  }
 ],
 "metadata": {
  "kernelspec": {
   "display_name": "Python 3",
   "language": "python",
   "name": "python3"
  },
  "language_info": {
   "codemirror_mode": {
    "name": "ipython",
    "version": 2
   },
   "file_extension": ".py",
   "mimetype": "text/x-python",
   "name": "python",
   "nbconvert_exporter": "python",
   "pygments_lexer": "ipython2",
   "version": "2.7.6"
  }
 },
 "nbformat": 4,
 "nbformat_minor": 5
}
