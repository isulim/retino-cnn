{
 "cells": [
  {
   "metadata": {},
   "cell_type": "markdown",
   "source": "# Download data",
   "id": "806db99c3167ec19"
  },
  {
   "metadata": {},
   "cell_type": "markdown",
   "source": "##### Please run ```make configure-envs``` before running this notebook, as it is an interactive script.",
   "id": "22c73385f0057988"
  },
  {
   "metadata": {},
   "cell_type": "markdown",
   "source": "### Download raw data from Kaggle",
   "id": "855d815e2a1bb87c"
  },
  {
   "metadata": {
    "ExecuteTime": {
     "end_time": "2024-04-19T20:09:07.750869Z",
     "start_time": "2024-04-19T19:57:28.758886Z"
    }
   },
   "cell_type": "code",
   "source": "!make -C .. download-data",
   "id": "c6c01442c2a2031c",
   "outputs": [
    {
     "name": "stdout",
     "output_type": "stream",
     "text": [
      "poetry run python scripts/data/download_data.py\r\n",
      "Download start...\r\n",
      "Downloading resized-2015-2019-diabetic-retinopathy-detection.zip to data/raw\r\n",
      "100%|█████████████████████████████████████▉| 17.3G/17.3G [10:09<00:00, 35.0MB/s]\r\n",
      "100%|██████████████████████████████████████| 17.3G/17.3G [10:09<00:00, 30.6MB/s]\r\n",
      "Files downloaded successfully.\r\n",
      "Unzipping files...\r\n",
      "Unzipping all files...\r\n",
      "Unzipped all files.\r\n",
      "Deleted zip file.\r\n",
      "Files unzipped successfully.\r\n"
     ]
    }
   ],
   "execution_count": 7
  },
  {
   "metadata": {},
   "cell_type": "markdown",
   "source": "#### Get path to the raw data",
   "id": "eafe7f1ade8f4d32"
  },
  {
   "metadata": {
    "ExecuteTime": {
     "end_time": "2024-04-19T20:13:50.314110Z",
     "start_time": "2024-04-19T20:13:50.309086Z"
    }
   },
   "cell_type": "code",
   "source": [
    "import os\n",
    "from pathlib import Path\n",
    "\n",
    "from dotenv import load_dotenv\n",
    "load_dotenv()\n",
    "root_data = os.getenv(\"KAGGLE_FILES_DIR\")\n",
    "dataset_path = Path(os.getcwd(), \"..\", root_data)\n",
    "raw = Path(dataset_path, \"raw\")"
   ],
   "id": "361514d7b44ce93e",
   "outputs": [],
   "execution_count": 10
  },
  {
   "metadata": {},
   "cell_type": "markdown",
   "source": "#### Read CSVs files with labels\n",
   "id": "47fb42243ad5c6c8"
  },
  {
   "metadata": {
    "ExecuteTime": {
     "end_time": "2024-04-19T20:13:51.468121Z",
     "start_time": "2024-04-19T20:13:51.416432Z"
    }
   },
   "cell_type": "code",
   "source": [
    "import pandas as pd\n",
    "\n",
    "labels_traintest15_train19 = pd.read_csv(Path(raw, 'labels', 'traintestLabels15_trainLabels19.csv'), header=0, usecols=[\"image\", \"level\"])\n",
    "labels_train19 = pd.read_csv(Path(raw, 'labels', 'trainLabels19.csv'), header=0, usecols=[\"id_code\", \"diagnosis\"])\n",
    "labels_train19.rename(columns={\"id_code\": \"image\", \"diagnosis\": \"level\"}, inplace=True)  # rename columns to match other datasets\n",
    "\n",
    "labels_train15 = pd.read_csv(Path(raw, 'labels', 'trainLabels15.csv'), header=0, usecols=[\"image\", \"level\"])\n",
    "labels_test15 = pd.read_csv(Path(raw, 'labels', 'testLabels15.csv'), header=0, usecols=[\"image\", \"level\"])\n"
   ],
   "id": "ac0b9ef77e10ed57",
   "outputs": [],
   "execution_count": 11
  },
  {
   "metadata": {},
   "cell_type": "markdown",
   "source": "#### Shapes of labels CSVs",
   "id": "f18d8fbd8574126"
  },
  {
   "metadata": {
    "ExecuteTime": {
     "end_time": "2024-04-19T20:14:50.006207Z",
     "start_time": "2024-04-19T20:14:50.004047Z"
    }
   },
   "cell_type": "code",
   "source": [
    "print(labels_traintest15_train19.shape)\n",
    "print(labels_train19.shape)\n",
    "print(labels_train15.shape)\n",
    "print(labels_test15.shape)"
   ],
   "id": "b96371952f3cc910",
   "outputs": [
    {
     "name": "stdout",
     "output_type": "stream",
     "text": [
      "(92364, 2)\n",
      "(3662, 2)\n",
      "(35126, 2)\n",
      "(53576, 2)\n"
     ]
    }
   ],
   "execution_count": 12
  },
  {
   "metadata": {},
   "cell_type": "markdown",
   "source": "#### Concatenate all labels with no duplicates",
   "id": "d64852887105b1c1"
  },
  {
   "metadata": {
    "ExecuteTime": {
     "end_time": "2024-04-19T20:15:54.198650Z",
     "start_time": "2024-04-19T20:15:54.178782Z"
    }
   },
   "cell_type": "code",
   "source": [
    "labels = pd.concat([labels_traintest15_train19, labels_train19, labels_train15, labels_test15], ignore_index=True).drop_duplicates()\n",
    "labels.shape"
   ],
   "id": "4a393f04af1c2d08",
   "outputs": [
    {
     "data": {
      "text/plain": [
       "(92364, 2)"
      ]
     },
     "execution_count": 14,
     "metadata": {},
     "output_type": "execute_result"
    }
   ],
   "execution_count": 14
  },
  {
   "metadata": {},
   "cell_type": "markdown",
   "source": [
    "##### Looks like `labels_traintest15_train19` labels contains all unique data.\n",
    "#### Check images directories length"
   ],
   "id": "3de9eb3b19c1e667"
  },
  {
   "metadata": {
    "ExecuteTime": {
     "end_time": "2024-04-19T20:16:07.705714Z",
     "start_time": "2024-04-19T20:16:07.400868Z"
    }
   },
   "cell_type": "code",
   "source": [
    "imgs_15 = Path(raw, 'resized_traintest15_train19')\n",
    "imgs_19 = Path(raw, 'resized_test19')\n",
    "\n",
    "print(len(list(imgs_15.glob(\"*\"))))\n",
    "print(len(list(imgs_19.glob(\"*\"))))\n"
   ],
   "id": "c6657659341d1cc7",
   "outputs": [
    {
     "name": "stdout",
     "output_type": "stream",
     "text": [
      "92364\n",
      "1928\n"
     ]
    }
   ],
   "execution_count": 17
  },
  {
   "metadata": {},
   "cell_type": "markdown",
   "source": "#### Check if `traintestLabels15_trainLabels19.csv` contains all images from `resized_traintest15_train19`.",
   "id": "3d0cda7df3c91bf4"
  },
  {
   "metadata": {
    "ExecuteTime": {
     "end_time": "2024-04-19T20:16:15.036719Z",
     "start_time": "2024-04-19T20:16:14.349807Z"
    }
   },
   "cell_type": "code",
   "source": [
    "missing = []\n",
    "\n",
    "for label in labels[[\"image\"]].values:\n",
    "    p = Path(imgs_15, f\"{label[0]}.jpg\")\n",
    "    if not p.exists():\n",
    "        missing.append(label)\n",
    "        print(f\"Image {label[0]} not found in `resized_traintest15_train19`\")"
   ],
   "id": "cfe90b4c623ed7d3",
   "outputs": [],
   "execution_count": 19
  },
  {
   "metadata": {},
   "cell_type": "markdown",
   "source": [
    "#### All images from `traintestLabels15_trainLabels19.csv` are present in `resized_traintest15_train19`.\n",
    "#### Other CSVs and resized_test19 directory will be removed."
   ],
   "id": "80ae1545180dcc05"
  },
  {
   "metadata": {},
   "cell_type": "code",
   "outputs": [],
   "execution_count": null,
   "source": "",
   "id": "9b66475c8b650df"
  }
 ],
 "metadata": {
  "kernelspec": {
   "display_name": "Python 3",
   "language": "python",
   "name": "python3"
  },
  "language_info": {
   "codemirror_mode": {
    "name": "ipython",
    "version": 2
   },
   "file_extension": ".py",
   "mimetype": "text/x-python",
   "name": "python",
   "nbconvert_exporter": "python",
   "pygments_lexer": "ipython2",
   "version": "2.7.6"
  }
 },
 "nbformat": 4,
 "nbformat_minor": 5
}
