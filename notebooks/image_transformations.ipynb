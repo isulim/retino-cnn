{
 "cells": [
  {
   "cell_type": "markdown",
   "source": [
    "# Data transformations\n",
    "In this notebook I will use model from `lightning_model.ipynb` and try to find optimal image transformations to maximize training output."
   ],
   "metadata": {
    "collapsed": false
   },
   "id": "dd04201918c0fc40"
  },
  {
   "cell_type": "code",
   "outputs": [],
   "source": [],
   "metadata": {
    "collapsed": false
   },
   "id": "41f12fc69c31a60c"
  }
 ],
 "metadata": {
  "kernelspec": {
   "display_name": "Python 3",
   "language": "python",
   "name": "python3"
  },
  "language_info": {
   "codemirror_mode": {
    "name": "ipython",
    "version": 2
   },
   "file_extension": ".py",
   "mimetype": "text/x-python",
   "name": "python",
   "nbconvert_exporter": "python",
   "pygments_lexer": "ipython2",
   "version": "2.7.6"
  }
 },
 "nbformat": 4,
 "nbformat_minor": 5
}
