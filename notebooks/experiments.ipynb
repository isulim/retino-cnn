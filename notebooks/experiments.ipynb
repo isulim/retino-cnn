{
 "cells": [
  {
   "cell_type": "markdown",
   "source": [
    "# Exploration of the data"
   ],
   "metadata": {
    "collapsed": false
   },
   "id": "c11868a07edaff6c"
  },
  {
   "cell_type": "markdown",
   "source": [
    "#### Get path to the raw data"
   ],
   "metadata": {
    "collapsed": false
   },
   "id": "8c86794b51acd8c4"
  },
  {
   "cell_type": "code",
   "outputs": [],
   "source": [
    "import os\n",
    "from pathlib import Path\n",
    "\n",
    "from dotenv import load_dotenv\n",
    "load_dotenv()\n",
    "root_data = os.getenv(\"KAGGLE_FILES_DIR\")\n",
    "dataset_path = Path(os.getcwd(), \"..\", root_data)\n",
    "raw = Path(dataset_path, \"raw\")"
   ],
   "metadata": {
    "collapsed": false,
    "ExecuteTime": {
     "end_time": "2024-03-12T19:15:15.789380Z",
     "start_time": "2024-03-12T19:15:15.762178Z"
    }
   },
   "id": "abfed3beea6ea489",
   "execution_count": 53
  },
  {
   "cell_type": "markdown",
   "source": [
    "#### Read CSVs files with labels"
   ],
   "metadata": {
    "collapsed": false
   },
   "id": "416374fe1197c5ea"
  },
  {
   "cell_type": "code",
   "outputs": [],
   "source": [
    "import pandas as pd\n",
    "\n",
    "labels_traintest15_train19 = pd.read_csv(Path(raw, 'labels', 'traintestLabels15_trainLabels19.csv'), header=0, usecols=[\"image\", \"level\"])\n",
    "labels_train19 = pd.read_csv(Path(raw, 'labels', 'trainLabels19.csv'), header=0, usecols=[\"id_code\", \"diagnosis\"])\n",
    "labels_train19.rename(columns={\"id_code\": \"image\", \"diagnosis\": \"level\"}, inplace=True)  # rename columns to match other datasets\n",
    "\n",
    "labels_train15 = pd.read_csv(Path(raw, 'labels', 'trainLabels15.csv'), header=0, usecols=[\"image\", \"level\"])\n",
    "labels_test15 = pd.read_csv(Path(raw, 'labels', 'testLabels15.csv'), header=0, usecols=[\"image\", \"level\"])\n"
   ],
   "metadata": {
    "collapsed": false,
    "ExecuteTime": {
     "end_time": "2024-03-12T18:23:59.688546Z",
     "start_time": "2024-03-12T18:23:57.496602Z"
    }
   },
   "id": "e1a0868dee3933a",
   "execution_count": 3
  },
  {
   "cell_type": "markdown",
   "source": [
    "#### Shapes of labels CSVs"
   ],
   "metadata": {
    "collapsed": false
   },
   "id": "1e0b7bc303e9a547"
  },
  {
   "cell_type": "code",
   "outputs": [
    {
     "name": "stdout",
     "output_type": "stream",
     "text": [
      "(92364, 2)\n",
      "(3662, 2)\n",
      "(35126, 2)\n",
      "(53576, 2)\n"
     ]
    }
   ],
   "source": [
    "print(labels_traintest15_train19.shape)\n",
    "print(labels_train19.shape)\n",
    "print(labels_train15.shape)\n",
    "print(labels_test15.shape)"
   ],
   "metadata": {
    "collapsed": false,
    "ExecuteTime": {
     "end_time": "2024-03-12T18:23:59.691498Z",
     "start_time": "2024-03-12T18:23:59.689936Z"
    }
   },
   "id": "65f451aa1e770332",
   "execution_count": 4
  },
  {
   "cell_type": "markdown",
   "source": [
    "#### Concatenate all labels with no duplicates"
   ],
   "metadata": {
    "collapsed": false
   },
   "id": "65400319ae571d4c"
  },
  {
   "cell_type": "code",
   "outputs": [
    {
     "data": {
      "text/plain": "(92364, 2)"
     },
     "execution_count": 5,
     "metadata": {},
     "output_type": "execute_result"
    }
   ],
   "source": [
    "labels = pd.concat([labels_traintest15_train19, labels_train19, labels_train15, labels_test15], ignore_index=True).drop_duplicates()\n",
    "labels.shape"
   ],
   "metadata": {
    "collapsed": false,
    "ExecuteTime": {
     "end_time": "2024-03-12T18:24:00.759061Z",
     "start_time": "2024-03-12T18:24:00.732885Z"
    }
   },
   "id": "70ce389949dc4b84",
   "execution_count": 5
  },
  {
   "cell_type": "markdown",
   "source": [
    "##### Looks like `labels_traintest15_train19` labels contains all unique data."
   ],
   "metadata": {
    "collapsed": false
   },
   "id": "25106aa895bccc13"
  },
  {
   "cell_type": "markdown",
   "source": [
    "#### Check images directories length"
   ],
   "metadata": {
    "collapsed": false
   },
   "id": "e39d01daa43e773c"
  },
  {
   "cell_type": "code",
   "outputs": [
    {
     "name": "stdout",
     "output_type": "stream",
     "text": [
      "92364\n",
      "1928\n"
     ]
    }
   ],
   "source": [
    "imgs_15 = Path(raw, 'resized_traintest15_train19')\n",
    "imgs_19 = Path(raw, 'resized_test19')\n",
    "\n",
    "print(len(list(imgs_15.glob(\"*\"))))\n",
    "print(len(list(imgs_19.glob(\"*\"))))\n"
   ],
   "metadata": {
    "collapsed": false,
    "ExecuteTime": {
     "end_time": "2024-03-12T18:24:03.674133Z",
     "start_time": "2024-03-12T18:24:03.365064Z"
    }
   },
   "id": "9dbf994042569263",
   "execution_count": 6
  },
  {
   "cell_type": "markdown",
   "source": [
    "#### Check if `traintestLabels15_trainLabels19.csv` contains all images from `resized_traintest15_train19`."
   ],
   "metadata": {
    "collapsed": false
   },
   "id": "c955c073728e6765"
  },
  {
   "cell_type": "code",
   "outputs": [],
   "source": [
    "missing = []\n",
    "\n",
    "for label in labels[[\"image\"]].values:\n",
    "    p = Path(imgs_15, f\"{label[0]}.jpg\")\n",
    "    if not p.exists():\n",
    "        missing.append(label)\n",
    "        print(f\"Image {label[0]} not found in `resized_traintest15_train19`\")"
   ],
   "metadata": {
    "collapsed": false
   },
   "id": "df768698fef9770a"
  },
  {
   "cell_type": "markdown",
   "source": [
    "#### All images from `traintestLabels15_trainLabels19.csv` are present in `resized_traintest15_train19`.\n",
    "#### Other CSVs and resized_test19 directory are not removed."
   ],
   "metadata": {
    "collapsed": false
   },
   "id": "b07d2b09a8b70e4c"
  },
  {
   "cell_type": "code",
   "outputs": [],
   "source": [
    "import shutil\n",
    "shutil.rmtree(imgs_19)\n",
    "shutil.move(imgs_15, Path(raw, \"images\"))\n",
    "labels.to_csv(Path(raw, \"labels.csv\"), index=False)\n",
    "shutil.rmtree(Path(raw, \"labels\"))"
   ],
   "metadata": {
    "collapsed": false,
    "ExecuteTime": {
     "end_time": "2024-03-12T18:33:32.938880Z",
     "start_time": "2024-03-12T18:33:32.926257Z"
    }
   },
   "id": "1555676b4ad23314",
   "execution_count": 25
  },
  {
   "cell_type": "markdown",
   "source": [
    "#### Make dirs for clases of data"
   ],
   "metadata": {
    "collapsed": false
   },
   "id": "6db6a20db00517f5"
  },
  {
   "cell_type": "code",
   "outputs": [],
   "source": [
    "retinopathy_severity = {\n",
    "    0: \"healthy\",\n",
    "    1: \"mild\",\n",
    "    2: \"moderate\",\n",
    "    3: \"severe\",\n",
    "    4: \"proliferative\"\n",
    "}\n",
    "for severity in retinopathy_severity.values():\n",
    "    os.makedirs(Path(raw, severity), exist_ok=True)"
   ],
   "metadata": {
    "collapsed": false,
    "ExecuteTime": {
     "end_time": "2024-03-12T18:45:52.372881Z",
     "start_time": "2024-03-12T18:45:52.359837Z"
    }
   },
   "id": "64a6d64d9b3a82e4",
   "execution_count": 33
  },
  {
   "cell_type": "markdown",
   "source": [
    "#### Move images to their classes"
   ],
   "metadata": {
    "collapsed": false
   },
   "id": "c936fd8128917eda"
  },
  {
   "cell_type": "code",
   "outputs": [],
   "source": [
    "from tqdm import tqdm\n",
    "images = Path(raw, \"images\")\n",
    "\n",
    "for image in tqdm(images.glob(\"*\")):\n",
    "    label = labels[labels[\"image\"] == image.stem][\"level\"].values[0]\n",
    "    shutil.move(image, Path(raw, retinopathy_severity[label], image.name))\n",
    "\n",
    "shutil.rmtree(images)"
   ],
   "metadata": {
    "collapsed": false,
    "ExecuteTime": {
     "end_time": "2024-03-12T19:04:54.719377Z",
     "start_time": "2024-03-12T19:04:54.629221Z"
    }
   },
   "id": "6b8c3548c53b7258",
   "execution_count": 51
  },
  {
   "cell_type": "markdown",
   "source": [
    "#### Split images into train, validation and test sets (70%/20%/10%)"
   ],
   "metadata": {
    "collapsed": false
   },
   "id": "514906a8eb20eaf2"
  },
  {
   "cell_type": "code",
   "outputs": [
    {
     "name": "stderr",
     "output_type": "stream",
     "text": [
      "Copying files: 92364 files [00:58, 1584.17 files/s]\n"
     ]
    }
   ],
   "source": [
    "import splitfolders\n",
    "\n",
    "processed = Path(dataset_path, 'processed')\n",
    "os.makedirs(processed, exist_ok=True)\n",
    "\n",
    "splitfolders.ratio(raw, output=processed, seed=42, ratio=(0.7, 0.2, 0.1))"
   ],
   "metadata": {
    "collapsed": false,
    "ExecuteTime": {
     "end_time": "2024-03-12T19:16:28.267603Z",
     "start_time": "2024-03-12T19:15:29.955962Z"
    }
   },
   "id": "f71a84b28588614f",
   "execution_count": 54
  },
  {
   "cell_type": "code",
   "outputs": [],
   "source": [],
   "metadata": {
    "collapsed": false
   },
   "id": "9c7c3b3e62a1c1db"
  },
  {
   "cell_type": "markdown",
   "source": [
    "# Create train, validation, test datasets"
   ],
   "metadata": {
    "collapsed": false
   },
   "id": "690144e8483309e1"
  },
  {
   "cell_type": "code",
   "outputs": [],
   "source": [
    "import os\n",
    "from pathlib import Path\n",
    "\n",
    "from dotenv import load_dotenv\n",
    "load_dotenv()\n",
    "root_data = os.getenv(\"KAGGLE_FILES_DIR\")\n",
    "dataset_path = Path(os.getcwd(), \"..\", root_data)"
   ],
   "metadata": {
    "collapsed": false,
    "ExecuteTime": {
     "end_time": "2024-03-12T21:16:36.536810Z",
     "start_time": "2024-03-12T21:16:36.531469Z"
    }
   },
   "id": "b811413cfaed9638",
   "execution_count": 1
  },
  {
   "cell_type": "code",
   "outputs": [],
   "source": [
    "import torchvision\n",
    "\n",
    "split = Path(dataset_path, 'processed')\n",
    "train_dataset = torchvision.datasets.ImageFolder(root=str(Path(split, 'train')), transform=None)\n",
    "val_dataset = torchvision.datasets.ImageFolder(root=str(Path(split, 'val')), transform=None)\n",
    "test_dataset = torchvision.datasets.ImageFolder(root=str(Path(split, 'test')), transform=None)"
   ],
   "metadata": {
    "collapsed": false,
    "ExecuteTime": {
     "end_time": "2024-03-12T21:30:10.491050Z",
     "start_time": "2024-03-12T21:30:10.137854Z"
    }
   },
   "id": "2524f70c9de08521",
   "execution_count": 3
  },
  {
   "cell_type": "code",
   "outputs": [
    {
     "name": "stdout",
     "output_type": "stream",
     "text": [
      "64653\n",
      "18471\n",
      "9240\n"
     ]
    }
   ],
   "source": [
    "print(len(train_dataset))\n",
    "print(len(val_dataset))\n",
    "print(len(test_dataset))"
   ],
   "metadata": {
    "collapsed": false,
    "ExecuteTime": {
     "end_time": "2024-03-12T21:44:46.467901Z",
     "start_time": "2024-03-12T21:44:46.465852Z"
    }
   },
   "id": "eaa690685db2b60b",
   "execution_count": 5
  },
  {
   "cell_type": "markdown",
   "source": [
    "## Explore image sizes"
   ],
   "metadata": {
    "collapsed": false
   },
   "id": "67b06d22690e6dae"
  },
  {
   "cell_type": "code",
   "outputs": [
    {
     "name": "stderr",
     "output_type": "stream",
     "text": [
      "100%|██████████| 6466/6466 [01:17<00:00, 83.37it/s] \n"
     ]
    },
    {
     "data": {
      "text/plain": "<Figure size 1000x1000 with 1 Axes>",
      "image/png": "[encoded data removed]"
     },
     "metadata": {},
     "output_type": "display_data"
    },
    {
     "name": "stdout",
     "output_type": "stream",
     "text": [
      "Lowest width: 205, lowest height: 205\n",
      "Highest width: 1024, highest height: 1024\n",
      "Average width: 1021.7704918032787, average height: 913.9655119084441\n"
     ]
    }
   ],
   "source": [
    "import matplotlib.pyplot as plt\n",
    "from tqdm import tqdm\n",
    "\n",
    "highest_width = 0\n",
    "highest_height = 0\n",
    "\n",
    "lowest_width = float(\"inf\")\n",
    "lowest_height = float(\"inf\")\n",
    "\n",
    "avg_width = 0\n",
    "avg_height = 0\n",
    "\n",
    "figure = plt.figure(figsize=(10, 10))\n",
    "\n",
    "ran = range(1, len(train_dataset), 10)\n",
    "for _ in tqdm(ran):\n",
    "    img, label = train_dataset[_]\n",
    "    size = img.size\n",
    "    \n",
    "    avg_width += size[0]\n",
    "    avg_height += size[1]\n",
    "    \n",
    "    if size[0] < lowest_width:\n",
    "        lowest_width = size[0]\n",
    "    if size[1] < lowest_height:\n",
    "        lowest_height = size[1]\n",
    "    \n",
    "    if size[0] > highest_width:\n",
    "        highest_width = size[0]\n",
    "    if size[1] > highest_height:\n",
    "        highest_height = size[1]\n",
    "    \n",
    "    plt.scatter(size[0], size[1])\n",
    "    \n",
    "\n",
    "plt.xlabel(\"Width\")\n",
    "plt.ylabel(\"Height\")\n",
    "plt.title(\"Image sizes\")\n",
    "plt.show()\n",
    "print(f\"Lowest width: {lowest_width}, lowest height: {lowest_height}\")\n",
    "print(f\"Highest width: {highest_width}, highest height: {highest_height}\")\n",
    "print(f\"Average width: {avg_width / len(ran)}, average height: {avg_height / len(ran)}\")"
   ],
   "metadata": {
    "collapsed": false,
    "ExecuteTime": {
     "end_time": "2024-03-12T21:54:09.565294Z",
     "start_time": "2024-03-12T21:52:42.405213Z"
    }
   },
   "id": "c9412a07f7280728",
   "execution_count": 11
  },
  {
   "cell_type": "markdown",
   "source": [
    "Average size is close to 1024x1024, but images will be resized to quarter this size - 512x512, to speed up training.\n",
    "Very little images will be upscaled, so information loss should be minimal."
   ],
   "metadata": {
    "collapsed": false
   },
   "id": "4e54e78a0468e755"
  },
  {
   "cell_type": "markdown",
   "source": [
    "### Add transforms to the dataset"
   ],
   "metadata": {
    "collapsed": false
   },
   "id": "7cff069c946d280a"
  },
  {
   "cell_type": "code",
   "outputs": [],
   "source": [
    "from torchvision import transforms\n",
    "transformations = transforms.Compose([\n",
    "    transforms.Resize((512, 512)),\n",
    "    transforms.ToTensor(),\n",
    "])\n",
    "train_dataset = torchvision.datasets.ImageFolder(root=str(Path(split, 'train')), transform=transformations)\n",
    "val_dataset = torchvision.datasets.ImageFolder(root=str(Path(split, 'val')), transform=transformations)\n",
    "test_dataset = torchvision.datasets.ImageFolder(root=str(Path(split, 'test')), transform=transformations)"
   ],
   "metadata": {
    "collapsed": false
   },
   "id": "e8e73f31dcb57e67",
   "execution_count": null
  },
  {
   "cell_type": "markdown",
   "source": [
    "### Visualize some images from train dataset"
   ],
   "metadata": {
    "collapsed": false
   },
   "id": "c9ad0b5aa71e6502"
  },
  {
   "cell_type": "code",
   "outputs": [],
   "source": [
    "import torch\n",
    "import numpy as np\n",
    "import matplotlib.pyplot as plt\n",
    "\n",
    "DR_CLASSES = {\n",
    "    0: \"healthy\",\n",
    "    1: \"mild\",\n",
    "    2: \"moderate\",\n",
    "    3: \"severe\",\n",
    "    4: \"proliferative\"\n",
    "}\n",
    "\n",
    "figure = plt.figure(figsize=(15, 15))\n",
    "cols, rows = 3, 3\n",
    "for i in range(1, cols * rows + 1):\n",
    "    sample_idx = torch.randint(len(train_dataset), size=(1,)).item()\n",
    "    img, label = train_dataset[sample_idx]\n",
    "    figure.add_subplot(rows, cols, i)\n",
    "    plt.title(DR_CLASSES[label])\n",
    "    plt.axis(\"off\")\n",
    "    img_np = img.numpy().transpose((1, 2, 0))\n",
    "    # Clip pixel values to [0, 1]\n",
    "    img_valid_range = np.clip(img_np, 0, 1)\n",
    "    plt.imshow(img_valid_range)\n",
    "    "
   ],
   "metadata": {
    "collapsed": false
   },
   "id": "8d60c8a8ef83362c",
   "execution_count": null
  },
  {
   "cell_type": "markdown",
   "source": [
    "# Dataloaders"
   ],
   "metadata": {
    "collapsed": false
   },
   "id": "cb468d978a8df10d"
  },
  {
   "cell_type": "code",
   "outputs": [],
   "source": [
    "BATCH_SIZE = 16\n",
    "LOADER_WORKERS = 8\n",
    "\n",
    "transformations = transforms.Compose([\n",
    "    transforms.Resize((512, 512)),\n",
    "    transforms.ToTensor(),\n",
    "])\n",
    "\n",
    "train_dataset = torchvision.datasets.ImageFolder(root=str(Path(split, 'train')), transform=transformations)\n",
    "val_dataset = torchvision.datasets.ImageFolder(root=str(Path(split, 'val')), transform=transformations)\n",
    "test_dataset = torchvision.datasets.ImageFolder(root=str(Path(split, 'test')), transform=transformations)\n",
    "\n",
    "train_loader = torch.utils.data.DataLoader(train_dataset, batch_size=BATCH_SIZE, shuffle=True, num_workers=LOADER_WORKERS)\n",
    "val_loader = torch.utils.data.DataLoader(val_dataset, batch_size=BATCH_SIZE, shuffle=True, num_workers=LOADER_WORKERS)\n",
    "test_loader = torch.utils.data.DataLoader(test_dataset, batch_size=BATCH_SIZE, shuffle=True, num_workers=LOADER_WORKERS)\n"
   ],
   "metadata": {
    "collapsed": false,
    "ExecuteTime": {
     "end_time": "2024-03-12T22:20:19.313675Z",
     "start_time": "2024-03-12T22:20:18.945663Z"
    }
   },
   "id": "8b51e7df17f56aa2",
   "execution_count": 56
  },
  {
   "cell_type": "markdown",
   "source": [
    "### Size of datasets"
   ],
   "metadata": {
    "collapsed": false
   },
   "id": "bb9766d0af2ef55c"
  },
  {
   "cell_type": "code",
   "outputs": [
    {
     "name": "stdout",
     "output_type": "stream",
     "text": [
      "Train dataset size: 64653\n",
      "Validation dataset size: 18471\n",
      "Test dataset size: 9240\n"
     ]
    }
   ],
   "source": [
    "print(f\"Train dataset size: {len(train_dataset)}\")\n",
    "print(f\"Validation dataset size: {len(val_dataset)}\")\n",
    "print(f\"Test dataset size: {len(test_dataset)}\")"
   ],
   "metadata": {
    "collapsed": false,
    "ExecuteTime": {
     "end_time": "2024-03-12T22:20:19.640766Z",
     "start_time": "2024-03-12T22:20:19.638142Z"
    }
   },
   "id": "b4e075ec7a51542b",
   "execution_count": 57
  },
  {
   "cell_type": "code",
   "outputs": [
    {
     "name": "stdout",
     "output_type": "stream",
     "text": [
      "3\n",
      "0\n"
     ]
    }
   ],
   "source": [
    "image, label = train_dataset[0]\n",
    "print(image.shape[0])\n",
    "print(label)"
   ],
   "metadata": {
    "collapsed": false,
    "ExecuteTime": {
     "end_time": "2024-03-12T22:20:19.850239Z",
     "start_time": "2024-03-12T22:20:19.831360Z"
    }
   },
   "id": "42a65082abe5963d",
   "execution_count": 58
  },
  {
   "cell_type": "markdown",
   "source": [
    "# Define classifier\n",
    "### Using CNN with 3 convolutional layers and 2 fully connected layers."
   ],
   "metadata": {
    "collapsed": false
   },
   "id": "d0f2ca947786dc71"
  },
  {
   "cell_type": "code",
   "outputs": [],
   "source": [
    "import torch.nn as nn\n",
    "\n",
    "\n",
    "class CNN(nn.Module):\n",
    "    def __init__(self, input_size: torch.Size, initial_filters: int, out_classes: int, dropout: float = 0.25, device: str = \"cpu\", ):\n",
    "        super(CNN, self).__init__()\n",
    "        channels, _, _ = input_size\n",
    "        self.device = device\n",
    "        self.conv = nn.Sequential(\n",
    "            nn.Conv2d(channels, initial_filters, kernel_size=3, stride=1, padding=1, device=self.device),\n",
    "            nn.ReLU(),\n",
    "            nn.MaxPool2d(kernel_size=2),\n",
    "            nn.Conv2d(initial_filters, initial_filters * 2, kernel_size=3, stride=1, padding=1, device=self.device),\n",
    "            nn.ReLU(),\n",
    "            nn.MaxPool2d(kernel_size=2),\n",
    "            nn.Conv2d(initial_filters * 2, initial_filters * 4, kernel_size=3, stride=1, padding=1, device=self.device),\n",
    "            nn.ReLU(),\n",
    "            nn.MaxPool2d(kernel_size=2),\n",
    "        )\n",
    "        self.perceptron = nn.Sequential(\n",
    "            nn.Linear(self._get_conv_out_shape(input_size), initial_filters * 8, device=self.device),\n",
    "            nn.Dropout(dropout),\n",
    "            nn.Linear(initial_filters * 8, out_classes, device=self.device),\n",
    "        )\n",
    "    \n",
    "    def forward(self, x: torch.Tensor):\n",
    "        x = x.to(self.device)\n",
    "        x = self.conv(x)\n",
    "        x = x.view(x.size(0), -1)\n",
    "        x = self.perceptron(x)\n",
    "        return x\n",
    "    \n",
    "    def _get_conv_out_shape(self, input_size: torch.Size):\n",
    "        with torch.no_grad():\n",
    "            zeros = torch.zeros(*input_size, device=self.device)\n",
    "            z = self.conv(zeros)\n",
    "            z = torch.prod(torch.tensor(z.shape))\n",
    "        return z\n"
   ],
   "metadata": {
    "collapsed": false,
    "ExecuteTime": {
     "end_time": "2024-03-12T22:20:21.864861Z",
     "start_time": "2024-03-12T22:20:21.860692Z"
    }
   },
   "id": "c01c17a41221d1de",
   "execution_count": 59
  },
  {
   "cell_type": "code",
   "outputs": [],
   "source": [
    "class EarlyStopper:\n",
    "    def __init__(self, patience: int = 5, min_delta: float = 0.001):\n",
    "        self.patience = patience\n",
    "        self.min_delta = min_delta\n",
    "        self.counter = 0\n",
    "        self.min_validation_loss = float('inf')\n",
    "\n",
    "    def early_stop(self, validation_loss):\n",
    "        if validation_loss < self.min_validation_loss:\n",
    "            self.min_validation_loss = validation_loss\n",
    "            self.counter = 0\n",
    "        elif validation_loss > (self.min_validation_loss + self.min_delta):\n",
    "            self.counter += 1\n",
    "            if self.counter >= self.patience:\n",
    "                return True\n",
    "        return False"
   ],
   "metadata": {
    "collapsed": false,
    "ExecuteTime": {
     "end_time": "2024-03-12T22:20:23.607169Z",
     "start_time": "2024-03-12T22:20:23.604054Z"
    }
   },
   "id": "2167ec2f3c179d61",
   "execution_count": 60
  },
  {
   "cell_type": "markdown",
   "source": [
    "For evaluation of the model, I will use accuracy and cross-entropy loss."
   ],
   "metadata": {
    "collapsed": false
   },
   "id": "69f8cb45bc9df026"
  },
  {
   "cell_type": "code",
   "outputs": [],
   "source": [
    "def evaluate(model: nn.Module, valid_loader: torch.utils.data.DataLoader, criterion: nn.Module):    \n",
    "    model.eval()\n",
    "    epoch_loss = 0\n",
    "    correct_class = 0\n",
    "    \n",
    "    dataset_size = len(valid_loader.dataset)\n",
    "    \n",
    "    with torch.no_grad():\n",
    "        device = model.device\n",
    "        for X_batch, y_batch in tqdm(valid_loader, desc=\"Validation: \"):\n",
    "            X_batch = X_batch.to(device)\n",
    "            y_batch = y_batch.to(device)\n",
    "            output = model(X_batch)\n",
    "            y_pred = torch.argmax(output, dim=1)  # argmax or softmax?\n",
    "            correct_class += (y_pred == y_batch).sum()\n",
    "            loss = criterion(output, y_batch)\n",
    "            epoch_loss += loss.item() * X_batch.size(0)\n",
    "    \n",
    "    avg_epoch_loss = epoch_loss / dataset_size\n",
    "    accuracy = correct_class / dataset_size\n",
    "    return avg_epoch_loss, accuracy"
   ],
   "metadata": {
    "collapsed": false,
    "ExecuteTime": {
     "end_time": "2024-03-12T22:20:23.713862Z",
     "start_time": "2024-03-12T22:20:23.711087Z"
    }
   },
   "id": "3c46d84f4ce9bf4e",
   "execution_count": 61
  },
  {
   "cell_type": "code",
   "outputs": [],
   "source": [
    "import torch.optim as optim\n",
    "\n",
    "from tqdm import tqdm\n",
    "\n",
    "def train(\n",
    "        model: nn.Module, \n",
    "        train_loader: torch.utils.data.DataLoader,\n",
    "        valid_loader: torch.utils.data.DataLoader,\n",
    "        max_epochs: int,\n",
    "        optimizer: optim.Optimizer, \n",
    "        criterion: nn.Module,\n",
    "        patience: int = 3,\n",
    "        min_delta: float = 0.001,\n",
    "):\n",
    "    device = model.device\n",
    "    early_stopping = EarlyStopper(patience=patience, min_delta=min_delta)\n",
    "    for epoch in range(max_epochs):\n",
    "        model.train()\n",
    "        for X_batch, y_batch in tqdm(train_loader, desc=f\"Train epoch {epoch}: \"):\n",
    "            X_batch = X_batch.to(device)\n",
    "            y_batch = y_batch.to(device)\n",
    "            optimizer.zero_grad()\n",
    "            y_pred = model(X_batch)\n",
    "            loss = criterion(y_pred, y_batch)\n",
    "            loss.backward()\n",
    "            optimizer.step()\n",
    "        \n",
    "        avg_epoch_loss, accuracy = evaluate(model, valid_loader, criterion, device=device)\n",
    "        print(f\"Epoch: {epoch}\\nAverage epoch loss: {avg_epoch_loss:.3f}\\nAccuracy: {accuracy:.3f}\")\n",
    "        \n",
    "        if early_stopping.early_stop(avg_epoch_loss):\n",
    "            print(f'Early stopping on epoch {epoch}, validation loss: {avg_epoch_loss:.3f}, accuracy: {accuracy:.3f}')\n",
    "            break\n"
   ],
   "metadata": {
    "collapsed": false,
    "ExecuteTime": {
     "end_time": "2024-03-12T22:20:25.080541Z",
     "start_time": "2024-03-12T22:20:25.076693Z"
    }
   },
   "id": "8e5a6c43e8ad6d59",
   "execution_count": 62
  },
  {
   "cell_type": "code",
   "outputs": [],
   "source": [
    "image, label = train_dataset[0]\n",
    "model_params = {\n",
    "    \"input_size\": image.shape,\n",
    "    \"initial_filters\": BATCH_SIZE,\n",
    "    \"out_classes\": len(train_dataset.classes),\n",
    "    \"device\": \"mps\"\n",
    "}\n",
    "cnn = CNN(**model_params)\n",
    "\n",
    "criterion = nn.CrossEntropyLoss()  # weighted or not?\n",
    "optimizer = optim.SGD(cnn.parameters(), lr=0.01)\n",
    "\n",
    "n_epochs = 50"
   ],
   "metadata": {
    "collapsed": false,
    "ExecuteTime": {
     "end_time": "2024-03-12T22:20:27.305695Z",
     "start_time": "2024-03-12T22:20:27.280825Z"
    }
   },
   "id": "aeb98191dc6a9a1c",
   "execution_count": 63
  },
  {
   "cell_type": "code",
   "outputs": [
    {
     "name": "stderr",
     "output_type": "stream",
     "text": [
      "Train epoch 0:   2%|▏         | 88/4041 [00:10<04:12, 15.66it/s] Exception ignored in: <function _MultiProcessingDataLoaderIter.__del__ at 0x120b8ee80>\n",
      "Traceback (most recent call last):\n",
      "  File \"/Users/isulim/Sages/brain-cnn/.venv/lib/python3.12/site-packages/torch/utils/data/dataloader.py\", line 1479, in __del__\n",
      "    self._shutdown_workers()\n",
      "  File \"/Users/isulim/Sages/brain-cnn/.venv/lib/python3.12/site-packages/torch/utils/data/dataloader.py\", line 1443, in _shutdown_workers\n",
      "    w.join(timeout=_utils.MP_STATUS_CHECK_INTERVAL)\n",
      "  File \"/Users/isulim/.pyenv/versions/3.12.1/lib/python3.12/multiprocessing/process.py\", line 149, in join\n",
      "    res = self._popen.wait(timeout)\n",
      "          ^^^^^^^^^^^^^^^^^^^^^^^^^\n",
      "  File \"/Users/isulim/.pyenv/versions/3.12.1/lib/python3.12/multiprocessing/popen_fork.py\", line 40, in wait\n",
      "    if not wait([self.sentinel], timeout):\n",
      "           ^^^^^^^^^^^^^^^^^^^^^^^^^^^^^^\n",
      "  File \"/Users/isulim/.pyenv/versions/3.12.1/lib/python3.12/multiprocessing/connection.py\", line 1135, in wait\n",
      "    ready = selector.select(timeout)\n",
      "            ^^^^^^^^^^^^^^^^^^^^^^^^\n",
      "  File \"/Users/isulim/.pyenv/versions/3.12.1/lib/python3.12/selectors.py\", line 415, in select\n",
      "    fd_event_list = self._selector.poll(timeout)\n",
      "                    ^^^^^^^^^^^^^^^^^^^^^^^^^^^^\n",
      "KeyboardInterrupt: \n",
      "Train epoch 0:   2%|▏         | 88/4041 [00:12<09:11,  7.17it/s]\n"
     ]
    },
    {
     "ename": "KeyboardInterrupt",
     "evalue": "",
     "output_type": "error",
     "traceback": [
      "\u001B[0;31m---------------------------------------------------------------------------\u001B[0m",
      "\u001B[0;31mKeyboardInterrupt\u001B[0m                         Traceback (most recent call last)",
      "Cell \u001B[0;32mIn[64], line 1\u001B[0m\n\u001B[0;32m----> 1\u001B[0m \u001B[43mtrain\u001B[49m\u001B[43m(\u001B[49m\u001B[43mcnn\u001B[49m\u001B[43m,\u001B[49m\u001B[43m \u001B[49m\u001B[43mtrain_loader\u001B[49m\u001B[43m,\u001B[49m\u001B[43m \u001B[49m\u001B[43mval_loader\u001B[49m\u001B[43m,\u001B[49m\u001B[43m \u001B[49m\u001B[43mn_epochs\u001B[49m\u001B[43m,\u001B[49m\u001B[43m \u001B[49m\u001B[43moptimizer\u001B[49m\u001B[43m,\u001B[49m\u001B[43m \u001B[49m\u001B[43mcriterion\u001B[49m\u001B[43m,\u001B[49m\u001B[43m \u001B[49m\u001B[43mdevice\u001B[49m\u001B[38;5;241;43m=\u001B[39;49m\u001B[38;5;124;43m\"\u001B[39;49m\u001B[38;5;124;43mmps\u001B[39;49m\u001B[38;5;124;43m\"\u001B[39;49m\u001B[43m)\u001B[49m\n",
      "Cell \u001B[0;32mIn[62], line 20\u001B[0m, in \u001B[0;36mtrain\u001B[0;34m(model, train_loader, valid_loader, max_epochs, optimizer, criterion, patience, min_delta, device)\u001B[0m\n\u001B[1;32m     18\u001B[0m model\u001B[38;5;241m.\u001B[39mtrain()\n\u001B[1;32m     19\u001B[0m \u001B[38;5;28;01mfor\u001B[39;00m X_batch, y_batch \u001B[38;5;129;01min\u001B[39;00m tqdm(train_loader, desc\u001B[38;5;241m=\u001B[39m\u001B[38;5;124mf\u001B[39m\u001B[38;5;124m\"\u001B[39m\u001B[38;5;124mTrain epoch \u001B[39m\u001B[38;5;132;01m{\u001B[39;00mepoch\u001B[38;5;132;01m}\u001B[39;00m\u001B[38;5;124m: \u001B[39m\u001B[38;5;124m\"\u001B[39m):\n\u001B[0;32m---> 20\u001B[0m     X_batch \u001B[38;5;241m=\u001B[39m \u001B[43mX_batch\u001B[49m\u001B[38;5;241;43m.\u001B[39;49m\u001B[43mto\u001B[49m\u001B[43m(\u001B[49m\u001B[43mdevice\u001B[49m\u001B[43m)\u001B[49m\n\u001B[1;32m     21\u001B[0m     y_batch \u001B[38;5;241m=\u001B[39m y_batch\u001B[38;5;241m.\u001B[39mto(device)\n\u001B[1;32m     22\u001B[0m     optimizer\u001B[38;5;241m.\u001B[39mzero_grad()\n",
      "\u001B[0;31mKeyboardInterrupt\u001B[0m: "
     ]
    }
   ],
   "source": [
    "train(cnn, train_loader, val_loader, n_epochs, optimizer, criterion, device=\"mps\")"
   ],
   "metadata": {
    "collapsed": false,
    "ExecuteTime": {
     "end_time": "2024-03-12T22:20:40.434986Z",
     "start_time": "2024-03-12T22:20:28.137736Z"
    }
   },
   "id": "52edceb6e8fd75f6",
   "execution_count": 64
  },
  {
   "cell_type": "code",
   "outputs": [],
   "source": [],
   "metadata": {
    "collapsed": false
   },
   "id": "517a9075f440e91b"
  }
 ],
 "metadata": {
  "kernelspec": {
   "display_name": "Python 3",
   "language": "python",
   "name": "python3"
  },
  "language_info": {
   "codemirror_mode": {
    "name": "ipython",
    "version": 2
   },
   "file_extension": ".py",
   "mimetype": "text/x-python",
   "name": "python",
   "nbconvert_exporter": "python",
   "pygments_lexer": "ipython2",
   "version": "2.7.6"
  }
 },
 "nbformat": 4,
 "nbformat_minor": 5
}
