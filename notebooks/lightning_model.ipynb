{
 "cells": [
  {
   "cell_type": "markdown",
   "source": [
    "# Pytorch Lightning implementation\n",
    "In this notebook I will implement CNN model using Pytorch Lightning.\n",
    "This model will be more flexible, than model from `initial_experiments.ipynb`, to provide more hyperparameters for training sessions.\n"
   ],
   "metadata": {
    "collapsed": false
   },
   "id": "3adf995104ba7a5c"
  },
  {
   "cell_type": "code",
   "outputs": [],
   "source": [],
   "metadata": {
    "collapsed": false
   },
   "id": "910878ec04f8bc57"
  }
 ],
 "metadata": {
  "kernelspec": {
   "display_name": "Python 3",
   "language": "python",
   "name": "python3"
  },
  "language_info": {
   "codemirror_mode": {
    "name": "ipython",
    "version": 2
   },
   "file_extension": ".py",
   "mimetype": "text/x-python",
   "name": "python",
   "nbconvert_exporter": "python",
   "pygments_lexer": "ipython2",
   "version": "2.7.6"
  }
 },
 "nbformat": 4,
 "nbformat_minor": 5
}
