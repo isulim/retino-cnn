{
 "cells": [
  {
   "metadata": {},
   "cell_type": "markdown",
   "source": [
    "# Custom CNN classifier\n",
    "Try to build a custom CNN classifier for the dataset (using torch.nn)"
   ],
   "id": "ec1da6ebb86adfbf"
  },
  {
   "metadata": {},
   "cell_type": "markdown",
   "source": "### Dataloaders",
   "id": "5ddba451f22cf6fc"
  },
  {
   "metadata": {
    "ExecuteTime": {
     "end_time": "2024-04-21T16:36:02.596466Z",
     "start_time": "2024-04-21T16:36:00.714513Z"
    }
   },
   "cell_type": "code",
   "source": [
    "import os\n",
    "import torch\n",
    "import torchvision\n",
    "\n",
    "from pathlib import Path\n",
    "from dotenv import load_dotenv\n",
    "\n",
    "BATCH_SIZE = 8\n",
    "LOADER_WORKERS = 8\n",
    "\n",
    "load_dotenv()\n",
    "root_data = os.getenv(\"KAGGLE_FILES_DIR\")\n",
    "dataset_path = Path(os.getcwd(), \"..\", root_data)\n",
    "processed = Path(dataset_path, 'processed')\n",
    "\n",
    "\n",
    "transformations = torchvision.transforms.Compose([\n",
    "    torchvision.transforms.Resize((256, 256)),\n",
    "    torchvision.transforms.ToTensor(),\n",
    "])\n",
    "\n",
    "train_dataset = torchvision.datasets.ImageFolder(root=str(Path(processed, 'train')), transform=transformations)\n",
    "val_dataset = torchvision.datasets.ImageFolder(root=str(Path(processed, 'val')), transform=transformations)\n",
    "test_dataset = torchvision.datasets.ImageFolder(root=str(Path(processed, 'test')), transform=transformations)\n",
    "\n",
    "train_loader = torch.utils.data.DataLoader(train_dataset, batch_size=BATCH_SIZE, shuffle=True, num_workers=LOADER_WORKERS)\n",
    "val_loader = torch.utils.data.DataLoader(val_dataset, batch_size=BATCH_SIZE, shuffle=True, num_workers=LOADER_WORKERS)\n",
    "test_loader = torch.utils.data.DataLoader(test_dataset, batch_size=BATCH_SIZE, shuffle=True, num_workers=LOADER_WORKERS)\n"
   ],
   "id": "68773b2c454e6e74",
   "outputs": [],
   "execution_count": 1
  },
  {
   "metadata": {},
   "cell_type": "markdown",
   "source": "### Size of datasets",
   "id": "61dfacd04467d43"
  },
  {
   "metadata": {
    "ExecuteTime": {
     "end_time": "2024-04-21T16:36:02.607453Z",
     "start_time": "2024-04-21T16:36:02.604031Z"
    }
   },
   "cell_type": "code",
   "source": [
    "print(f\"Train dataset size: {len(train_dataset)}\")\n",
    "print(f\"Validation dataset size: {len(val_dataset)}\")\n",
    "print(f\"Test dataset size: {len(test_dataset)}\")"
   ],
   "id": "b4d4fc746202c8b3",
   "outputs": [
    {
     "name": "stdout",
     "output_type": "stream",
     "text": [
      "Train dataset size: 64654\n",
      "Validation dataset size: 18472\n",
      "Test dataset size: 9238\n"
     ]
    }
   ],
   "execution_count": 2
  },
  {
   "metadata": {},
   "cell_type": "markdown",
   "source": [
    "### Define CNN classifier\n",
    "Using CNN with 3 convolutional layers and 2 fully connected layers."
   ],
   "id": "f5a3c3d1dd9426f2"
  },
  {
   "metadata": {
    "ExecuteTime": {
     "end_time": "2024-04-21T16:36:04.281779Z",
     "start_time": "2024-04-21T16:36:04.277688Z"
    }
   },
   "cell_type": "code",
   "source": [
    "import torch\n",
    "import torch.nn as nn\n",
    "\n",
    "\n",
    "class CNN(nn.Module):\n",
    "    def __init__(self, input_size: torch.Size, initial_filters: int, out_classes: int, dropout: float = 0.25, device: str = \"cpu\", ):\n",
    "        super(CNN, self).__init__()\n",
    "        channels, _, _ = input_size\n",
    "        self.device = device\n",
    "        self.conv = nn.Sequential(\n",
    "            nn.Conv2d(channels, initial_filters, kernel_size=3, stride=1, padding=1, device=self.device),\n",
    "            nn.ReLU(),\n",
    "            nn.MaxPool2d(kernel_size=2),\n",
    "            nn.Conv2d(initial_filters, initial_filters * 2, kernel_size=3, stride=1, padding=1, device=self.device),\n",
    "            nn.ReLU(),\n",
    "            nn.MaxPool2d(kernel_size=2),\n",
    "            nn.Conv2d(initial_filters * 2, initial_filters * 4, kernel_size=3, stride=1, padding=1, device=self.device),\n",
    "            nn.ReLU(),\n",
    "            nn.MaxPool2d(kernel_size=2),\n",
    "        )\n",
    "        self.perceptron = nn.Sequential(\n",
    "            nn.Linear(self._get_conv_out_shape(input_size), initial_filters * 8, device=self.device),\n",
    "            nn.Dropout(dropout),\n",
    "            nn.Linear(initial_filters * 8, out_classes, device=self.device),\n",
    "        )\n",
    "    \n",
    "    def forward(self, x: torch.Tensor):\n",
    "        x = x.to(self.device)\n",
    "        x = self.conv(x)\n",
    "        x = x.view(x.size(0), -1)\n",
    "        x = self.perceptron(x)\n",
    "        return x\n",
    "    \n",
    "    def _get_conv_out_shape(self, input_size: torch.Size):\n",
    "        with torch.no_grad():\n",
    "            zeros = torch.zeros(*input_size, device=self.device)\n",
    "            z = self.conv(zeros)\n",
    "            z = torch.prod(torch.tensor(z.shape))\n",
    "        return z\n"
   ],
   "id": "63abf3fdc4ccd101",
   "outputs": [],
   "execution_count": 3
  },
  {
   "metadata": {},
   "cell_type": "markdown",
   "source": "### Early stopper",
   "id": "4111fef061a9116d"
  },
  {
   "metadata": {
    "ExecuteTime": {
     "end_time": "2024-04-21T16:36:05.234795Z",
     "start_time": "2024-04-21T16:36:05.232489Z"
    }
   },
   "cell_type": "code",
   "source": [
    "class EarlyStopper:\n",
    "    def __init__(self, patience: int = 5, min_delta: float = 0.001):\n",
    "        self.patience = patience\n",
    "        self.min_delta = min_delta\n",
    "        self.counter = 0\n",
    "        self.min_validation_loss = float('inf')\n",
    "\n",
    "    def early_stop(self, validation_loss):\n",
    "        if validation_loss < self.min_validation_loss:\n",
    "            self.min_validation_loss = validation_loss\n",
    "            self.counter = 0\n",
    "        elif validation_loss > (self.min_validation_loss + self.min_delta):\n",
    "            self.counter += 1\n",
    "            if self.counter >= self.patience:\n",
    "                return True\n",
    "        return False"
   ],
   "id": "14ee0616a749ccb7",
   "outputs": [],
   "execution_count": 4
  },
  {
   "metadata": {},
   "cell_type": "markdown",
   "source": [
    "### Evaluate function\n",
    "For evaluation of the model, I will use accuracy and cross-entropy loss."
   ],
   "id": "b6c992d610b7a064"
  },
  {
   "metadata": {
    "ExecuteTime": {
     "end_time": "2024-04-21T16:36:09.382992Z",
     "start_time": "2024-04-21T16:36:07.482987Z"
    }
   },
   "cell_type": "code",
   "source": [
    "import numpy as np\n",
    "\n",
    "from sklearn.metrics import precision_score, recall_score, f1_score, roc_auc_score, confusion_matrix\n",
    "from torch.utils.tensorboard import SummaryWriter\n",
    "from tqdm import tqdm\n",
    "\n",
    "def evaluate(\n",
    "        model: nn.Module, \n",
    "        valid_loader: torch.utils.data.DataLoader, \n",
    "        loss_func: nn.Module, \n",
    "        epoch_no: int, \n",
    "        writer: SummaryWriter\n",
    "):    \n",
    "    model.eval()\n",
    "    epoch_loss = 0\n",
    "    correct_class = 0\n",
    "    targets_list = []\n",
    "    preds_list = []\n",
    "    \n",
    "    dataset_size = len(valid_loader.dataset)\n",
    "    \n",
    "    with torch.no_grad():\n",
    "        device = model.device\n",
    "        for inputs, targets in tqdm(valid_loader, desc=\"Evaluation: \"):\n",
    "            inputs = inputs.to(device)\n",
    "            targets = targets.to(device)\n",
    "            output = model(inputs)\n",
    "            pred_class = torch.argmax(output, dim=1)\n",
    "            correct_class += (pred_class == targets).sum()\n",
    "            loss = loss_func(output, targets)\n",
    "            epoch_loss += loss.item() * inputs.size(0)\n",
    "            \n",
    "            # Count the number of targets and predictions\n",
    "            targets_list.append(targets.cpu().numpy())\n",
    "            preds_list.append(pred_class.cpu().numpy())\n",
    "    \n",
    "    avg_epoch_loss = epoch_loss / dataset_size\n",
    "    accuracy = correct_class / dataset_size\n",
    "    \n",
    "    targets_np = np.concatenate(targets_list)\n",
    "    preds_np = np.concatenate(preds_list)\n",
    "\n",
    "    confusion_mat = confusion_matrix(targets_np, preds_np)\n",
    "    precision = precision_score(targets_np, preds_np)\n",
    "    recall = recall_score(targets_np, preds_np)\n",
    "    f1 = f1_score(targets_np, preds_np)\n",
    "    roc_auc = roc_auc_score(targets_np, preds_np)\n",
    "    \n",
    "    print(f\"\"\"Epoch: {epoch_no}\n",
    "        Average epoch loss: {avg_epoch_loss}\n",
    "        Confusion matrix: {confusion_mat}\n",
    "        Accuracy: {accuracy}\n",
    "        Precision: {precision:}\n",
    "        Recall: {recall}\n",
    "        F1: {f1}\n",
    "        ROC AUC: {roc_auc}\"\"\")\n",
    "\n",
    "    writer.add_scalar('Loss/train', avg_epoch_loss, epoch_no)\n",
    "    writer.add_scalar('Accuracy/train', accuracy, epoch_no)\n",
    "    writer.add_scalar('Precision/train', precision, epoch_no)\n",
    "    writer.add_scalar('Recall/train', recall, epoch_no)\n",
    "    writer.add_scalar('F1/train', f1, epoch_no)\n",
    "    writer.add_scalar('ROC AUC/train', roc_auc, epoch_no)\n",
    "    \n",
    "    \n",
    "    return avg_epoch_loss, accuracy, precision, recall, f1, roc_auc, confusion_mat"
   ],
   "id": "cec069608117b7cb",
   "outputs": [],
   "execution_count": 5
  },
  {
   "metadata": {},
   "cell_type": "markdown",
   "source": "### Train function\n",
   "id": "653803ad0fee79d8"
  },
  {
   "metadata": {
    "ExecuteTime": {
     "end_time": "2024-04-21T16:36:09.387730Z",
     "start_time": "2024-04-21T16:36:09.384031Z"
    }
   },
   "cell_type": "code",
   "source": [
    "import torch.optim as optim\n",
    "\n",
    "def train(\n",
    "        model: nn.Module, \n",
    "        train_loader: torch.utils.data.DataLoader,\n",
    "        valid_loader: torch.utils.data.DataLoader,\n",
    "        max_epochs: int,\n",
    "        optimizer: optim.Optimizer, \n",
    "        loss_func: nn.Module,\n",
    "        patience: int = 3,\n",
    "        min_delta: float = 0.001,\n",
    "):\n",
    "    \n",
    "    writer = SummaryWriter('../runs/baseline_lr01_delta001_100eps')\n",
    "    device = model.device\n",
    "    early_stopping = EarlyStopper(patience=patience, min_delta=min_delta)\n",
    "    best_avg_loss = float('inf')\n",
    "    lr_scheduler = optim.lr_scheduler.StepLR(optimizer, step_size=20, gamma=0.1)\n",
    "    for epoch in range(1, max_epochs + 1):\n",
    "        model.train()\n",
    "        for inputs, targets in tqdm(train_loader, desc=f\"Train epoch {epoch}: \"):\n",
    "            inputs = inputs.to(device)\n",
    "            targets = targets.to(device)\n",
    "            optimizer.zero_grad()\n",
    "            predicted = model(inputs)\n",
    "            loss = loss_func(predicted, targets)\n",
    "            loss.backward()\n",
    "            optimizer.step()\n",
    "        \n",
    "        avg_epoch_loss, accuracy, precision, recall, f1, roc_auc, confusion_mat = evaluate(model, valid_loader, loss_func, epoch, writer)\n",
    "        \n",
    "        lr_scheduler.step()\n",
    "        \n",
    "        if avg_epoch_loss < best_avg_loss:\n",
    "            best_avg_loss = avg_epoch_loss\n",
    "            torch.save(model.state_dict(), \"../models/best_model_100eps.pt\")\n",
    "            print(f\"Model saved on epoch {epoch}\")\n",
    "            \n",
    "        if early_stopping.early_stop(avg_epoch_loss):\n",
    "            print(f'''Early stopping on epoch {epoch}\n",
    "            Validation loss: {avg_epoch_loss}\n",
    "            Accuracy: {accuracy}\n",
    "            Confusion Matrix: {confusion_mat}\n",
    "            Precision: {precision}\n",
    "            Recall: {recall}\n",
    "            F1: {f1}\n",
    "            ROC AUC: {roc_auc}''')\n",
    "            break\n",
    "    \n",
    "    writer.close()\n"
   ],
   "id": "b7f04d09ae1e2d07",
   "outputs": [],
   "execution_count": 6
  },
  {
   "metadata": {},
   "cell_type": "markdown",
   "source": "### Define training parameters",
   "id": "2dbf48de0cc3c814"
  },
  {
   "metadata": {
    "ExecuteTime": {
     "end_time": "2024-04-21T16:36:10.519584Z",
     "start_time": "2024-04-21T16:36:10.288485Z"
    }
   },
   "cell_type": "code",
   "source": [
    "image, label = train_dataset[0]\n",
    "\n",
    "DEVICE = \"cuda\" if torch.cuda.is_available() else \"mps\" if torch.backends.mps.is_available() else \"cpu\"\n",
    "\n",
    "model_params = {\n",
    "    \"input_size\": image.shape,\n",
    "    \"initial_filters\": 8,\n",
    "    \"out_classes\": len(train_dataset.classes),\n",
    "    \"device\": DEVICE\n",
    "}\n",
    "cnn = CNN(**model_params)\n",
    "\n",
    "loss_func = nn.CrossEntropyLoss()\n",
    "optimizer = optim.SGD(cnn.parameters(), lr=0.01)\n",
    "\n",
    "n_epochs = 100"
   ],
   "id": "95a7e451d1d019ac",
   "outputs": [],
   "execution_count": 7
  },
  {
   "metadata": {},
   "cell_type": "markdown",
   "source": "## Train custom model - establish baseline",
   "id": "4145640595fd80aa"
  },
  {
   "metadata": {
    "ExecuteTime": {
     "end_time": "2024-04-21T17:18:48.817848Z",
     "start_time": "2024-04-21T16:36:12.992988Z"
    }
   },
   "cell_type": "code",
   "source": "train(cnn, train_loader, val_loader, n_epochs, optimizer, loss_func)",
   "id": "d08b44726115c897",
   "outputs": [
    {
     "name": "stderr",
     "output_type": "stream",
     "text": [
      "Train epoch 1: 100%|██████████| 8082/8082 [02:46<00:00, 48.53it/s]\n",
      "Evaluation: 100%|██████████| 2309/2309 [01:20<00:00, 28.76it/s]\n",
      "/Users/isulim/Sages/retino-cnn/.venv/lib/python3.12/site-packages/sklearn/metrics/_classification.py:1509: UndefinedMetricWarning: Precision is ill-defined and being set to 0.0 due to no predicted samples. Use `zero_division` parameter to control this behavior.\n",
      "  _warn_prf(average, modifier, f\"{metric.capitalize()} is\", len(result))\n"
     ]
    },
    {
     "name": "stdout",
     "output_type": "stream",
     "text": [
      "Epoch: 1\n",
      "        Average epoch loss: 0.579197199068941\n",
      "        Confusion matrix: [[13429     0]\n",
      " [ 5043     0]]\n",
      "        Accuracy: 0.7269921898841858\n",
      "        Precision: 0.0\n",
      "        Recall: 0.0\n",
      "        F1: 0.0\n",
      "        ROC AUC: 0.5\n",
      "Model saved on epoch 1\n"
     ]
    },
    {
     "name": "stderr",
     "output_type": "stream",
     "text": [
      "Train epoch 2: 100%|██████████| 8082/8082 [02:33<00:00, 52.68it/s]\n",
      "Evaluation: 100%|██████████| 2309/2309 [01:16<00:00, 30.01it/s]\n"
     ]
    },
    {
     "name": "stdout",
     "output_type": "stream",
     "text": [
      "Epoch: 2\n",
      "        Average epoch loss: 0.5708402025074916\n",
      "        Confusion matrix: [[13236   193]\n",
      " [ 4668   375]]\n",
      "        Accuracy: 0.7368449568748474\n",
      "        Precision: 0.6602112676056338\n",
      "        Recall: 0.074360499702558\n",
      "        F1: 0.13366601318837998\n",
      "        ROC AUC: 0.5299943089770516\n",
      "Model saved on epoch 2\n"
     ]
    },
    {
     "name": "stderr",
     "output_type": "stream",
     "text": [
      "Train epoch 3: 100%|██████████| 8082/8082 [02:32<00:00, 52.91it/s]\n",
      "Evaluation: 100%|██████████| 2309/2309 [01:17<00:00, 29.92it/s]\n"
     ]
    },
    {
     "name": "stdout",
     "output_type": "stream",
     "text": [
      "Epoch: 3\n",
      "        Average epoch loss: 0.5648014833460953\n",
      "        Confusion matrix: [[13418    11]\n",
      " [ 4773   270]]\n",
      "        Accuracy: 0.7410134077072144\n",
      "        Precision: 0.9608540925266904\n",
      "        Recall: 0.05353955978584176\n",
      "        F1: 0.10142749812171299\n",
      "        ROC AUC: 0.5263602184959442\n",
      "Model saved on epoch 3\n"
     ]
    },
    {
     "name": "stderr",
     "output_type": "stream",
     "text": [
      "Train epoch 4: 100%|██████████| 8082/8082 [02:32<00:00, 52.93it/s]\n",
      "Evaluation: 100%|██████████| 2309/2309 [01:16<00:00, 30.06it/s]\n"
     ]
    },
    {
     "name": "stdout",
     "output_type": "stream",
     "text": [
      "Epoch: 4\n",
      "        Average epoch loss: 0.5668822142431467\n",
      "        Confusion matrix: [[13270   159]\n",
      " [ 4640   403]]\n",
      "        Accuracy: 0.7402014136314392\n",
      "        Precision: 0.7170818505338078\n",
      "        Recall: 0.07991275034701567\n",
      "        F1: 0.14380017841213202\n",
      "        ROC AUC: 0.5340363513444811\n"
     ]
    },
    {
     "name": "stderr",
     "output_type": "stream",
     "text": [
      "Train epoch 5: 100%|██████████| 8082/8082 [02:33<00:00, 52.74it/s]\n",
      "Evaluation: 100%|██████████| 2309/2309 [01:16<00:00, 30.13it/s]\n"
     ]
    },
    {
     "name": "stdout",
     "output_type": "stream",
     "text": [
      "Epoch: 5\n",
      "        Average epoch loss: 0.5550422505247691\n",
      "        Confusion matrix: [[13385    44]\n",
      " [ 4711   332]]\n",
      "        Accuracy: 0.7425833940505981\n",
      "        Precision: 0.8829787234042553\n",
      "        Recall: 0.06583382906999802\n",
      "        F1: 0.12253183244140986\n",
      "        ROC AUC: 0.5312786689470923\n",
      "Model saved on epoch 5\n"
     ]
    },
    {
     "name": "stderr",
     "output_type": "stream",
     "text": [
      "Train epoch 6: 100%|██████████| 8082/8082 [02:32<00:00, 53.06it/s]\n",
      "Evaluation: 100%|██████████| 2309/2309 [01:16<00:00, 30.00it/s]\n"
     ]
    },
    {
     "name": "stdout",
     "output_type": "stream",
     "text": [
      "Epoch: 6\n",
      "        Average epoch loss: 0.5535723947959836\n",
      "        Confusion matrix: [[13377    52]\n",
      " [ 4678   365]]\n",
      "        Accuracy: 0.7439367771148682\n",
      "        Precision: 0.8752997601918465\n",
      "        Recall: 0.07237755304382312\n",
      "        F1: 0.1336996336996337\n",
      "        ROC AUC: 0.5342526680998398\n",
      "Model saved on epoch 6\n"
     ]
    },
    {
     "name": "stderr",
     "output_type": "stream",
     "text": [
      "Train epoch 7: 100%|██████████| 8082/8082 [02:39<00:00, 50.59it/s]\n",
      "Evaluation: 100%|██████████| 2309/2309 [01:18<00:00, 29.43it/s]\n"
     ]
    },
    {
     "name": "stdout",
     "output_type": "stream",
     "text": [
      "Epoch: 7\n",
      "        Average epoch loss: 0.5491353556830009\n",
      "        Confusion matrix: [[13363    66]\n",
      " [ 4680   363]]\n",
      "        Accuracy: 0.7430706024169922\n",
      "        Precision: 0.8461538461538461\n",
      "        Recall: 0.07198096371207614\n",
      "        F1: 0.13267543859649122\n",
      "        ROC AUC: 0.5335331134741779\n",
      "Model saved on epoch 7\n"
     ]
    },
    {
     "name": "stderr",
     "output_type": "stream",
     "text": [
      "Train epoch 8: 100%|██████████| 8082/8082 [02:34<00:00, 52.47it/s]\n",
      "Evaluation: 100%|██████████| 2309/2309 [01:18<00:00, 29.41it/s]\n"
     ]
    },
    {
     "name": "stdout",
     "output_type": "stream",
     "text": [
      "Epoch: 8\n",
      "        Average epoch loss: 0.5501335976107289\n",
      "        Confusion matrix: [[13373    56]\n",
      " [ 4674   369]]\n",
      "        Accuracy: 0.7439367771148682\n",
      "        Precision: 0.8682352941176471\n",
      "        Recall: 0.07317073170731707\n",
      "        F1: 0.13496708119970738\n",
      "        ROC AUC: 0.5345003260145044\n"
     ]
    },
    {
     "name": "stderr",
     "output_type": "stream",
     "text": [
      "Train epoch 9: 100%|██████████| 8082/8082 [02:33<00:00, 52.59it/s]\n",
      "Evaluation: 100%|██████████| 2309/2309 [01:16<00:00, 30.00it/s]\n"
     ]
    },
    {
     "name": "stdout",
     "output_type": "stream",
     "text": [
      "Epoch: 9\n",
      "        Average epoch loss: 0.5690172168826737\n",
      "        Confusion matrix: [[13396    33]\n",
      " [ 4689   354]]\n",
      "        Accuracy: 0.7443698644638062\n",
      "        Precision: 0.9147286821705426\n",
      "        Recall: 0.07019631171921475\n",
      "        F1: 0.13038674033149172\n",
      "        ROC AUC: 0.5338694716686773\n"
     ]
    },
    {
     "name": "stderr",
     "output_type": "stream",
     "text": [
      "Train epoch 10: 100%|██████████| 8082/8082 [02:31<00:00, 53.40it/s]\n",
      "Evaluation: 100%|██████████| 2309/2309 [01:17<00:00, 29.75it/s]\n"
     ]
    },
    {
     "name": "stdout",
     "output_type": "stream",
     "text": [
      "Epoch: 10\n",
      "        Average epoch loss: 0.5531532375481595\n",
      "        Confusion matrix: [[13373    56]\n",
      " [ 4670   373]]\n",
      "        Accuracy: 0.7441533207893372\n",
      "        Precision: 0.8694638694638694\n",
      "        Recall: 0.07396391037081103\n",
      "        F1: 0.13633040935672514\n",
      "        ROC AUC: 0.5348969153462514\n"
     ]
    },
    {
     "name": "stderr",
     "output_type": "stream",
     "text": [
      "Train epoch 11: 100%|██████████| 8082/8082 [02:31<00:00, 53.43it/s]\n",
      "Evaluation: 100%|██████████| 2309/2309 [01:17<00:00, 29.92it/s]"
     ]
    },
    {
     "name": "stdout",
     "output_type": "stream",
     "text": [
      "Epoch: 11\n",
      "        Average epoch loss: 0.5515866273922959\n",
      "        Confusion matrix: [[13364    65]\n",
      " [ 4677   366]]\n",
      "        Accuracy: 0.7432871460914612\n",
      "        Precision: 0.8491879350348028\n",
      "        Recall: 0.0725758477096966\n",
      "        F1: 0.13372305443916696\n",
      "        ROC AUC: 0.5338677883272589\n",
      "Early stopping on epoch 11\n",
      "            Validation loss: 0.5515866273922959\n",
      "            Accuracy: 0.7432871460914612\n",
      "            Confusion Matrix: [[13364    65]\n",
      " [ 4677   366]]\n",
      "            Precision: 0.8491879350348028\n",
      "            Recall: 0.0725758477096966\n",
      "            F1: 0.13372305443916696\n",
      "            ROC AUC: 0.5338677883272589\n"
     ]
    },
    {
     "name": "stderr",
     "output_type": "stream",
     "text": [
      "\n"
     ]
    }
   ],
   "execution_count": 8
  },
  {
   "metadata": {},
   "cell_type": "markdown",
   "source": [
    "## Baseline\n",
    "\n",
    "#### Final accuracy is 74% - just a bit better, than the random guess.\n",
    "\n",
    "- CNN model:\n",
    "    - 3 convolutional layers, each with padding 1, kernel size 3, stride 1\n",
    "        - ReLU activation function after each convolutional layer\n",
    "        - max pooling after each convolutional layer, kernel size 2\n",
    "        - 8 initial filters\n",
    "    - 2 fully connected layers\n",
    "    - Dropout of 0.25 between FC layers\n",
    "- Images: \n",
    "    - rezised to 256x256 \n",
    "    - no augmentation\n",
    "    - no normalization\n",
    "    - no grayscale conversion\n",
    "    - 3 channels\n",
    "    - 70%/20%/10% split\n",
    "- Dataloaders:\n",
    "    - Batch size of 8\n",
    "    - 8 workers\n",
    "    - Shuffled\n",
    "    - No pin memory\n",
    "    - No drop last\n",
    "Training and validation:\n",
    "    - use GPU available (CUDA or MPS)\n",
    "    - max 100 epochs\n",
    "    - Learning rate of 0.01\n",
    "    - Early stopping with patience of 3 epochs and minimum delta of 0.001\n",
    "    - Loss function: Cross-entropy\n",
    "    - Optimizer: SGD\n",
    "    - Scheduler: StepLR with step size of 20 and gamma of 0.1"
   ],
   "id": "2362feb7204cf3d"
  },
  {
   "metadata": {},
   "cell_type": "code",
   "outputs": [],
   "execution_count": null,
   "source": "",
   "id": "23d86a3bf4e1ab19"
  }
 ],
 "metadata": {
  "kernelspec": {
   "display_name": "Python 3",
   "language": "python",
   "name": "python3"
  },
  "language_info": {
   "codemirror_mode": {
    "name": "ipython",
    "version": 2
   },
   "file_extension": ".py",
   "mimetype": "text/x-python",
   "name": "python",
   "nbconvert_exporter": "python",
   "pygments_lexer": "ipython2",
   "version": "2.7.6"
  }
 },
 "nbformat": 4,
 "nbformat_minor": 5
}
