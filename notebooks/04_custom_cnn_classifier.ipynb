{
 "cells": [
  {
   "metadata": {},
   "cell_type": "markdown",
   "source": [
    "# Custom CNN classifier\n",
    "Try to build a custom CNN classifier for the dataset"
   ],
   "id": "ec1da6ebb86adfbf"
  },
  {
   "metadata": {},
   "cell_type": "markdown",
   "source": "### Dataloaders",
   "id": "5ddba451f22cf6fc"
  },
  {
   "metadata": {
    "ExecuteTime": {
     "end_time": "2024-04-19T20:40:33.548739Z",
     "start_time": "2024-04-19T20:40:32.196556Z"
    }
   },
   "cell_type": "code",
   "source": [
    "import os\n",
    "import torch\n",
    "import torchvision\n",
    "\n",
    "from pathlib import Path\n",
    "from dotenv import load_dotenv\n",
    "\n",
    "BATCH_SIZE = 8\n",
    "LOADER_WORKERS = 8\n",
    "\n",
    "load_dotenv()\n",
    "root_data = os.getenv(\"KAGGLE_FILES_DIR\")\n",
    "dataset_path = Path(os.getcwd(), \"..\", root_data)\n",
    "processed = Path(dataset_path, 'processed')\n",
    "\n",
    "\n",
    "transformations = torchvision.transforms.Compose([\n",
    "    torchvision.transforms.Resize((256, 256)),\n",
    "    torchvision.transforms.ToTensor(),\n",
    "])\n",
    "\n",
    "train_dataset = torchvision.datasets.ImageFolder(root=str(Path(processed, 'train')), transform=transformations)\n",
    "val_dataset = torchvision.datasets.ImageFolder(root=str(Path(processed, 'val')), transform=transformations)\n",
    "test_dataset = torchvision.datasets.ImageFolder(root=str(Path(processed, 'test')), transform=transformations)\n",
    "\n",
    "train_loader = torch.utils.data.DataLoader(train_dataset, batch_size=BATCH_SIZE, shuffle=True, num_workers=LOADER_WORKERS)\n",
    "val_loader = torch.utils.data.DataLoader(val_dataset, batch_size=BATCH_SIZE, shuffle=True, num_workers=LOADER_WORKERS)\n",
    "test_loader = torch.utils.data.DataLoader(test_dataset, batch_size=BATCH_SIZE, shuffle=True, num_workers=LOADER_WORKERS)\n"
   ],
   "id": "68773b2c454e6e74",
   "outputs": [],
   "execution_count": 4
  },
  {
   "metadata": {},
   "cell_type": "markdown",
   "source": "### Size of datasets",
   "id": "61dfacd04467d43"
  },
  {
   "metadata": {
    "ExecuteTime": {
     "end_time": "2024-04-19T20:40:48.384098Z",
     "start_time": "2024-04-19T20:40:48.382186Z"
    }
   },
   "cell_type": "code",
   "source": [
    "print(f\"Train dataset size: {len(train_dataset)}\")\n",
    "print(f\"Validation dataset size: {len(val_dataset)}\")\n",
    "print(f\"Test dataset size: {len(test_dataset)}\")"
   ],
   "id": "b4d4fc746202c8b3",
   "outputs": [
    {
     "name": "stdout",
     "output_type": "stream",
     "text": [
      "Train dataset size: 64654\n",
      "Validation dataset size: 18472\n",
      "Test dataset size: 9238\n"
     ]
    }
   ],
   "execution_count": 5
  },
  {
   "metadata": {},
   "cell_type": "markdown",
   "source": [
    "### Define CNN classifier\n",
    "Using CNN with 3 convolutional layers and 2 fully connected layers."
   ],
   "id": "f5a3c3d1dd9426f2"
  },
  {
   "metadata": {
    "ExecuteTime": {
     "end_time": "2024-04-19T20:41:10.660248Z",
     "start_time": "2024-04-19T20:41:10.654414Z"
    }
   },
   "cell_type": "code",
   "source": [
    "import torch\n",
    "import torch.nn as nn\n",
    "\n",
    "\n",
    "class CNN(nn.Module):\n",
    "    def __init__(self, input_size: torch.Size, initial_filters: int, out_classes: int, dropout: float = 0.25, device: str = \"cpu\", ):\n",
    "        super(CNN, self).__init__()\n",
    "        channels, _, _ = input_size\n",
    "        self.device = device\n",
    "        self.conv = nn.Sequential(\n",
    "            nn.Conv2d(channels, initial_filters, kernel_size=3, stride=1, padding=1, device=self.device),\n",
    "            nn.ReLU(),\n",
    "            nn.MaxPool2d(kernel_size=2),\n",
    "            nn.Conv2d(initial_filters, initial_filters * 2, kernel_size=3, stride=1, padding=1, device=self.device),\n",
    "            nn.ReLU(),\n",
    "            nn.MaxPool2d(kernel_size=2),\n",
    "            nn.Conv2d(initial_filters * 2, initial_filters * 4, kernel_size=3, stride=1, padding=1, device=self.device),\n",
    "            nn.ReLU(),\n",
    "            nn.MaxPool2d(kernel_size=2),\n",
    "        )\n",
    "        self.perceptron = nn.Sequential(\n",
    "            nn.Linear(self._get_conv_out_shape(input_size), initial_filters * 8, device=self.device),\n",
    "            nn.Dropout(dropout),\n",
    "            nn.Linear(initial_filters * 8, out_classes, device=self.device),\n",
    "        )\n",
    "    \n",
    "    def forward(self, x: torch.Tensor):\n",
    "        x = x.to(self.device)\n",
    "        x = self.conv(x)\n",
    "        x = x.view(x.size(0), -1)\n",
    "        x = self.perceptron(x)\n",
    "        return x\n",
    "    \n",
    "    def _get_conv_out_shape(self, input_size: torch.Size):\n",
    "        with torch.no_grad():\n",
    "            zeros = torch.zeros(*input_size, device=self.device)\n",
    "            z = self.conv(zeros)\n",
    "            z = torch.prod(torch.tensor(z.shape))\n",
    "        return z\n"
   ],
   "id": "63abf3fdc4ccd101",
   "outputs": [],
   "execution_count": 6
  },
  {
   "metadata": {},
   "cell_type": "markdown",
   "source": "### Early stopper",
   "id": "4111fef061a9116d"
  },
  {
   "metadata": {
    "ExecuteTime": {
     "end_time": "2024-04-19T20:41:18.445770Z",
     "start_time": "2024-04-19T20:41:18.443619Z"
    }
   },
   "cell_type": "code",
   "source": [
    "class EarlyStopper:\n",
    "    def __init__(self, patience: int = 5, min_delta: float = 0.001):\n",
    "        self.patience = patience\n",
    "        self.min_delta = min_delta\n",
    "        self.counter = 0\n",
    "        self.min_validation_loss = float('inf')\n",
    "\n",
    "    def early_stop(self, validation_loss):\n",
    "        if validation_loss < self.min_validation_loss:\n",
    "            self.min_validation_loss = validation_loss\n",
    "            self.counter = 0\n",
    "        elif validation_loss > (self.min_validation_loss + self.min_delta):\n",
    "            self.counter += 1\n",
    "            if self.counter >= self.patience:\n",
    "                return True\n",
    "        return False"
   ],
   "id": "14ee0616a749ccb7",
   "outputs": [],
   "execution_count": 7
  },
  {
   "metadata": {},
   "cell_type": "markdown",
   "source": [
    "### Evaluate function\n",
    "For evaluation of the model, I will use accuracy and cross-entropy loss."
   ],
   "id": "b6c992d610b7a064"
  },
  {
   "metadata": {
    "ExecuteTime": {
     "end_time": "2024-04-19T20:47:20.088669Z",
     "start_time": "2024-04-19T20:47:20.083348Z"
    }
   },
   "cell_type": "code",
   "source": [
    "import numpy as np\n",
    "\n",
    "from sklearn.metrics import precision_score, recall_score, f1_score, roc_auc_score, confusion_matrix\n",
    "from torch.utils.tensorboard import SummaryWriter\n",
    "from tqdm import tqdm\n",
    "\n",
    "def evaluate(\n",
    "        model: nn.Module, \n",
    "        valid_loader: torch.utils.data.DataLoader, \n",
    "        loss_func: nn.Module, \n",
    "        epoch_no: int, \n",
    "        writer: SummaryWriter\n",
    "):    \n",
    "    model.eval()\n",
    "    epoch_loss = 0\n",
    "    correct_class = 0\n",
    "    targets_list = []\n",
    "    preds_list = []\n",
    "    \n",
    "    dataset_size = len(valid_loader.dataset)\n",
    "    \n",
    "    with torch.no_grad():\n",
    "        device = model.device\n",
    "        for inputs, targets in tqdm(valid_loader, desc=\"Evaluation: \"):\n",
    "            inputs = inputs.to(device)\n",
    "            targets = targets.to(device)\n",
    "            output = model(inputs)\n",
    "            pred_class = torch.argmax(output, dim=1)\n",
    "            correct_class += (pred_class == targets).sum()\n",
    "            loss = loss_func(output, targets)\n",
    "            epoch_loss += loss.item() * inputs.size(0)\n",
    "            \n",
    "            # Count the number of targets and predictions\n",
    "            targets_list.append(targets.cpu().numpy())\n",
    "            preds_list.append(pred_class.cpu().numpy())\n",
    "    \n",
    "    avg_epoch_loss = epoch_loss / dataset_size\n",
    "    accuracy = correct_class / dataset_size\n",
    "    \n",
    "    targets_np = np.concatenate(targets_list)\n",
    "    preds_np = np.concatenate(preds_list)\n",
    "\n",
    "    confusion_mat = confusion_matrix(targets_np, preds_np)\n",
    "    precision = precision_score(targets_np, preds_np)\n",
    "    recall = recall_score(targets_np, preds_np)\n",
    "    f1 = f1_score(targets_np, preds_np)\n",
    "    roc_auc = roc_auc_score(targets_np, preds_np)\n",
    "    \n",
    "    print(f\"\"\"Epoch: {epoch_no}\n",
    "        Average epoch loss: {avg_epoch_loss}\n",
    "        Confusion matrix: {confusion_mat}\n",
    "        Accuracy: {accuracy}\n",
    "        Precision: {precision:}\n",
    "        Recall: {recall}\n",
    "        F1: {f1}\n",
    "        ROC AUC: {roc_auc}\"\"\")\n",
    "\n",
    "    writer.add_scalar('Loss/train', avg_epoch_loss, epoch_no)\n",
    "    writer.add_scalar('Accuracy/train', accuracy, epoch_no)\n",
    "    writer.add_scalar('Precision/train', precision, epoch_no)\n",
    "    writer.add_scalar('Recall/train', recall, epoch_no)\n",
    "    writer.add_scalar('F1/train', f1, epoch_no)\n",
    "    writer.add_scalar('ROC AUC/train', roc_auc, epoch_no)\n",
    "    \n",
    "    \n",
    "    return avg_epoch_loss, accuracy, precision, recall, f1, roc_auc, confusion_mat"
   ],
   "id": "cec069608117b7cb",
   "outputs": [],
   "execution_count": 12
  },
  {
   "metadata": {},
   "cell_type": "markdown",
   "source": "### Train function\n",
   "id": "653803ad0fee79d8"
  },
  {
   "metadata": {
    "ExecuteTime": {
     "end_time": "2024-04-19T20:47:20.848891Z",
     "start_time": "2024-04-19T20:47:20.842801Z"
    }
   },
   "cell_type": "code",
   "source": [
    "import torch.optim as optim\n",
    "\n",
    "def train(\n",
    "        model: nn.Module, \n",
    "        train_loader: torch.utils.data.DataLoader,\n",
    "        valid_loader: torch.utils.data.DataLoader,\n",
    "        max_epochs: int,\n",
    "        optimizer: optim.Optimizer, \n",
    "        loss_func: nn.Module,\n",
    "        patience: int = 3,\n",
    "        min_delta: float = 0.001,\n",
    "):\n",
    "    \n",
    "    writer = SummaryWriter('../runs/baseline_lr01_delta001_100eps')\n",
    "    device = model.device\n",
    "    early_stopping = EarlyStopper(patience=patience, min_delta=min_delta)\n",
    "    best_avg_loss = float('inf')\n",
    "    lr_scheduler = optim.lr_scheduler.StepLR(optimizer, step_size=20, gamma=0.1)\n",
    "    for epoch in range(1, max_epochs + 1):\n",
    "        model.train()\n",
    "        for inputs, targets in tqdm(train_loader, desc=f\"Train epoch {epoch}: \"):\n",
    "            inputs = inputs.to(device)\n",
    "            targets = targets.to(device)\n",
    "            optimizer.zero_grad()\n",
    "            predicted = model(inputs)\n",
    "            loss = loss_func(predicted, targets)\n",
    "            loss.backward()\n",
    "            optimizer.step()\n",
    "        \n",
    "        avg_epoch_loss, accuracy, precision, recall, f1, roc_auc, confusion_mat = evaluate(model, valid_loader, loss_func, epoch, writer)\n",
    "        \n",
    "        lr_scheduler.step()\n",
    "        \n",
    "        if avg_epoch_loss < best_avg_loss:\n",
    "            best_avg_loss = avg_epoch_loss\n",
    "            torch.save(model.state_dict(), \"../models/best_model_100eps.pt\")\n",
    "            print(f\"Model saved on epoch {epoch}\")\n",
    "            \n",
    "        if early_stopping.early_stop(avg_epoch_loss):\n",
    "            print(f'''Early stopping on epoch {epoch}\n",
    "            Validation loss: {avg_epoch_loss}\n",
    "            Accuracy: {accuracy}\n",
    "            Confusion Matrix: {confusion_mat}\n",
    "            Precision: {precision}\n",
    "            Recall: {recall}\n",
    "            F1: {f1}\n",
    "            ROC AUC: {roc_auc}''')\n",
    "            break\n",
    "    \n",
    "    writer.close()\n"
   ],
   "id": "b7f04d09ae1e2d07",
   "outputs": [],
   "execution_count": 13
  },
  {
   "metadata": {},
   "cell_type": "markdown",
   "source": "### Define training parameters",
   "id": "2dbf48de0cc3c814"
  },
  {
   "metadata": {
    "ExecuteTime": {
     "end_time": "2024-04-19T20:47:45.997031Z",
     "start_time": "2024-04-19T20:47:45.354118Z"
    }
   },
   "cell_type": "code",
   "source": [
    "image, label = train_dataset[0]\n",
    "\n",
    "DEVICE = \"cuda\" if torch.cuda.is_available() else \"mps\" if torch.backends.mps.is_available() else \"cpu\"\n",
    "\n",
    "model_params = {\n",
    "    \"input_size\": image.shape,\n",
    "    \"initial_filters\": 8,\n",
    "    \"out_classes\": len(train_dataset.classes),\n",
    "    \"device\": DEVICE\n",
    "}\n",
    "cnn = CNN(**model_params)\n",
    "\n",
    "loss_func = nn.CrossEntropyLoss()\n",
    "optimizer = optim.SGD(cnn.parameters(), lr=0.01)\n",
    "\n",
    "n_epochs = 100"
   ],
   "id": "95a7e451d1d019ac",
   "outputs": [],
   "execution_count": 14
  },
  {
   "metadata": {},
   "cell_type": "markdown",
   "source": "## Train custom model - establish baseline",
   "id": "4145640595fd80aa"
  },
  {
   "metadata": {},
   "cell_type": "code",
   "outputs": [],
   "execution_count": null,
   "source": "train(cnn, train_loader, val_loader, n_epochs, optimizer, loss_func)",
   "id": "d08b44726115c897"
  }
 ],
 "metadata": {
  "kernelspec": {
   "display_name": "Python 3",
   "language": "python",
   "name": "python3"
  },
  "language_info": {
   "codemirror_mode": {
    "name": "ipython",
    "version": 2
   },
   "file_extension": ".py",
   "mimetype": "text/x-python",
   "name": "python",
   "nbconvert_exporter": "python",
   "pygments_lexer": "ipython2",
   "version": "2.7.6"
  }
 },
 "nbformat": 4,
 "nbformat_minor": 5
}
